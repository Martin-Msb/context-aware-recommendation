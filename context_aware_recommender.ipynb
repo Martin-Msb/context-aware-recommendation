{
 "cells": [
  {
   "cell_type": "markdown",
   "metadata": {
    "colab_type": "text",
    "id": "view-in-github"
   },
   "source": [
    "<a href=\"https://colab.research.google.com/github/Martin-Msb/context-aware-recommendation/blob/main/context_aware_recommender.ipynb\" target=\"_parent\"><img src=\"https://colab.research.google.com/assets/colab-badge.svg\" alt=\"Open In Colab\"/></a>"
   ]
  },
  {
   "cell_type": "markdown",
   "metadata": {
    "id": "a7940b54"
   },
   "source": [
    "### This research notebook is part of DAMI II course at DSV - HT2022\n",
    "\n",
    "### Authors: © 2022 Martin Masaba & Edda Waciira"
   ]
  },
  {
   "cell_type": "markdown",
   "metadata": {},
   "source": [
    "## Structure of Notebook\n",
    "\n",
    "1. Background\n",
    "2. Overview of Recommendation systems\n",
    "3. Explicit vs Implicit Feedback\n",
    "4. Data Processing\n",
    "5. Training, validation & Testing"
   ]
  },
  {
   "cell_type": "markdown",
   "metadata": {},
   "source": [
    "**1. Background**"
   ]
  },
  {
   "cell_type": "code",
   "execution_count": null,
   "metadata": {},
   "outputs": [],
   "source": []
  },
  {
   "cell_type": "code",
   "execution_count": null,
   "metadata": {},
   "outputs": [],
   "source": []
  },
  {
   "cell_type": "markdown",
   "metadata": {},
   "source": [
    "\n",
    "**2. Overview of Recommendation systems**"
   ]
  },
  {
   "cell_type": "markdown",
   "metadata": {},
   "source": [
    "**2.1 Clasical Recommendation Systems** "
   ]
  },
  {
   "cell_type": "code",
   "execution_count": null,
   "metadata": {},
   "outputs": [],
   "source": []
  },
  {
   "cell_type": "code",
   "execution_count": null,
   "metadata": {},
   "outputs": [],
   "source": []
  },
  {
   "cell_type": "markdown",
   "metadata": {},
   "source": [
    "**2.2 Context-Aware Recommendations**"
   ]
  },
  {
   "cell_type": "code",
   "execution_count": null,
   "metadata": {},
   "outputs": [],
   "source": []
  },
  {
   "cell_type": "code",
   "execution_count": null,
   "metadata": {},
   "outputs": [],
   "source": []
  },
  {
   "cell_type": "markdown",
   "metadata": {},
   "source": [
    "\n",
    "**3. Explicit vs implicit feedback**"
   ]
  },
  {
   "cell_type": "markdown",
   "metadata": {},
   "source": [
    "Since no explicit feedback from customers e.g ratings, as seen in most recommender applications,  we can only rely on implicit customer feedback instead.\n",
    "\n",
    "In our case, we have no explicit indication that a customer liked or disliked the articles they purchased from H&M! Buying an article doesn't mean it was liked!\n",
    "\n",
    "Implicit feedback is explained in an ineresting paper by [Hu et al. (2008)](https://www.google.ca/url?sa=t&rct=j&q=&esrc=s&source=web&cd=1&cad=rja&uact=8&ved=0ahUKEwi899eAu6baAhUurlkKHaVvB6UQFggsMAA&url=http%3A%2F%2Fyifanhu.net%2FPUB%2Fcf.pdf&usg=AOvVaw3WIcPGTpxR8m7C32F8whFx) \n",
    "\n",
    "A user-item interactions are recorded $r_{u,i}$ denoting the level of user interaction $u$ with a particular item $i$. For example, if a customer of ID $1$ purchased an article of ID $4$ once, we set $r_{1,4}=1$. We can also set $r_{u,i}$ to hold information about how many times an article was purchased by a customer. \n",
    "\n",
    "Given the set of observations $r_{u,i}$, a binary indicator $p_{u,i}$ is introduced where:\n",
    "\n",
    "$$ p_{u,i} = \\begin{cases} 1 & \\mbox{if } r_{i,j}>0 \\\\\n",
    "0 & \\mbox{otherwise.} \\end{cases} $$\n",
    "\n",
    "\n",
    "A confidence parameter $\\alpha$ lets the user determine how much importance they wish to place on the recorded $r_{u,i}$. This leads to the introduction of $c_{u,i}$ which we take to be the confidence we have in the strength of user $u$'s reaction to product $i$: \n",
    "$c_{u,i} = 1 + \\alpha r_{u,i}$.\n",
    "\n",
    "**ALS**\n",
    "\n",
    "Let $N_u$ denote the number of users, and $N_p$ denote the number of products. Let $k\\in \\mathbb{R}^+$ be a user defined number of factors.\n",
    "\n",
    "Now, in implicit feedback, the goal is to find matrices $X\\in \\mathbb{R}^{N_u \\times k}$ and $Y\\in \\mathbb{R}^{N_p \\times k}$ such that the following cost function is minimised:\n",
    "\n",
    "$$\\sum_{u,i} c_{u,i}(p_{u,i}-X_u^T Y_i)^2 + \\lambda (\\sum_u \\| X_u\\|^2 + \\sum_{i} \\| y_u\\|^2), $$\n",
    "\n",
    "where\n",
    "$X_u$ is the $u$th row of X, \n",
    "$Y_i$ is the $i$th row of Y,\n",
    "$\\lambda$ term is a user defined parameter which prevents overfitting. \n",
    "\n",
    "With this minimisation at hand, we are able to recover estimates of $c_{u,i}$, and thus of $r_{u,i}$ for interactions which have not yet occured.\n",
    "\n",
    "Add the articles bought by a certain customer as an implicit feedback signal!"
   ]
  },
  {
   "cell_type": "markdown",
   "metadata": {
    "id": "RTg06r22FJDy"
   },
   "source": [
    "### Dowload H&M dataset from Kaggle"
   ]
  },
  {
   "cell_type": "markdown",
   "metadata": {
    "id": "yYdFGkvzLueC"
   },
   "source": [
    "Install Kaggle library"
   ]
  },
  {
   "cell_type": "code",
   "execution_count": 1,
   "metadata": {
    "colab": {
     "base_uri": "https://localhost:8080/"
    },
    "id": "7zTGv9HyLshF",
    "outputId": "9431e424-28ba-4689-fb64-8107bdb5a88c"
   },
   "outputs": [
    {
     "name": "stdout",
     "output_type": "stream",
     "text": [
      "Collecting kaggle\n",
      "  Downloading kaggle-1.5.12.tar.gz (58 kB)\n",
      "\u001b[K     |████████████████████████████████| 58 kB 1.3 MB/s eta 0:00:01\n",
      "\u001b[?25hRequirement already satisfied: six>=1.10 in /opt/conda/lib/python3.8/site-packages (from kaggle) (1.15.0)\n",
      "Requirement already satisfied: certifi in /opt/conda/lib/python3.8/site-packages (from kaggle) (2020.11.8)\n",
      "Requirement already satisfied: python-dateutil in /opt/conda/lib/python3.8/site-packages (from kaggle) (2.8.1)\n",
      "Requirement already satisfied: requests in /opt/conda/lib/python3.8/site-packages (from kaggle) (2.25.0)\n",
      "Requirement already satisfied: tqdm in /opt/conda/lib/python3.8/site-packages (from kaggle) (4.54.0)\n",
      "Requirement already satisfied: urllib3 in /opt/conda/lib/python3.8/site-packages (from kaggle) (1.25.11)\n",
      "Requirement already satisfied: six>=1.10 in /opt/conda/lib/python3.8/site-packages (from kaggle) (1.15.0)\n",
      "Collecting python-slugify\n",
      "  Downloading python_slugify-7.0.0-py2.py3-none-any.whl (9.4 kB)\n",
      "Requirement already satisfied: urllib3 in /opt/conda/lib/python3.8/site-packages (from kaggle) (1.25.11)\n",
      "Requirement already satisfied: certifi in /opt/conda/lib/python3.8/site-packages (from kaggle) (2020.11.8)\n",
      "Requirement already satisfied: idna<3,>=2.5 in /opt/conda/lib/python3.8/site-packages (from requests->kaggle) (2.10)\n",
      "Requirement already satisfied: chardet<4,>=3.0.2 in /opt/conda/lib/python3.8/site-packages (from requests->kaggle) (3.0.4)\n",
      "Collecting text-unidecode>=1.3\n",
      "  Downloading text_unidecode-1.3-py2.py3-none-any.whl (78 kB)\n",
      "\u001b[K     |████████████████████████████████| 78 kB 1.9 MB/s eta 0:00:01\n",
      "\u001b[?25hBuilding wheels for collected packages: kaggle\n",
      "  Building wheel for kaggle (setup.py) ... \u001b[?25ldone\n",
      "\u001b[?25h  Created wheel for kaggle: filename=kaggle-1.5.12-py3-none-any.whl size=73052 sha256=17294f5708dfbbf71d196a8ae02cd99a9d6f7c89c57ca95d926c42a2ebfa880b\n",
      "  Stored in directory: /home/marmas6/.cache/pip/wheels/29/da/11/144cc25aebdaeb4931b231e25fd34b394e6a5725cbb2f50106\n",
      "Successfully built kaggle\n",
      "Installing collected packages: text-unidecode, python-slugify, kaggle\n",
      "Successfully installed kaggle-1.5.12 python-slugify-7.0.0 text-unidecode-1.3\n"
     ]
    }
   ],
   "source": [
    "!pip install kaggle"
   ]
  },
  {
   "cell_type": "code",
   "execution_count": 6,
   "metadata": {
    "id": "6kqfR61IPOtd"
   },
   "outputs": [],
   "source": [
    "!cp kaggle.json ~/.kaggle/kaggle.json"
   ]
  },
  {
   "cell_type": "code",
   "execution_count": 7,
   "metadata": {
    "id": "W41SuK8UPtb7"
   },
   "outputs": [],
   "source": [
    "!chmod 600 ~/.kaggle/kaggle.json"
   ]
  },
  {
   "cell_type": "markdown",
   "metadata": {
    "id": "0rDeHwFAQB2X"
   },
   "source": [
    "Download dataset"
   ]
  },
  {
   "cell_type": "code",
   "execution_count": 8,
   "metadata": {
    "colab": {
     "base_uri": "https://localhost:8080/"
    },
    "id": "VK7aLKYvP7rc",
    "outputId": "d4f02f75-78cc-4640-f6c3-3ff1c8a2c4bf"
   },
   "outputs": [
    {
     "name": "stdout",
     "output_type": "stream",
     "text": [
      "Downloading h-and-m-personalized-fashion-recommendations.zip to /home/marmas6/context-aware-recommendation\n",
      "100%|█████████████████████████████████████▉| 28.7G/28.7G [08:24<00:00, 63.3MB/s]\n",
      "100%|██████████████████████████████████████| 28.7G/28.7G [08:24<00:00, 61.1MB/s]\n"
     ]
    }
   ],
   "source": [
    "!kaggle competitions download -c h-and-m-personalized-fashion-recommendations"
   ]
  },
  {
   "cell_type": "markdown",
   "metadata": {},
   "source": [
    "Unzip data into working dir"
   ]
  },
  {
   "cell_type": "code",
   "execution_count": null,
   "metadata": {},
   "outputs": [],
   "source": [
    "!unzip h-and-m-personalized-fashion-recommendations"
   ]
  },
  {
   "cell_type": "code",
   "execution_count": 2,
   "metadata": {},
   "outputs": [
    {
     "name": "stdout",
     "output_type": "stream",
     "text": [
      "Collecting pandas\n",
      "  Using cached pandas-1.5.2-cp38-cp38-manylinux_2_17_x86_64.manylinux2014_x86_64.whl (12.2 MB)\n",
      "Requirement already satisfied: python-dateutil>=2.8.1 in /opt/conda/lib/python3.8/site-packages (from pandas) (2.8.1)\n",
      "Collecting numpy>=1.20.3\n",
      "  Using cached numpy-1.24.1-cp38-cp38-manylinux_2_17_x86_64.manylinux2014_x86_64.whl (17.3 MB)\n",
      "Requirement already satisfied: six>=1.5 in /opt/conda/lib/python3.8/site-packages (from python-dateutil>=2.8.1->pandas) (1.15.0)\n",
      "Collecting pytz>=2020.1\n",
      "  Using cached pytz-2022.7-py2.py3-none-any.whl (499 kB)\n",
      "Installing collected packages: pytz, numpy, pandas\n",
      "Successfully installed numpy-1.24.1 pandas-1.5.2 pytz-2022.7\n"
     ]
    }
   ],
   "source": [
    "#Install these in env\n",
    "!pip install pandas"
   ]
  },
  {
   "cell_type": "code",
   "execution_count": 3,
   "metadata": {},
   "outputs": [
    {
     "name": "stdout",
     "output_type": "stream",
     "text": [
      "Requirement already satisfied: numpy in /opt/conda/lib/python3.8/site-packages (1.24.1)\n"
     ]
    }
   ],
   "source": [
    "!pip install numpy"
   ]
  },
  {
   "cell_type": "code",
   "execution_count": 4,
   "metadata": {},
   "outputs": [
    {
     "name": "stdout",
     "output_type": "stream",
     "text": [
      "Collecting seaborn\n",
      "  Downloading seaborn-0.12.2-py3-none-any.whl (293 kB)\n",
      "\u001b[K     |████████████████████████████████| 293 kB 1.6 MB/s eta 0:00:01\n",
      "\u001b[?25hRequirement already satisfied: numpy!=1.24.0,>=1.17 in /opt/conda/lib/python3.8/site-packages (from seaborn) (1.24.1)\n",
      "Requirement already satisfied: pandas>=0.25 in /opt/conda/lib/python3.8/site-packages (from seaborn) (1.5.2)\n",
      "Collecting matplotlib!=3.6.1,>=3.1\n",
      "  Using cached matplotlib-3.6.2-cp38-cp38-manylinux_2_12_x86_64.manylinux2010_x86_64.whl (9.4 MB)\n",
      "Requirement already satisfied: packaging>=20.0 in /opt/conda/lib/python3.8/site-packages (from matplotlib!=3.6.1,>=3.1->seaborn) (20.4)\n",
      "Requirement already satisfied: numpy!=1.24.0,>=1.17 in /opt/conda/lib/python3.8/site-packages (from seaborn) (1.24.1)\n",
      "Requirement already satisfied: python-dateutil>=2.7 in /opt/conda/lib/python3.8/site-packages (from matplotlib!=3.6.1,>=3.1->seaborn) (2.8.1)\n",
      "Requirement already satisfied: pyparsing>=2.2.1 in /opt/conda/lib/python3.8/site-packages (from matplotlib!=3.6.1,>=3.1->seaborn) (2.4.7)\n",
      "Collecting contourpy>=1.0.1\n",
      "  Using cached contourpy-1.0.6-cp38-cp38-manylinux_2_17_x86_64.manylinux2014_x86_64.whl (295 kB)\n",
      "Requirement already satisfied: numpy!=1.24.0,>=1.17 in /opt/conda/lib/python3.8/site-packages (from seaborn) (1.24.1)\n",
      "Collecting cycler>=0.10\n",
      "  Using cached cycler-0.11.0-py3-none-any.whl (6.4 kB)\n",
      "Collecting fonttools>=4.22.0\n",
      "  Using cached fonttools-4.38.0-py3-none-any.whl (965 kB)\n",
      "Collecting kiwisolver>=1.0.1\n",
      "  Using cached kiwisolver-1.4.4-cp38-cp38-manylinux_2_5_x86_64.manylinux1_x86_64.whl (1.2 MB)\n",
      "Requirement already satisfied: six in /opt/conda/lib/python3.8/site-packages (from packaging>=20.0->matplotlib!=3.6.1,>=3.1->seaborn) (1.15.0)\n",
      "Requirement already satisfied: pyparsing>=2.2.1 in /opt/conda/lib/python3.8/site-packages (from matplotlib!=3.6.1,>=3.1->seaborn) (2.4.7)\n",
      "Requirement already satisfied: numpy!=1.24.0,>=1.17 in /opt/conda/lib/python3.8/site-packages (from seaborn) (1.24.1)\n",
      "Requirement already satisfied: python-dateutil>=2.7 in /opt/conda/lib/python3.8/site-packages (from matplotlib!=3.6.1,>=3.1->seaborn) (2.8.1)\n",
      "Requirement already satisfied: pytz>=2020.1 in /opt/conda/lib/python3.8/site-packages (from pandas>=0.25->seaborn) (2022.7)\n",
      "Collecting pillow>=6.2.0\n",
      "  Downloading Pillow-9.4.0-cp38-cp38-manylinux_2_28_x86_64.whl (3.4 MB)\n",
      "\u001b[K     |████████████████████████████████| 3.4 MB 31.3 MB/s eta 0:00:0101\n",
      "\u001b[?25hRequirement already satisfied: six in /opt/conda/lib/python3.8/site-packages (from packaging>=20.0->matplotlib!=3.6.1,>=3.1->seaborn) (1.15.0)\n",
      "Installing collected packages: pillow, kiwisolver, fonttools, cycler, contourpy, matplotlib, seaborn\n",
      "Successfully installed contourpy-1.0.6 cycler-0.11.0 fonttools-4.38.0 kiwisolver-1.4.4 matplotlib-3.6.2 pillow-9.4.0 seaborn-0.12.2\n"
     ]
    }
   ],
   "source": [
    "!pip install seaborn"
   ]
  },
  {
   "cell_type": "code",
   "execution_count": 237,
   "metadata": {},
   "outputs": [
    {
     "name": "stdout",
     "output_type": "stream",
     "text": [
      "Requirement already satisfied: scikit-learn in /opt/conda/lib/python3.8/site-packages (1.2.0)\n",
      "Requirement already satisfied: threadpoolctl>=2.0.0 in /opt/conda/lib/python3.8/site-packages (from scikit-learn) (2.1.0)\n",
      "Requirement already satisfied: numpy>=1.17.3 in /opt/conda/lib/python3.8/site-packages (from scikit-learn) (1.18.5)\n",
      "Requirement already satisfied: joblib>=1.1.1 in /opt/conda/lib/python3.8/site-packages (from scikit-learn) (1.2.0)\n",
      "Requirement already satisfied: scipy>=1.3.2 in /opt/conda/lib/python3.8/site-packages (from scikit-learn) (1.5.3)\n"
     ]
    }
   ],
   "source": [
    "!pip3 install -U scikit-learn"
   ]
  },
  {
   "cell_type": "code",
   "execution_count": 6,
   "metadata": {},
   "outputs": [
    {
     "name": "stdout",
     "output_type": "stream",
     "text": [
      "Requirement already satisfied: matplotlib in /opt/conda/lib/python3.8/site-packages (3.6.2)\n",
      "Requirement already satisfied: packaging>=20.0 in /opt/conda/lib/python3.8/site-packages (from matplotlib) (20.4)\n",
      "Requirement already satisfied: fonttools>=4.22.0 in /opt/conda/lib/python3.8/site-packages (from matplotlib) (4.38.0)\n",
      "Requirement already satisfied: numpy>=1.19 in /opt/conda/lib/python3.8/site-packages (from matplotlib) (1.24.1)\n",
      "Requirement already satisfied: kiwisolver>=1.0.1 in /opt/conda/lib/python3.8/site-packages (from matplotlib) (1.4.4)\n",
      "Requirement already satisfied: pillow>=6.2.0 in /opt/conda/lib/python3.8/site-packages (from matplotlib) (9.4.0)\n",
      "Requirement already satisfied: pyparsing>=2.2.1 in /opt/conda/lib/python3.8/site-packages (from matplotlib) (2.4.7)\n",
      "Requirement already satisfied: cycler>=0.10 in /opt/conda/lib/python3.8/site-packages (from matplotlib) (0.11.0)\n",
      "Requirement already satisfied: python-dateutil>=2.7 in /opt/conda/lib/python3.8/site-packages (from matplotlib) (2.8.1)\n",
      "Requirement already satisfied: contourpy>=1.0.1 in /opt/conda/lib/python3.8/site-packages (from matplotlib) (1.0.6)\n",
      "Requirement already satisfied: numpy>=1.19 in /opt/conda/lib/python3.8/site-packages (from matplotlib) (1.24.1)\n",
      "Requirement already satisfied: pyparsing>=2.2.1 in /opt/conda/lib/python3.8/site-packages (from matplotlib) (2.4.7)\n",
      "Requirement already satisfied: six in /opt/conda/lib/python3.8/site-packages (from packaging>=20.0->matplotlib) (1.15.0)\n",
      "Requirement already satisfied: six in /opt/conda/lib/python3.8/site-packages (from packaging>=20.0->matplotlib) (1.15.0)\n"
     ]
    }
   ],
   "source": [
    "!python -m pip install -U matplotlib"
   ]
  },
  {
   "cell_type": "code",
   "execution_count": 1,
   "metadata": {},
   "outputs": [
    {
     "name": "stdout",
     "output_type": "stream",
     "text": [
      "Collecting implicit\n",
      "  Using cached implicit-0.6.2-cp38-cp38-manylinux2014_x86_64.whl (18.6 MB)\n",
      "Requirement already satisfied: numpy in /opt/conda/lib/python3.8/site-packages (from implicit) (1.18.5)\n",
      "Requirement already satisfied: tqdm>=4.27 in /opt/conda/lib/python3.8/site-packages (from implicit) (4.55.0)\n",
      "Requirement already satisfied: scipy>=0.16 in /opt/conda/lib/python3.8/site-packages (from implicit) (1.5.3)\n",
      "Installing collected packages: implicit\n",
      "Successfully installed implicit-0.6.2\n"
     ]
    }
   ],
   "source": [
    "!pip install implicit"
   ]
  },
  {
   "cell_type": "code",
   "execution_count": 142,
   "metadata": {
    "id": "77bf85cf"
   },
   "outputs": [],
   "source": [
    "#Import libraries\n",
    "import numpy as np \n",
    "import pandas as pd\n",
    "\n",
    "import random\n",
    "\n",
    "import matplotlib.pyplot as plt \n",
    "import seaborn as sns\n",
    "%matplotlib inline\n",
    "\n",
    "import os\n",
    "from PIL import Image\n",
    "import glob\n",
    "import warnings\n",
    "warnings.filterwarnings('ignore')\n",
    "\n",
    "#No normal distribution in age column\n",
    "import scipy.sparse as sparse\n",
    "from sklearn.preprocessing import MinMaxScaler, OneHotEncoder\n",
    "import implicit\n",
    "from sklearn import metrics"
   ]
  },
  {
   "cell_type": "markdown",
   "metadata": {
    "id": "DKmY_u0yFql3"
   },
   "source": [
    "### Data Preprocesing\n",
    "**Customers Data**"
   ]
  },
  {
   "cell_type": "code",
   "execution_count": 3,
   "metadata": {
    "id": "39d186e0"
   },
   "outputs": [],
   "source": [
    "customers_df = pd.read_csv('customers.csv')"
   ]
  },
  {
   "cell_type": "code",
   "execution_count": 5,
   "metadata": {},
   "outputs": [
    {
     "data": {
      "text/plain": [
       "(1371980, 7)"
      ]
     },
     "execution_count": 5,
     "metadata": {},
     "output_type": "execute_result"
    }
   ],
   "source": [
    "customers_df.shape"
   ]
  },
  {
   "cell_type": "code",
   "execution_count": 6,
   "metadata": {
    "colab": {
     "base_uri": "https://localhost:8080/",
     "height": 270
    },
    "id": "c2a27055",
    "outputId": "a9717df7-f10c-42d4-eab8-84587fb257f0"
   },
   "outputs": [
    {
     "data": {
      "text/html": [
       "<div>\n",
       "<style scoped>\n",
       "    .dataframe tbody tr th:only-of-type {\n",
       "        vertical-align: middle;\n",
       "    }\n",
       "\n",
       "    .dataframe tbody tr th {\n",
       "        vertical-align: top;\n",
       "    }\n",
       "\n",
       "    .dataframe thead th {\n",
       "        text-align: right;\n",
       "    }\n",
       "</style>\n",
       "<table border=\"1\" class=\"dataframe\">\n",
       "  <thead>\n",
       "    <tr style=\"text-align: right;\">\n",
       "      <th></th>\n",
       "      <th>customer_id</th>\n",
       "      <th>FN</th>\n",
       "      <th>Active</th>\n",
       "      <th>club_member_status</th>\n",
       "      <th>fashion_news_frequency</th>\n",
       "      <th>age</th>\n",
       "      <th>postal_code</th>\n",
       "    </tr>\n",
       "  </thead>\n",
       "  <tbody>\n",
       "    <tr>\n",
       "      <th>0</th>\n",
       "      <td>00000dbacae5abe5e23885899a1fa44253a17956c6d1c3...</td>\n",
       "      <td>NaN</td>\n",
       "      <td>NaN</td>\n",
       "      <td>ACTIVE</td>\n",
       "      <td>NONE</td>\n",
       "      <td>49.0</td>\n",
       "      <td>52043ee2162cf5aa7ee79974281641c6f11a68d276429a...</td>\n",
       "    </tr>\n",
       "    <tr>\n",
       "      <th>1</th>\n",
       "      <td>0000423b00ade91418cceaf3b26c6af3dd342b51fd051e...</td>\n",
       "      <td>NaN</td>\n",
       "      <td>NaN</td>\n",
       "      <td>ACTIVE</td>\n",
       "      <td>NONE</td>\n",
       "      <td>25.0</td>\n",
       "      <td>2973abc54daa8a5f8ccfe9362140c63247c5eee03f1d93...</td>\n",
       "    </tr>\n",
       "    <tr>\n",
       "      <th>2</th>\n",
       "      <td>000058a12d5b43e67d225668fa1f8d618c13dc232df0ca...</td>\n",
       "      <td>NaN</td>\n",
       "      <td>NaN</td>\n",
       "      <td>ACTIVE</td>\n",
       "      <td>NONE</td>\n",
       "      <td>24.0</td>\n",
       "      <td>64f17e6a330a85798e4998f62d0930d14db8db1c054af6...</td>\n",
       "    </tr>\n",
       "    <tr>\n",
       "      <th>3</th>\n",
       "      <td>00005ca1c9ed5f5146b52ac8639a40ca9d57aeff4d1bd2...</td>\n",
       "      <td>NaN</td>\n",
       "      <td>NaN</td>\n",
       "      <td>ACTIVE</td>\n",
       "      <td>NONE</td>\n",
       "      <td>54.0</td>\n",
       "      <td>5d36574f52495e81f019b680c843c443bd343d5ca5b1c2...</td>\n",
       "    </tr>\n",
       "    <tr>\n",
       "      <th>4</th>\n",
       "      <td>00006413d8573cd20ed7128e53b7b13819fe5cfc2d801f...</td>\n",
       "      <td>1.0</td>\n",
       "      <td>1.0</td>\n",
       "      <td>ACTIVE</td>\n",
       "      <td>Regularly</td>\n",
       "      <td>52.0</td>\n",
       "      <td>25fa5ddee9aac01b35208d01736e57942317d756b32ddd...</td>\n",
       "    </tr>\n",
       "  </tbody>\n",
       "</table>\n",
       "</div>"
      ],
      "text/plain": [
       "                                         customer_id   FN  Active  \\\n",
       "0  00000dbacae5abe5e23885899a1fa44253a17956c6d1c3...  NaN     NaN   \n",
       "1  0000423b00ade91418cceaf3b26c6af3dd342b51fd051e...  NaN     NaN   \n",
       "2  000058a12d5b43e67d225668fa1f8d618c13dc232df0ca...  NaN     NaN   \n",
       "3  00005ca1c9ed5f5146b52ac8639a40ca9d57aeff4d1bd2...  NaN     NaN   \n",
       "4  00006413d8573cd20ed7128e53b7b13819fe5cfc2d801f...  1.0     1.0   \n",
       "\n",
       "  club_member_status fashion_news_frequency   age  \\\n",
       "0             ACTIVE                   NONE  49.0   \n",
       "1             ACTIVE                   NONE  25.0   \n",
       "2             ACTIVE                   NONE  24.0   \n",
       "3             ACTIVE                   NONE  54.0   \n",
       "4             ACTIVE              Regularly  52.0   \n",
       "\n",
       "                                         postal_code  \n",
       "0  52043ee2162cf5aa7ee79974281641c6f11a68d276429a...  \n",
       "1  2973abc54daa8a5f8ccfe9362140c63247c5eee03f1d93...  \n",
       "2  64f17e6a330a85798e4998f62d0930d14db8db1c054af6...  \n",
       "3  5d36574f52495e81f019b680c843c443bd343d5ca5b1c2...  \n",
       "4  25fa5ddee9aac01b35208d01736e57942317d756b32ddd...  "
      ]
     },
     "execution_count": 6,
     "metadata": {},
     "output_type": "execute_result"
    }
   ],
   "source": [
    "customers_df.head()"
   ]
  },
  {
   "cell_type": "code",
   "execution_count": 7,
   "metadata": {
    "colab": {
     "base_uri": "https://localhost:8080/"
    },
    "id": "ea198ada",
    "outputId": "07d6701f-e5be-408b-ddde-8b662da5ecc7"
   },
   "outputs": [
    {
     "name": "stdout",
     "output_type": "stream",
     "text": [
      "<class 'pandas.core.frame.DataFrame'>\n",
      "RangeIndex: 1371980 entries, 0 to 1371979\n",
      "Data columns (total 7 columns):\n",
      " #   Column                  Non-Null Count    Dtype  \n",
      "---  ------                  --------------    -----  \n",
      " 0   customer_id             1371980 non-null  object \n",
      " 1   FN                      476930 non-null   float64\n",
      " 2   Active                  464404 non-null   float64\n",
      " 3   club_member_status      1365918 non-null  object \n",
      " 4   fashion_news_frequency  1355971 non-null  object \n",
      " 5   age                     1356119 non-null  float64\n",
      " 6   postal_code             1371980 non-null  object \n",
      "dtypes: float64(3), object(4)\n",
      "memory usage: 73.3+ MB\n"
     ]
    }
   ],
   "source": [
    "customers_df.info()"
   ]
  },
  {
   "cell_type": "code",
   "execution_count": 8,
   "metadata": {
    "colab": {
     "base_uri": "https://localhost:8080/"
    },
    "id": "51e27dd3",
    "outputId": "f82583e3-b463-4e28-a3fa-bfb6e4d29d48"
   },
   "outputs": [
    {
     "data": {
      "text/plain": [
       "customer_id                    0\n",
       "FN                        895050\n",
       "Active                    907576\n",
       "club_member_status          6062\n",
       "fashion_news_frequency     16009\n",
       "age                        15861\n",
       "postal_code                    0\n",
       "dtype: int64"
      ]
     },
     "execution_count": 8,
     "metadata": {},
     "output_type": "execute_result"
    }
   ],
   "source": [
    "customers_df.isnull().sum()"
   ]
  },
  {
   "cell_type": "code",
   "execution_count": 9,
   "metadata": {
    "colab": {
     "base_uri": "https://localhost:8080/",
     "height": 143
    },
    "id": "254723de",
    "outputId": "b66edbce-55b0-4ade-b9f6-bd204e7452de"
   },
   "outputs": [
    {
     "data": {
      "text/html": [
       "<div>\n",
       "<style scoped>\n",
       "    .dataframe tbody tr th:only-of-type {\n",
       "        vertical-align: middle;\n",
       "    }\n",
       "\n",
       "    .dataframe tbody tr th {\n",
       "        vertical-align: top;\n",
       "    }\n",
       "\n",
       "    .dataframe thead th {\n",
       "        text-align: right;\n",
       "    }\n",
       "</style>\n",
       "<table border=\"1\" class=\"dataframe\">\n",
       "  <thead>\n",
       "    <tr style=\"text-align: right;\">\n",
       "      <th></th>\n",
       "      <th>club_member_status</th>\n",
       "    </tr>\n",
       "  </thead>\n",
       "  <tbody>\n",
       "    <tr>\n",
       "      <th>ACTIVE</th>\n",
       "      <td>92.748509</td>\n",
       "    </tr>\n",
       "    <tr>\n",
       "      <th>PRE-CREATE</th>\n",
       "      <td>6.775609</td>\n",
       "    </tr>\n",
       "    <tr>\n",
       "      <th>LEFT CLUB</th>\n",
       "      <td>0.034038</td>\n",
       "    </tr>\n",
       "  </tbody>\n",
       "</table>\n",
       "</div>"
      ],
      "text/plain": [
       "            club_member_status\n",
       "ACTIVE               92.748509\n",
       "PRE-CREATE            6.775609\n",
       "LEFT CLUB             0.034038"
      ]
     },
     "execution_count": 9,
     "metadata": {},
     "output_type": "execute_result"
    }
   ],
   "source": [
    "member_status = pd.DataFrame(customers_df['club_member_status'].value_counts()/customers_df['club_member_status'].shape[0] * 100)\n",
    "member_status"
   ]
  },
  {
   "cell_type": "markdown",
   "metadata": {
    "id": "52eed9a9"
   },
   "source": [
    "'pre-create' and 'left-club' seems to be very small groups, so we can drop the rows"
   ]
  },
  {
   "cell_type": "code",
   "execution_count": 10,
   "metadata": {
    "colab": {
     "base_uri": "https://localhost:8080/"
    },
    "id": "e401af79",
    "outputId": "9e99e966-cb66-4e0c-80f0-118118dc5a83"
   },
   "outputs": [
    {
     "data": {
      "text/plain": [
       "ACTIVE    1272491\n",
       "Name: club_member_status, dtype: int64"
      ]
     },
     "execution_count": 10,
     "metadata": {},
     "output_type": "execute_result"
    }
   ],
   "source": [
    "customers_df.drop(customers_df.index[customers_df['club_member_status'] != 'ACTIVE'], inplace=True)\n",
    "\n",
    "customers_df.club_member_status.value_counts()"
   ]
  },
  {
   "cell_type": "code",
   "execution_count": 11,
   "metadata": {
    "colab": {
     "base_uri": "https://localhost:8080/"
    },
    "id": "709cdd02",
    "outputId": "60775dea-59d4-4b37-878d-d78ffda240bc"
   },
   "outputs": [
    {
     "data": {
      "text/plain": [
       "NONE         788482\n",
       "Regularly    471304\n",
       "Monthly         778\n",
       "None              2\n",
       "Name: fashion_news_frequency, dtype: int64"
      ]
     },
     "execution_count": 11,
     "metadata": {},
     "output_type": "execute_result"
    }
   ],
   "source": [
    "customers_df.fashion_news_frequency.value_counts()"
   ]
  },
  {
   "cell_type": "code",
   "execution_count": 12,
   "metadata": {
    "id": "g5Z4igV30tul"
   },
   "outputs": [],
   "source": [
    "customers_df['fashion_news_frequency'].replace('None', np.nan, inplace=True)"
   ]
  },
  {
   "cell_type": "code",
   "execution_count": 13,
   "metadata": {
    "colab": {
     "base_uri": "https://localhost:8080/"
    },
    "id": "KkkMKxVa01LQ",
    "outputId": "2a8756a1-8d51-43a1-81e3-c50490cc4af3"
   },
   "outputs": [
    {
     "data": {
      "text/plain": [
       "NONE         788482\n",
       "Regularly    471304\n",
       "Monthly         778\n",
       "Name: fashion_news_frequency, dtype: int64"
      ]
     },
     "execution_count": 13,
     "metadata": {},
     "output_type": "execute_result"
    }
   ],
   "source": [
    "customers_df.fashion_news_frequency.value_counts()"
   ]
  },
  {
   "cell_type": "code",
   "execution_count": 14,
   "metadata": {
    "colab": {
     "base_uri": "https://localhost:8080/"
    },
    "id": "O3p7Q_Cw093c",
    "outputId": "0783ac14-eb4c-427c-ec5c-5f79c6706153"
   },
   "outputs": [
    {
     "data": {
      "text/plain": [
       "array(['NONE', 'Regularly', nan, 'Monthly'], dtype=object)"
      ]
     },
     "execution_count": 14,
     "metadata": {},
     "output_type": "execute_result"
    }
   ],
   "source": [
    "customers_df.fashion_news_frequency.unique()"
   ]
  },
  {
   "cell_type": "code",
   "execution_count": 15,
   "metadata": {
    "id": "N8ybOWRb1DZg"
   },
   "outputs": [],
   "source": [
    "customers_df = customers_df.dropna(subset =['fashion_news_frequency'])"
   ]
  },
  {
   "cell_type": "code",
   "execution_count": 16,
   "metadata": {
    "colab": {
     "base_uri": "https://localhost:8080/"
    },
    "id": "gHL2ZPN41Hh_",
    "outputId": "d2521d10-c926-45f4-e505-be0189ac9ef5"
   },
   "outputs": [
    {
     "data": {
      "text/plain": [
       "array(['NONE', 'Regularly', 'Monthly'], dtype=object)"
      ]
     },
     "execution_count": 16,
     "metadata": {},
     "output_type": "execute_result"
    }
   ],
   "source": [
    "customers_df.fashion_news_frequency.unique()"
   ]
  },
  {
   "cell_type": "code",
   "execution_count": 17,
   "metadata": {
    "colab": {
     "base_uri": "https://localhost:8080/"
    },
    "id": "hjRHpGHY1JPH",
    "outputId": "73a9dc76-e441-4c4f-fa6b-a33d81e71149"
   },
   "outputs": [
    {
     "data": {
      "text/plain": [
       "customer_id                    0\n",
       "FN                        789740\n",
       "Active                    802113\n",
       "club_member_status             0\n",
       "fashion_news_frequency         0\n",
       "age                         6168\n",
       "postal_code                    0\n",
       "dtype: int64"
      ]
     },
     "execution_count": 17,
     "metadata": {},
     "output_type": "execute_result"
    }
   ],
   "source": [
    "customers_df.isnull().sum()"
   ]
  },
  {
   "cell_type": "code",
   "execution_count": 18,
   "metadata": {
    "colab": {
     "base_uri": "https://localhost:8080/"
    },
    "id": "1i2t6A8o1a7Z",
    "outputId": "74995a3e-20aa-4477-8f4e-ebe37857445d"
   },
   "outputs": [
    {
     "name": "stdout",
     "output_type": "stream",
     "text": [
      "The average age is 36.067268231084924, the max age is 99.0 and the min age is 16.0\n"
     ]
    }
   ],
   "source": [
    "avg_age = customers_df.age.mean()\n",
    "max_age = customers_df.age.max()\n",
    "min_age = customers_df.age.min()\n",
    "\n",
    "print('The average age is {}, the max age is {} and the min age is {}'\n",
    "      .format(avg_age, max_age, min_age))"
   ]
  },
  {
   "cell_type": "code",
   "execution_count": 19,
   "metadata": {
    "colab": {
     "base_uri": "https://localhost:8080/",
     "height": 337
    },
    "id": "4FYbGNOe1ciu",
    "outputId": "51aaae2c-c8ab-4621-ee78-63f44a44d0bc"
   },
   "outputs": [
    {
     "data": {
      "text/plain": [
       "<AxesSubplot:title={'center':'Customers Ages'}, ylabel='Age Bins'>"
      ]
     },
     "execution_count": 19,
     "metadata": {},
     "output_type": "execute_result"
    },
    {
     "data": {
      "image/png": "[encoded data removed]",
      "text/plain": [
       "<Figure size 432x288 with 1 Axes>"
      ]
     },
     "metadata": {
      "needs_background": "light"
     },
     "output_type": "display_data"
    }
   ],
   "source": [
    "bins = 0, 19, 29, 39, 49, 59, 69, 79,89,100\n",
    "customers_df['age_bins'] = pd.cut(customers_df.age, bins, labels = ['0-19','20-29','30-39','40-49','50-59','60-69','70-79','80-89','90-100'])\n",
    "\n",
    "\n",
    "customers_df.age_bins.value_counts().plot(kind = 'barh', title = 'Customers Ages', xlabel = 'Age Bins', ylabel= 'Count')"
   ]
  },
  {
   "cell_type": "code",
   "execution_count": 20,
   "metadata": {
    "colab": {
     "base_uri": "https://localhost:8080/",
     "height": 332
    },
    "id": "91c14018",
    "outputId": "d17fc060-019f-4483-f30c-04608c79f654"
   },
   "outputs": [
    {
     "data": {
      "text/html": [
       "<div>\n",
       "<style scoped>\n",
       "    .dataframe tbody tr th:only-of-type {\n",
       "        vertical-align: middle;\n",
       "    }\n",
       "\n",
       "    .dataframe tbody tr th {\n",
       "        vertical-align: top;\n",
       "    }\n",
       "\n",
       "    .dataframe thead th {\n",
       "        text-align: right;\n",
       "    }\n",
       "</style>\n",
       "<table border=\"1\" class=\"dataframe\">\n",
       "  <thead>\n",
       "    <tr style=\"text-align: right;\">\n",
       "      <th></th>\n",
       "      <th>age_bins</th>\n",
       "    </tr>\n",
       "  </thead>\n",
       "  <tbody>\n",
       "    <tr>\n",
       "      <th>20-29</th>\n",
       "      <td>39.701991</td>\n",
       "    </tr>\n",
       "    <tr>\n",
       "      <th>30-39</th>\n",
       "      <td>16.920045</td>\n",
       "    </tr>\n",
       "    <tr>\n",
       "      <th>50-59</th>\n",
       "      <td>16.194259</td>\n",
       "    </tr>\n",
       "    <tr>\n",
       "      <th>40-49</th>\n",
       "      <td>14.584027</td>\n",
       "    </tr>\n",
       "    <tr>\n",
       "      <th>0-19</th>\n",
       "      <td>5.516975</td>\n",
       "    </tr>\n",
       "    <tr>\n",
       "      <th>60-69</th>\n",
       "      <td>5.223059</td>\n",
       "    </tr>\n",
       "    <tr>\n",
       "      <th>70-79</th>\n",
       "      <td>1.264117</td>\n",
       "    </tr>\n",
       "    <tr>\n",
       "      <th>80-89</th>\n",
       "      <td>0.099797</td>\n",
       "    </tr>\n",
       "    <tr>\n",
       "      <th>90-100</th>\n",
       "      <td>0.006426</td>\n",
       "    </tr>\n",
       "  </tbody>\n",
       "</table>\n",
       "</div>"
      ],
      "text/plain": [
       "         age_bins\n",
       "20-29   39.701991\n",
       "30-39   16.920045\n",
       "50-59   16.194259\n",
       "40-49   14.584027\n",
       "0-19     5.516975\n",
       "60-69    5.223059\n",
       "70-79    1.264117\n",
       "80-89    0.099797\n",
       "90-100   0.006426"
      ]
     },
     "execution_count": 20,
     "metadata": {},
     "output_type": "execute_result"
    }
   ],
   "source": [
    "#Should drop some ages here\n",
    "age_bins = pd.DataFrame(customers_df['age_bins'].value_counts()/customers_df['age_bins'].shape[0] * 100)\n",
    "age_bins"
   ]
  },
  {
   "cell_type": "code",
   "execution_count": 21,
   "metadata": {
    "id": "63fcbbee"
   },
   "outputs": [],
   "source": [
    "customers_df = customers_df.drop(customers_df[(customers_df['age'] >= 50) | (customers_df['age'] <= 20)].index)"
   ]
  },
  {
   "cell_type": "code",
   "execution_count": 22,
   "metadata": {
    "colab": {
     "base_uri": "https://localhost:8080/"
    },
    "id": "b2309f85",
    "outputId": "a4acd6dd-85e3-4260-bbc1-e0a9b93eba10"
   },
   "outputs": [
    {
     "data": {
      "text/plain": [
       "20-29     447303\n",
       "30-39     213288\n",
       "40-49     183841\n",
       "90-100         0\n",
       "80-89          0\n",
       "70-79          0\n",
       "60-69          0\n",
       "50-59          0\n",
       "0-19           0\n",
       "Name: age_bins, dtype: int64"
      ]
     },
     "execution_count": 22,
     "metadata": {},
     "output_type": "execute_result"
    }
   ],
   "source": [
    "customers_df.age_bins.value_counts()"
   ]
  },
  {
   "cell_type": "code",
   "execution_count": 23,
   "metadata": {
    "colab": {
     "base_uri": "https://localhost:8080/",
     "height": 488
    },
    "id": "1d4903ce",
    "outputId": "800a0fdf-2507-4c94-c881-de252822f01d"
   },
   "outputs": [
    {
     "data": {
      "text/html": [
       "<div>\n",
       "<style scoped>\n",
       "    .dataframe tbody tr th:only-of-type {\n",
       "        vertical-align: middle;\n",
       "    }\n",
       "\n",
       "    .dataframe tbody tr th {\n",
       "        vertical-align: top;\n",
       "    }\n",
       "\n",
       "    .dataframe thead th {\n",
       "        text-align: right;\n",
       "    }\n",
       "</style>\n",
       "<table border=\"1\" class=\"dataframe\">\n",
       "  <thead>\n",
       "    <tr style=\"text-align: right;\">\n",
       "      <th></th>\n",
       "      <th>customer_id</th>\n",
       "      <th>FN</th>\n",
       "      <th>Active</th>\n",
       "      <th>club_member_status</th>\n",
       "      <th>fashion_news_frequency</th>\n",
       "      <th>age</th>\n",
       "    </tr>\n",
       "  </thead>\n",
       "  <tbody>\n",
       "    <tr>\n",
       "      <th>0</th>\n",
       "      <td>00000dbacae5abe5e23885899a1fa44253a17956c6d1c3...</td>\n",
       "      <td>NaN</td>\n",
       "      <td>NaN</td>\n",
       "      <td>ACTIVE</td>\n",
       "      <td>NONE</td>\n",
       "      <td>49.0</td>\n",
       "    </tr>\n",
       "    <tr>\n",
       "      <th>1</th>\n",
       "      <td>0000423b00ade91418cceaf3b26c6af3dd342b51fd051e...</td>\n",
       "      <td>NaN</td>\n",
       "      <td>NaN</td>\n",
       "      <td>ACTIVE</td>\n",
       "      <td>NONE</td>\n",
       "      <td>25.0</td>\n",
       "    </tr>\n",
       "    <tr>\n",
       "      <th>2</th>\n",
       "      <td>000058a12d5b43e67d225668fa1f8d618c13dc232df0ca...</td>\n",
       "      <td>NaN</td>\n",
       "      <td>NaN</td>\n",
       "      <td>ACTIVE</td>\n",
       "      <td>NONE</td>\n",
       "      <td>24.0</td>\n",
       "    </tr>\n",
       "    <tr>\n",
       "      <th>7</th>\n",
       "      <td>00007d2de826758b65a93dd24ce629ed66842531df6699...</td>\n",
       "      <td>1.0</td>\n",
       "      <td>1.0</td>\n",
       "      <td>ACTIVE</td>\n",
       "      <td>Regularly</td>\n",
       "      <td>32.0</td>\n",
       "    </tr>\n",
       "    <tr>\n",
       "      <th>10</th>\n",
       "      <td>0000945f66de1a11d9447609b8b41b1bc987ba185a5496...</td>\n",
       "      <td>NaN</td>\n",
       "      <td>NaN</td>\n",
       "      <td>ACTIVE</td>\n",
       "      <td>NONE</td>\n",
       "      <td>29.0</td>\n",
       "    </tr>\n",
       "    <tr>\n",
       "      <th>...</th>\n",
       "      <td>...</td>\n",
       "      <td>...</td>\n",
       "      <td>...</td>\n",
       "      <td>...</td>\n",
       "      <td>...</td>\n",
       "      <td>...</td>\n",
       "    </tr>\n",
       "    <tr>\n",
       "      <th>1371973</th>\n",
       "      <td>ffffa28cd7ab5d1cbbbfe7b582b1c419270cc0539f3dae...</td>\n",
       "      <td>1.0</td>\n",
       "      <td>1.0</td>\n",
       "      <td>ACTIVE</td>\n",
       "      <td>Regularly</td>\n",
       "      <td>22.0</td>\n",
       "    </tr>\n",
       "    <tr>\n",
       "      <th>1371974</th>\n",
       "      <td>ffffaff3905b803d1c7e153a1378a5151e1f34f236ba54...</td>\n",
       "      <td>1.0</td>\n",
       "      <td>1.0</td>\n",
       "      <td>ACTIVE</td>\n",
       "      <td>Regularly</td>\n",
       "      <td>21.0</td>\n",
       "    </tr>\n",
       "    <tr>\n",
       "      <th>1371975</th>\n",
       "      <td>ffffbbf78b6eaac697a8a5dfbfd2bfa8113ee5b403e474...</td>\n",
       "      <td>NaN</td>\n",
       "      <td>NaN</td>\n",
       "      <td>ACTIVE</td>\n",
       "      <td>NONE</td>\n",
       "      <td>24.0</td>\n",
       "    </tr>\n",
       "    <tr>\n",
       "      <th>1371976</th>\n",
       "      <td>ffffcd5046a6143d29a04fb8c424ce494a76e5cdf4fab5...</td>\n",
       "      <td>NaN</td>\n",
       "      <td>NaN</td>\n",
       "      <td>ACTIVE</td>\n",
       "      <td>NONE</td>\n",
       "      <td>21.0</td>\n",
       "    </tr>\n",
       "    <tr>\n",
       "      <th>1371977</th>\n",
       "      <td>ffffcf35913a0bee60e8741cb2b4e78b8a98ee5ff2e6a1...</td>\n",
       "      <td>1.0</td>\n",
       "      <td>1.0</td>\n",
       "      <td>ACTIVE</td>\n",
       "      <td>Regularly</td>\n",
       "      <td>21.0</td>\n",
       "    </tr>\n",
       "  </tbody>\n",
       "</table>\n",
       "<p>850600 rows × 6 columns</p>\n",
       "</div>"
      ],
      "text/plain": [
       "                                               customer_id   FN  Active  \\\n",
       "0        00000dbacae5abe5e23885899a1fa44253a17956c6d1c3...  NaN     NaN   \n",
       "1        0000423b00ade91418cceaf3b26c6af3dd342b51fd051e...  NaN     NaN   \n",
       "2        000058a12d5b43e67d225668fa1f8d618c13dc232df0ca...  NaN     NaN   \n",
       "7        00007d2de826758b65a93dd24ce629ed66842531df6699...  1.0     1.0   \n",
       "10       0000945f66de1a11d9447609b8b41b1bc987ba185a5496...  NaN     NaN   \n",
       "...                                                    ...  ...     ...   \n",
       "1371973  ffffa28cd7ab5d1cbbbfe7b582b1c419270cc0539f3dae...  1.0     1.0   \n",
       "1371974  ffffaff3905b803d1c7e153a1378a5151e1f34f236ba54...  1.0     1.0   \n",
       "1371975  ffffbbf78b6eaac697a8a5dfbfd2bfa8113ee5b403e474...  NaN     NaN   \n",
       "1371976  ffffcd5046a6143d29a04fb8c424ce494a76e5cdf4fab5...  NaN     NaN   \n",
       "1371977  ffffcf35913a0bee60e8741cb2b4e78b8a98ee5ff2e6a1...  1.0     1.0   \n",
       "\n",
       "        club_member_status fashion_news_frequency   age  \n",
       "0                   ACTIVE                   NONE  49.0  \n",
       "1                   ACTIVE                   NONE  25.0  \n",
       "2                   ACTIVE                   NONE  24.0  \n",
       "7                   ACTIVE              Regularly  32.0  \n",
       "10                  ACTIVE                   NONE  29.0  \n",
       "...                    ...                    ...   ...  \n",
       "1371973             ACTIVE              Regularly  22.0  \n",
       "1371974             ACTIVE              Regularly  21.0  \n",
       "1371975             ACTIVE                   NONE  24.0  \n",
       "1371976             ACTIVE                   NONE  21.0  \n",
       "1371977             ACTIVE              Regularly  21.0  \n",
       "\n",
       "[850600 rows x 6 columns]"
      ]
     },
     "execution_count": 23,
     "metadata": {},
     "output_type": "execute_result"
    }
   ],
   "source": [
    "#drop unnecessary columns\n",
    "customers_df.drop(['age_bins', 'postal_code'], axis = 1, inplace =True)\n",
    "customers_df"
   ]
  },
  {
   "cell_type": "code",
   "execution_count": 24,
   "metadata": {
    "colab": {
     "base_uri": "https://localhost:8080/"
    },
    "id": "0700ade8",
    "outputId": "ccb09992-8021-440e-e646-0c5cf529cc80"
   },
   "outputs": [
    {
     "data": {
      "text/plain": [
       "customer_id                    0\n",
       "FN                        547750\n",
       "Active                    556125\n",
       "club_member_status             0\n",
       "fashion_news_frequency         0\n",
       "age                         6168\n",
       "dtype: int64"
      ]
     },
     "execution_count": 24,
     "metadata": {},
     "output_type": "execute_result"
    }
   ],
   "source": [
    "customers_df.isnull().sum()"
   ]
  },
  {
   "cell_type": "markdown",
   "metadata": {
    "id": "hq_3-pV_xyKW"
   },
   "source": [
    "According to the owner of the dataset, 'FN' is if a customer get Fashion News newsletter, 'Active' is if the customer is active for communication.\n",
    "See more [here](https://www.kaggle.com/c/h-and-m-personalized-fashion-recommendations/discussion/307001)\n",
    "\n",
    "As such, the value 1.0 in these two columns can be interpreted as 'true' and as such, np.nan can be intepreted as 'false'.\n",
    "\n",
    "Therefore, these values can be replaced with 0"
   ]
  },
  {
   "cell_type": "code",
   "execution_count": 25,
   "metadata": {
    "id": "KLOlRTxXyDey"
   },
   "outputs": [],
   "source": [
    "customers_df['FN'] = customers_df['FN'].fillna(0)\n",
    "customers_df['Active'] = customers_df['Active'].fillna(0)"
   ]
  },
  {
   "cell_type": "code",
   "execution_count": 26,
   "metadata": {
    "colab": {
     "base_uri": "https://localhost:8080/"
    },
    "id": "KYA2bQpLyFup",
    "outputId": "b66c2392-8b26-4fd6-cd23-36b75a2c0231"
   },
   "outputs": [
    {
     "data": {
      "text/plain": [
       "0.0    547750\n",
       "1.0    302850\n",
       "Name: FN, dtype: int64"
      ]
     },
     "execution_count": 26,
     "metadata": {},
     "output_type": "execute_result"
    }
   ],
   "source": [
    "customers_df.FN.value_counts()"
   ]
  },
  {
   "cell_type": "code",
   "execution_count": 27,
   "metadata": {
    "colab": {
     "base_uri": "https://localhost:8080/"
    },
    "id": "pQLz1r3iyJTy",
    "outputId": "5718c75f-9c61-43a4-d5c3-5c0ee6214994"
   },
   "outputs": [
    {
     "data": {
      "text/plain": [
       "0.0    556125\n",
       "1.0    294475\n",
       "Name: Active, dtype: int64"
      ]
     },
     "execution_count": 27,
     "metadata": {},
     "output_type": "execute_result"
    }
   ],
   "source": [
    "customers_df.Active.value_counts()"
   ]
  },
  {
   "cell_type": "code",
   "execution_count": 28,
   "metadata": {
    "colab": {
     "base_uri": "https://localhost:8080/"
    },
    "id": "_fvuCWeYyNe5",
    "outputId": "446a2422-12e9-4718-ddff-3067c03b8b8d"
   },
   "outputs": [
    {
     "data": {
      "text/plain": [
       "customer_id                  0\n",
       "FN                           0\n",
       "Active                       0\n",
       "club_member_status           0\n",
       "fashion_news_frequency       0\n",
       "age                       6168\n",
       "dtype: int64"
      ]
     },
     "execution_count": 28,
     "metadata": {},
     "output_type": "execute_result"
    }
   ],
   "source": [
    "customers_df.isnull().sum()"
   ]
  },
  {
   "cell_type": "markdown",
   "metadata": {
    "id": "q_Yp-m_PyYTT"
   },
   "source": [
    "Only the 'age' has nan values now and since they are not many, it is possible to drop these rows"
   ]
  },
  {
   "cell_type": "code",
   "execution_count": 29,
   "metadata": {
    "id": "swW1D87FyQ6d"
   },
   "outputs": [],
   "source": [
    "customers_df = customers_df.dropna(subset =['age'])"
   ]
  },
  {
   "cell_type": "code",
   "execution_count": 30,
   "metadata": {
    "colab": {
     "base_uri": "https://localhost:8080/"
    },
    "id": "dOB6yTsO3Fyq",
    "outputId": "46bd2632-3da3-4608-f72d-8477f17dcb3b"
   },
   "outputs": [
    {
     "data": {
      "text/plain": [
       "customer_id               0\n",
       "FN                        0\n",
       "Active                    0\n",
       "club_member_status        0\n",
       "fashion_news_frequency    0\n",
       "age                       0\n",
       "dtype: int64"
      ]
     },
     "execution_count": 30,
     "metadata": {},
     "output_type": "execute_result"
    }
   ],
   "source": [
    "customers_df.isnull().sum()"
   ]
  },
  {
   "cell_type": "markdown",
   "metadata": {
    "id": "G8PHBRVN3Kqg"
   },
   "source": [
    "**Scaling numeric columns**\n",
    "\n",
    "There are three numerical columns (FN, Active & age). But FN and Active have 1 and 0 values representing truth or false.\n",
    "\n",
    "As such, only age should be scaled. Below we check the dristribution of age so as to decide the best sclaing method to use."
   ]
  },
  {
   "cell_type": "code",
   "execution_count": 31,
   "metadata": {
    "colab": {
     "base_uri": "https://localhost:8080/"
    },
    "id": "_xv8SdCX3Oof",
    "outputId": "9c5df194-61a0-4a99-c51b-6dc6b9ffdcfb"
   },
   "outputs": [
    {
     "data": {
      "text/plain": [
       "count    844432.000000\n",
       "mean         31.333135\n",
       "std           8.536422\n",
       "min          21.000000\n",
       "25%          24.000000\n",
       "50%          29.000000\n",
       "75%          37.000000\n",
       "max          49.000000\n",
       "Name: age, dtype: float64"
      ]
     },
     "execution_count": 31,
     "metadata": {},
     "output_type": "execute_result"
    }
   ],
   "source": [
    "customers_df['age'].describe()"
   ]
  },
  {
   "cell_type": "code",
   "execution_count": 32,
   "metadata": {
    "colab": {
     "base_uri": "https://localhost:8080/",
     "height": 296
    },
    "id": "b0ndaomJ3emY",
    "outputId": "74c285da-1b5f-4cb5-ce08-0e5f32cabf48"
   },
   "outputs": [
    {
     "data": {
      "text/plain": [
       "<AxesSubplot:xlabel='age', ylabel='Count'>"
      ]
     },
     "execution_count": 32,
     "metadata": {},
     "output_type": "execute_result"
    },
    {
     "data": {
      "image/png": "[encoded data removed]",
      "text/plain": [
       "<Figure size 432x288 with 1 Axes>"
      ]
     },
     "metadata": {
      "needs_background": "light"
     },
     "output_type": "display_data"
    }
   ],
   "source": [
    "sns.histplot(customers_df['age'])"
   ]
  },
  {
   "cell_type": "code",
   "execution_count": 33,
   "metadata": {
    "colab": {
     "base_uri": "https://localhost:8080/",
     "height": 285
    },
    "id": "lfRdG7q-3kWK",
    "outputId": "71d21c7b-5399-49b4-9014-fdf0cf27012a"
   },
   "outputs": [
    {
     "data": {
      "text/plain": [
       "<AxesSubplot:ylabel='Density'>"
      ]
     },
     "execution_count": 33,
     "metadata": {},
     "output_type": "execute_result"
    },
    {
     "data": {
      "image/png": "[encoded data removed]",
      "text/plain": [
       "<Figure size 432x288 with 1 Axes>"
      ]
     },
     "metadata": {
      "needs_background": "light"
     },
     "output_type": "display_data"
    }
   ],
   "source": [
    "customers_df['age'].plot(kind='kde')"
   ]
  },
  {
   "cell_type": "code",
   "execution_count": 34,
   "metadata": {
    "id": "dL8OoEDa3zYl"
   },
   "outputs": [],
   "source": [
    "scaler = MinMaxScaler()"
   ]
  },
  {
   "cell_type": "code",
   "execution_count": 35,
   "metadata": {
    "colab": {
     "base_uri": "https://localhost:8080/"
    },
    "id": "QzAr8p8G36JJ",
    "outputId": "9f8e773d-b0bf-4adc-8fef-9834a05d341c"
   },
   "outputs": [
    {
     "data": {
      "text/plain": [
       "(844432, 1)"
      ]
     },
     "execution_count": 35,
     "metadata": {},
     "output_type": "execute_result"
    }
   ],
   "source": [
    "age_col = customers_df[['age']]\n",
    "\n",
    "age_col.shape"
   ]
  },
  {
   "cell_type": "code",
   "execution_count": 36,
   "metadata": {
    "id": "-mjynvqI3-d_"
   },
   "outputs": [],
   "source": [
    "scaler.fit(age_col)\n",
    "age_scaled = scaler.transform(age_col)"
   ]
  },
  {
   "cell_type": "code",
   "execution_count": 37,
   "metadata": {
    "colab": {
     "base_uri": "https://localhost:8080/"
    },
    "id": "QQD_oNqC4N2s",
    "outputId": "2a6e9069-df16-4889-dacc-d27ae011338e"
   },
   "outputs": [
    {
     "data": {
      "text/plain": [
       "(844432, 1)"
      ]
     },
     "execution_count": 37,
     "metadata": {},
     "output_type": "execute_result"
    }
   ],
   "source": [
    "age_scaled.shape"
   ]
  },
  {
   "cell_type": "code",
   "execution_count": 38,
   "metadata": {
    "id": "oxl6hRtC4SpI"
   },
   "outputs": [],
   "source": [
    "customers_df = customers_df.assign(age_scaled=age_scaled)"
   ]
  },
  {
   "cell_type": "code",
   "execution_count": 39,
   "metadata": {
    "colab": {
     "base_uri": "https://localhost:8080/",
     "height": 488
    },
    "id": "NKIAwDcz4ULu",
    "outputId": "869271ed-8c15-444f-af3f-f96629522657"
   },
   "outputs": [
    {
     "data": {
      "text/html": [
       "<div>\n",
       "<style scoped>\n",
       "    .dataframe tbody tr th:only-of-type {\n",
       "        vertical-align: middle;\n",
       "    }\n",
       "\n",
       "    .dataframe tbody tr th {\n",
       "        vertical-align: top;\n",
       "    }\n",
       "\n",
       "    .dataframe thead th {\n",
       "        text-align: right;\n",
       "    }\n",
       "</style>\n",
       "<table border=\"1\" class=\"dataframe\">\n",
       "  <thead>\n",
       "    <tr style=\"text-align: right;\">\n",
       "      <th></th>\n",
       "      <th>customer_id</th>\n",
       "      <th>FN</th>\n",
       "      <th>Active</th>\n",
       "      <th>club_member_status</th>\n",
       "      <th>fashion_news_frequency</th>\n",
       "      <th>age</th>\n",
       "      <th>age_scaled</th>\n",
       "    </tr>\n",
       "  </thead>\n",
       "  <tbody>\n",
       "    <tr>\n",
       "      <th>0</th>\n",
       "      <td>00000dbacae5abe5e23885899a1fa44253a17956c6d1c3...</td>\n",
       "      <td>0.0</td>\n",
       "      <td>0.0</td>\n",
       "      <td>ACTIVE</td>\n",
       "      <td>NONE</td>\n",
       "      <td>49.0</td>\n",
       "      <td>1.000000</td>\n",
       "    </tr>\n",
       "    <tr>\n",
       "      <th>1</th>\n",
       "      <td>0000423b00ade91418cceaf3b26c6af3dd342b51fd051e...</td>\n",
       "      <td>0.0</td>\n",
       "      <td>0.0</td>\n",
       "      <td>ACTIVE</td>\n",
       "      <td>NONE</td>\n",
       "      <td>25.0</td>\n",
       "      <td>0.142857</td>\n",
       "    </tr>\n",
       "    <tr>\n",
       "      <th>2</th>\n",
       "      <td>000058a12d5b43e67d225668fa1f8d618c13dc232df0ca...</td>\n",
       "      <td>0.0</td>\n",
       "      <td>0.0</td>\n",
       "      <td>ACTIVE</td>\n",
       "      <td>NONE</td>\n",
       "      <td>24.0</td>\n",
       "      <td>0.107143</td>\n",
       "    </tr>\n",
       "    <tr>\n",
       "      <th>7</th>\n",
       "      <td>00007d2de826758b65a93dd24ce629ed66842531df6699...</td>\n",
       "      <td>1.0</td>\n",
       "      <td>1.0</td>\n",
       "      <td>ACTIVE</td>\n",
       "      <td>Regularly</td>\n",
       "      <td>32.0</td>\n",
       "      <td>0.392857</td>\n",
       "    </tr>\n",
       "    <tr>\n",
       "      <th>10</th>\n",
       "      <td>0000945f66de1a11d9447609b8b41b1bc987ba185a5496...</td>\n",
       "      <td>0.0</td>\n",
       "      <td>0.0</td>\n",
       "      <td>ACTIVE</td>\n",
       "      <td>NONE</td>\n",
       "      <td>29.0</td>\n",
       "      <td>0.285714</td>\n",
       "    </tr>\n",
       "    <tr>\n",
       "      <th>...</th>\n",
       "      <td>...</td>\n",
       "      <td>...</td>\n",
       "      <td>...</td>\n",
       "      <td>...</td>\n",
       "      <td>...</td>\n",
       "      <td>...</td>\n",
       "      <td>...</td>\n",
       "    </tr>\n",
       "    <tr>\n",
       "      <th>1371973</th>\n",
       "      <td>ffffa28cd7ab5d1cbbbfe7b582b1c419270cc0539f3dae...</td>\n",
       "      <td>1.0</td>\n",
       "      <td>1.0</td>\n",
       "      <td>ACTIVE</td>\n",
       "      <td>Regularly</td>\n",
       "      <td>22.0</td>\n",
       "      <td>0.035714</td>\n",
       "    </tr>\n",
       "    <tr>\n",
       "      <th>1371974</th>\n",
       "      <td>ffffaff3905b803d1c7e153a1378a5151e1f34f236ba54...</td>\n",
       "      <td>1.0</td>\n",
       "      <td>1.0</td>\n",
       "      <td>ACTIVE</td>\n",
       "      <td>Regularly</td>\n",
       "      <td>21.0</td>\n",
       "      <td>0.000000</td>\n",
       "    </tr>\n",
       "    <tr>\n",
       "      <th>1371975</th>\n",
       "      <td>ffffbbf78b6eaac697a8a5dfbfd2bfa8113ee5b403e474...</td>\n",
       "      <td>0.0</td>\n",
       "      <td>0.0</td>\n",
       "      <td>ACTIVE</td>\n",
       "      <td>NONE</td>\n",
       "      <td>24.0</td>\n",
       "      <td>0.107143</td>\n",
       "    </tr>\n",
       "    <tr>\n",
       "      <th>1371976</th>\n",
       "      <td>ffffcd5046a6143d29a04fb8c424ce494a76e5cdf4fab5...</td>\n",
       "      <td>0.0</td>\n",
       "      <td>0.0</td>\n",
       "      <td>ACTIVE</td>\n",
       "      <td>NONE</td>\n",
       "      <td>21.0</td>\n",
       "      <td>0.000000</td>\n",
       "    </tr>\n",
       "    <tr>\n",
       "      <th>1371977</th>\n",
       "      <td>ffffcf35913a0bee60e8741cb2b4e78b8a98ee5ff2e6a1...</td>\n",
       "      <td>1.0</td>\n",
       "      <td>1.0</td>\n",
       "      <td>ACTIVE</td>\n",
       "      <td>Regularly</td>\n",
       "      <td>21.0</td>\n",
       "      <td>0.000000</td>\n",
       "    </tr>\n",
       "  </tbody>\n",
       "</table>\n",
       "<p>844432 rows × 7 columns</p>\n",
       "</div>"
      ],
      "text/plain": [
       "                                               customer_id   FN  Active  \\\n",
       "0        00000dbacae5abe5e23885899a1fa44253a17956c6d1c3...  0.0     0.0   \n",
       "1        0000423b00ade91418cceaf3b26c6af3dd342b51fd051e...  0.0     0.0   \n",
       "2        000058a12d5b43e67d225668fa1f8d618c13dc232df0ca...  0.0     0.0   \n",
       "7        00007d2de826758b65a93dd24ce629ed66842531df6699...  1.0     1.0   \n",
       "10       0000945f66de1a11d9447609b8b41b1bc987ba185a5496...  0.0     0.0   \n",
       "...                                                    ...  ...     ...   \n",
       "1371973  ffffa28cd7ab5d1cbbbfe7b582b1c419270cc0539f3dae...  1.0     1.0   \n",
       "1371974  ffffaff3905b803d1c7e153a1378a5151e1f34f236ba54...  1.0     1.0   \n",
       "1371975  ffffbbf78b6eaac697a8a5dfbfd2bfa8113ee5b403e474...  0.0     0.0   \n",
       "1371976  ffffcd5046a6143d29a04fb8c424ce494a76e5cdf4fab5...  0.0     0.0   \n",
       "1371977  ffffcf35913a0bee60e8741cb2b4e78b8a98ee5ff2e6a1...  1.0     1.0   \n",
       "\n",
       "        club_member_status fashion_news_frequency   age  age_scaled  \n",
       "0                   ACTIVE                   NONE  49.0    1.000000  \n",
       "1                   ACTIVE                   NONE  25.0    0.142857  \n",
       "2                   ACTIVE                   NONE  24.0    0.107143  \n",
       "7                   ACTIVE              Regularly  32.0    0.392857  \n",
       "10                  ACTIVE                   NONE  29.0    0.285714  \n",
       "...                    ...                    ...   ...         ...  \n",
       "1371973             ACTIVE              Regularly  22.0    0.035714  \n",
       "1371974             ACTIVE              Regularly  21.0    0.000000  \n",
       "1371975             ACTIVE                   NONE  24.0    0.107143  \n",
       "1371976             ACTIVE                   NONE  21.0    0.000000  \n",
       "1371977             ACTIVE              Regularly  21.0    0.000000  \n",
       "\n",
       "[844432 rows x 7 columns]"
      ]
     },
     "execution_count": 39,
     "metadata": {},
     "output_type": "execute_result"
    }
   ],
   "source": [
    "customers_df"
   ]
  },
  {
   "cell_type": "code",
   "execution_count": 40,
   "metadata": {
    "id": "RWQ5DYCJ4aoZ"
   },
   "outputs": [],
   "source": [
    "categorical_cols = ['club_member_status', 'fashion_news_frequency']"
   ]
  },
  {
   "cell_type": "code",
   "execution_count": 41,
   "metadata": {
    "colab": {
     "base_uri": "https://localhost:8080/"
    },
    "id": "np6V9_Xh4cLx",
    "outputId": "be6f3855-e72c-47c2-e90a-2930e5b25ddb"
   },
   "outputs": [
    {
     "data": {
      "text/plain": [
       "['club_member_status', 'fashion_news_frequency']"
      ]
     },
     "execution_count": 41,
     "metadata": {},
     "output_type": "execute_result"
    }
   ],
   "source": [
    "categorical_cols"
   ]
  },
  {
   "cell_type": "markdown",
   "metadata": {
    "id": "CHPP3gcg4jje"
   },
   "source": [
    "**Enconding Categorical Columns**"
   ]
  },
  {
   "cell_type": "code",
   "execution_count": 42,
   "metadata": {
    "colab": {
     "base_uri": "https://localhost:8080/"
    },
    "id": "I3RTTdQd4iC0",
    "outputId": "c8bf197f-624e-4e56-be88-3336a1d0c38f"
   },
   "outputs": [
    {
     "data": {
      "text/plain": [
       "club_member_status        1\n",
       "fashion_news_frequency    3\n",
       "dtype: int64"
      ]
     },
     "execution_count": 42,
     "metadata": {},
     "output_type": "execute_result"
    }
   ],
   "source": [
    "customers_df[categorical_cols].nunique()"
   ]
  },
  {
   "cell_type": "code",
   "execution_count": 43,
   "metadata": {
    "id": "oRXK9jbZ46sz"
   },
   "outputs": [],
   "source": [
    "encoder = OneHotEncoder(sparse = False, handle_unknown = 'ignore')"
   ]
  },
  {
   "cell_type": "code",
   "execution_count": 44,
   "metadata": {
    "colab": {
     "base_uri": "https://localhost:8080/"
    },
    "id": "hM3tNIYl5JD7",
    "outputId": "5be1333d-ea28-44bb-bb7e-c3ea6b228cf3"
   },
   "outputs": [
    {
     "data": {
      "text/plain": [
       "OneHotEncoder(handle_unknown='ignore', sparse=False)"
      ]
     },
     "execution_count": 44,
     "metadata": {},
     "output_type": "execute_result"
    }
   ],
   "source": [
    "encoder.fit(customers_df[categorical_cols])"
   ]
  },
  {
   "cell_type": "code",
   "execution_count": 45,
   "metadata": {
    "colab": {
     "base_uri": "https://localhost:8080/"
    },
    "id": "-D6bxKJs513w",
    "outputId": "c47dd1a3-0940-43d0-911d-a33539101c3f"
   },
   "outputs": [
    {
     "name": "stdout",
     "output_type": "stream",
     "text": [
      "['club_member_status_ACTIVE', 'fashion_news_frequency_Monthly', 'fashion_news_frequency_NONE', 'fashion_news_frequency_Regularly']\n"
     ]
    }
   ],
   "source": [
    "#Note: Used anoterh version of scikit-learn. get_feature_names instead() of get_feature_names_out()\n",
    "encoded_cols = list(encoder.get_feature_names(categorical_cols))\n",
    "print(encoded_cols)"
   ]
  },
  {
   "cell_type": "code",
   "execution_count": 46,
   "metadata": {
    "id": "54N9Te2u6ECa"
   },
   "outputs": [],
   "source": [
    "customers_df[encoded_cols] = encoder.transform(customers_df[categorical_cols])"
   ]
  },
  {
   "cell_type": "code",
   "execution_count": 47,
   "metadata": {
    "colab": {
     "base_uri": "https://localhost:8080/",
     "height": 488
    },
    "id": "cJ714Tro6Gus",
    "outputId": "b648d5c6-c997-4c39-e858-690a6f04737b"
   },
   "outputs": [
    {
     "data": {
      "text/html": [
       "<div>\n",
       "<style scoped>\n",
       "    .dataframe tbody tr th:only-of-type {\n",
       "        vertical-align: middle;\n",
       "    }\n",
       "\n",
       "    .dataframe tbody tr th {\n",
       "        vertical-align: top;\n",
       "    }\n",
       "\n",
       "    .dataframe thead th {\n",
       "        text-align: right;\n",
       "    }\n",
       "</style>\n",
       "<table border=\"1\" class=\"dataframe\">\n",
       "  <thead>\n",
       "    <tr style=\"text-align: right;\">\n",
       "      <th></th>\n",
       "      <th>customer_id</th>\n",
       "      <th>FN</th>\n",
       "      <th>Active</th>\n",
       "      <th>club_member_status</th>\n",
       "      <th>fashion_news_frequency</th>\n",
       "      <th>age</th>\n",
       "      <th>age_scaled</th>\n",
       "      <th>club_member_status_ACTIVE</th>\n",
       "      <th>fashion_news_frequency_Monthly</th>\n",
       "      <th>fashion_news_frequency_NONE</th>\n",
       "      <th>fashion_news_frequency_Regularly</th>\n",
       "    </tr>\n",
       "  </thead>\n",
       "  <tbody>\n",
       "    <tr>\n",
       "      <th>0</th>\n",
       "      <td>00000dbacae5abe5e23885899a1fa44253a17956c6d1c3...</td>\n",
       "      <td>0.0</td>\n",
       "      <td>0.0</td>\n",
       "      <td>ACTIVE</td>\n",
       "      <td>NONE</td>\n",
       "      <td>49.0</td>\n",
       "      <td>1.000000</td>\n",
       "      <td>1.0</td>\n",
       "      <td>0.0</td>\n",
       "      <td>1.0</td>\n",
       "      <td>0.0</td>\n",
       "    </tr>\n",
       "    <tr>\n",
       "      <th>1</th>\n",
       "      <td>0000423b00ade91418cceaf3b26c6af3dd342b51fd051e...</td>\n",
       "      <td>0.0</td>\n",
       "      <td>0.0</td>\n",
       "      <td>ACTIVE</td>\n",
       "      <td>NONE</td>\n",
       "      <td>25.0</td>\n",
       "      <td>0.142857</td>\n",
       "      <td>1.0</td>\n",
       "      <td>0.0</td>\n",
       "      <td>1.0</td>\n",
       "      <td>0.0</td>\n",
       "    </tr>\n",
       "    <tr>\n",
       "      <th>2</th>\n",
       "      <td>000058a12d5b43e67d225668fa1f8d618c13dc232df0ca...</td>\n",
       "      <td>0.0</td>\n",
       "      <td>0.0</td>\n",
       "      <td>ACTIVE</td>\n",
       "      <td>NONE</td>\n",
       "      <td>24.0</td>\n",
       "      <td>0.107143</td>\n",
       "      <td>1.0</td>\n",
       "      <td>0.0</td>\n",
       "      <td>1.0</td>\n",
       "      <td>0.0</td>\n",
       "    </tr>\n",
       "    <tr>\n",
       "      <th>7</th>\n",
       "      <td>00007d2de826758b65a93dd24ce629ed66842531df6699...</td>\n",
       "      <td>1.0</td>\n",
       "      <td>1.0</td>\n",
       "      <td>ACTIVE</td>\n",
       "      <td>Regularly</td>\n",
       "      <td>32.0</td>\n",
       "      <td>0.392857</td>\n",
       "      <td>1.0</td>\n",
       "      <td>0.0</td>\n",
       "      <td>0.0</td>\n",
       "      <td>1.0</td>\n",
       "    </tr>\n",
       "    <tr>\n",
       "      <th>10</th>\n",
       "      <td>0000945f66de1a11d9447609b8b41b1bc987ba185a5496...</td>\n",
       "      <td>0.0</td>\n",
       "      <td>0.0</td>\n",
       "      <td>ACTIVE</td>\n",
       "      <td>NONE</td>\n",
       "      <td>29.0</td>\n",
       "      <td>0.285714</td>\n",
       "      <td>1.0</td>\n",
       "      <td>0.0</td>\n",
       "      <td>1.0</td>\n",
       "      <td>0.0</td>\n",
       "    </tr>\n",
       "    <tr>\n",
       "      <th>...</th>\n",
       "      <td>...</td>\n",
       "      <td>...</td>\n",
       "      <td>...</td>\n",
       "      <td>...</td>\n",
       "      <td>...</td>\n",
       "      <td>...</td>\n",
       "      <td>...</td>\n",
       "      <td>...</td>\n",
       "      <td>...</td>\n",
       "      <td>...</td>\n",
       "      <td>...</td>\n",
       "    </tr>\n",
       "    <tr>\n",
       "      <th>1371973</th>\n",
       "      <td>ffffa28cd7ab5d1cbbbfe7b582b1c419270cc0539f3dae...</td>\n",
       "      <td>1.0</td>\n",
       "      <td>1.0</td>\n",
       "      <td>ACTIVE</td>\n",
       "      <td>Regularly</td>\n",
       "      <td>22.0</td>\n",
       "      <td>0.035714</td>\n",
       "      <td>1.0</td>\n",
       "      <td>0.0</td>\n",
       "      <td>0.0</td>\n",
       "      <td>1.0</td>\n",
       "    </tr>\n",
       "    <tr>\n",
       "      <th>1371974</th>\n",
       "      <td>ffffaff3905b803d1c7e153a1378a5151e1f34f236ba54...</td>\n",
       "      <td>1.0</td>\n",
       "      <td>1.0</td>\n",
       "      <td>ACTIVE</td>\n",
       "      <td>Regularly</td>\n",
       "      <td>21.0</td>\n",
       "      <td>0.000000</td>\n",
       "      <td>1.0</td>\n",
       "      <td>0.0</td>\n",
       "      <td>0.0</td>\n",
       "      <td>1.0</td>\n",
       "    </tr>\n",
       "    <tr>\n",
       "      <th>1371975</th>\n",
       "      <td>ffffbbf78b6eaac697a8a5dfbfd2bfa8113ee5b403e474...</td>\n",
       "      <td>0.0</td>\n",
       "      <td>0.0</td>\n",
       "      <td>ACTIVE</td>\n",
       "      <td>NONE</td>\n",
       "      <td>24.0</td>\n",
       "      <td>0.107143</td>\n",
       "      <td>1.0</td>\n",
       "      <td>0.0</td>\n",
       "      <td>1.0</td>\n",
       "      <td>0.0</td>\n",
       "    </tr>\n",
       "    <tr>\n",
       "      <th>1371976</th>\n",
       "      <td>ffffcd5046a6143d29a04fb8c424ce494a76e5cdf4fab5...</td>\n",
       "      <td>0.0</td>\n",
       "      <td>0.0</td>\n",
       "      <td>ACTIVE</td>\n",
       "      <td>NONE</td>\n",
       "      <td>21.0</td>\n",
       "      <td>0.000000</td>\n",
       "      <td>1.0</td>\n",
       "      <td>0.0</td>\n",
       "      <td>1.0</td>\n",
       "      <td>0.0</td>\n",
       "    </tr>\n",
       "    <tr>\n",
       "      <th>1371977</th>\n",
       "      <td>ffffcf35913a0bee60e8741cb2b4e78b8a98ee5ff2e6a1...</td>\n",
       "      <td>1.0</td>\n",
       "      <td>1.0</td>\n",
       "      <td>ACTIVE</td>\n",
       "      <td>Regularly</td>\n",
       "      <td>21.0</td>\n",
       "      <td>0.000000</td>\n",
       "      <td>1.0</td>\n",
       "      <td>0.0</td>\n",
       "      <td>0.0</td>\n",
       "      <td>1.0</td>\n",
       "    </tr>\n",
       "  </tbody>\n",
       "</table>\n",
       "<p>844432 rows × 11 columns</p>\n",
       "</div>"
      ],
      "text/plain": [
       "                                               customer_id   FN  Active  \\\n",
       "0        00000dbacae5abe5e23885899a1fa44253a17956c6d1c3...  0.0     0.0   \n",
       "1        0000423b00ade91418cceaf3b26c6af3dd342b51fd051e...  0.0     0.0   \n",
       "2        000058a12d5b43e67d225668fa1f8d618c13dc232df0ca...  0.0     0.0   \n",
       "7        00007d2de826758b65a93dd24ce629ed66842531df6699...  1.0     1.0   \n",
       "10       0000945f66de1a11d9447609b8b41b1bc987ba185a5496...  0.0     0.0   \n",
       "...                                                    ...  ...     ...   \n",
       "1371973  ffffa28cd7ab5d1cbbbfe7b582b1c419270cc0539f3dae...  1.0     1.0   \n",
       "1371974  ffffaff3905b803d1c7e153a1378a5151e1f34f236ba54...  1.0     1.0   \n",
       "1371975  ffffbbf78b6eaac697a8a5dfbfd2bfa8113ee5b403e474...  0.0     0.0   \n",
       "1371976  ffffcd5046a6143d29a04fb8c424ce494a76e5cdf4fab5...  0.0     0.0   \n",
       "1371977  ffffcf35913a0bee60e8741cb2b4e78b8a98ee5ff2e6a1...  1.0     1.0   \n",
       "\n",
       "        club_member_status fashion_news_frequency   age  age_scaled  \\\n",
       "0                   ACTIVE                   NONE  49.0    1.000000   \n",
       "1                   ACTIVE                   NONE  25.0    0.142857   \n",
       "2                   ACTIVE                   NONE  24.0    0.107143   \n",
       "7                   ACTIVE              Regularly  32.0    0.392857   \n",
       "10                  ACTIVE                   NONE  29.0    0.285714   \n",
       "...                    ...                    ...   ...         ...   \n",
       "1371973             ACTIVE              Regularly  22.0    0.035714   \n",
       "1371974             ACTIVE              Regularly  21.0    0.000000   \n",
       "1371975             ACTIVE                   NONE  24.0    0.107143   \n",
       "1371976             ACTIVE                   NONE  21.0    0.000000   \n",
       "1371977             ACTIVE              Regularly  21.0    0.000000   \n",
       "\n",
       "         club_member_status_ACTIVE  fashion_news_frequency_Monthly  \\\n",
       "0                              1.0                             0.0   \n",
       "1                              1.0                             0.0   \n",
       "2                              1.0                             0.0   \n",
       "7                              1.0                             0.0   \n",
       "10                             1.0                             0.0   \n",
       "...                            ...                             ...   \n",
       "1371973                        1.0                             0.0   \n",
       "1371974                        1.0                             0.0   \n",
       "1371975                        1.0                             0.0   \n",
       "1371976                        1.0                             0.0   \n",
       "1371977                        1.0                             0.0   \n",
       "\n",
       "         fashion_news_frequency_NONE  fashion_news_frequency_Regularly  \n",
       "0                                1.0                               0.0  \n",
       "1                                1.0                               0.0  \n",
       "2                                1.0                               0.0  \n",
       "7                                0.0                               1.0  \n",
       "10                               1.0                               0.0  \n",
       "...                              ...                               ...  \n",
       "1371973                          0.0                               1.0  \n",
       "1371974                          0.0                               1.0  \n",
       "1371975                          1.0                               0.0  \n",
       "1371976                          1.0                               0.0  \n",
       "1371977                          0.0                               1.0  \n",
       "\n",
       "[844432 rows x 11 columns]"
      ]
     },
     "execution_count": 47,
     "metadata": {},
     "output_type": "execute_result"
    }
   ],
   "source": [
    "customers_df"
   ]
  },
  {
   "cell_type": "code",
   "execution_count": 48,
   "metadata": {
    "id": "T6B6R2KR6Km7"
   },
   "outputs": [],
   "source": [
    "customers_num_df = customers_df[['FN', 'Active','age_scaled','fashion_news_frequency_Monthly','fashion_news_frequency_NONE','fashion_news_frequency_Regularly']]"
   ]
  },
  {
   "cell_type": "code",
   "execution_count": 49,
   "metadata": {
    "colab": {
     "base_uri": "https://localhost:8080/",
     "height": 301
    },
    "id": "z-GTZ2Qm7HmW",
    "outputId": "bba971c3-c8e3-41e7-d545-d33030451153"
   },
   "outputs": [
    {
     "data": {
      "text/html": [
       "<div>\n",
       "<style scoped>\n",
       "    .dataframe tbody tr th:only-of-type {\n",
       "        vertical-align: middle;\n",
       "    }\n",
       "\n",
       "    .dataframe tbody tr th {\n",
       "        vertical-align: top;\n",
       "    }\n",
       "\n",
       "    .dataframe thead th {\n",
       "        text-align: right;\n",
       "    }\n",
       "</style>\n",
       "<table border=\"1\" class=\"dataframe\">\n",
       "  <thead>\n",
       "    <tr style=\"text-align: right;\">\n",
       "      <th></th>\n",
       "      <th>FN</th>\n",
       "      <th>Active</th>\n",
       "      <th>age_scaled</th>\n",
       "      <th>fashion_news_frequency_Monthly</th>\n",
       "      <th>fashion_news_frequency_NONE</th>\n",
       "      <th>fashion_news_frequency_Regularly</th>\n",
       "    </tr>\n",
       "  </thead>\n",
       "  <tbody>\n",
       "    <tr>\n",
       "      <th>FN</th>\n",
       "      <td>1.000000</td>\n",
       "      <td>0.978589</td>\n",
       "      <td>0.018760</td>\n",
       "      <td>0.032688</td>\n",
       "      <td>-0.994511</td>\n",
       "      <td>0.993181</td>\n",
       "    </tr>\n",
       "    <tr>\n",
       "      <th>Active</th>\n",
       "      <td>0.978589</td>\n",
       "      <td>1.000000</td>\n",
       "      <td>0.020216</td>\n",
       "      <td>0.031154</td>\n",
       "      <td>-0.974137</td>\n",
       "      <td>0.972880</td>\n",
       "    </tr>\n",
       "    <tr>\n",
       "      <th>age_scaled</th>\n",
       "      <td>0.018760</td>\n",
       "      <td>0.020216</td>\n",
       "      <td>1.000000</td>\n",
       "      <td>0.004650</td>\n",
       "      <td>-0.018578</td>\n",
       "      <td>0.018341</td>\n",
       "    </tr>\n",
       "    <tr>\n",
       "      <th>fashion_news_frequency_Monthly</th>\n",
       "      <td>0.032688</td>\n",
       "      <td>0.031154</td>\n",
       "      <td>0.004650</td>\n",
       "      <td>1.000000</td>\n",
       "      <td>-0.033770</td>\n",
       "      <td>-0.018852</td>\n",
       "    </tr>\n",
       "    <tr>\n",
       "      <th>fashion_news_frequency_NONE</th>\n",
       "      <td>-0.994511</td>\n",
       "      <td>-0.974137</td>\n",
       "      <td>-0.018578</td>\n",
       "      <td>-0.033770</td>\n",
       "      <td>1.000000</td>\n",
       "      <td>-0.998615</td>\n",
       "    </tr>\n",
       "    <tr>\n",
       "      <th>fashion_news_frequency_Regularly</th>\n",
       "      <td>0.993181</td>\n",
       "      <td>0.972880</td>\n",
       "      <td>0.018341</td>\n",
       "      <td>-0.018852</td>\n",
       "      <td>-0.998615</td>\n",
       "      <td>1.000000</td>\n",
       "    </tr>\n",
       "  </tbody>\n",
       "</table>\n",
       "</div>"
      ],
      "text/plain": [
       "                                        FN    Active  age_scaled  \\\n",
       "FN                                1.000000  0.978589    0.018760   \n",
       "Active                            0.978589  1.000000    0.020216   \n",
       "age_scaled                        0.018760  0.020216    1.000000   \n",
       "fashion_news_frequency_Monthly    0.032688  0.031154    0.004650   \n",
       "fashion_news_frequency_NONE      -0.994511 -0.974137   -0.018578   \n",
       "fashion_news_frequency_Regularly  0.993181  0.972880    0.018341   \n",
       "\n",
       "                                  fashion_news_frequency_Monthly  \\\n",
       "FN                                                      0.032688   \n",
       "Active                                                  0.031154   \n",
       "age_scaled                                              0.004650   \n",
       "fashion_news_frequency_Monthly                          1.000000   \n",
       "fashion_news_frequency_NONE                            -0.033770   \n",
       "fashion_news_frequency_Regularly                       -0.018852   \n",
       "\n",
       "                                  fashion_news_frequency_NONE  \\\n",
       "FN                                                  -0.994511   \n",
       "Active                                              -0.974137   \n",
       "age_scaled                                          -0.018578   \n",
       "fashion_news_frequency_Monthly                      -0.033770   \n",
       "fashion_news_frequency_NONE                          1.000000   \n",
       "fashion_news_frequency_Regularly                    -0.998615   \n",
       "\n",
       "                                  fashion_news_frequency_Regularly  \n",
       "FN                                                        0.993181  \n",
       "Active                                                    0.972880  \n",
       "age_scaled                                                0.018341  \n",
       "fashion_news_frequency_Monthly                           -0.018852  \n",
       "fashion_news_frequency_NONE                              -0.998615  \n",
       "fashion_news_frequency_Regularly                          1.000000  "
      ]
     },
     "execution_count": 49,
     "metadata": {},
     "output_type": "execute_result"
    }
   ],
   "source": [
    "customers_num_df.corr()"
   ]
  },
  {
   "cell_type": "code",
   "execution_count": 50,
   "metadata": {
    "colab": {
     "base_uri": "https://localhost:8080/",
     "height": 446
    },
    "id": "vZ2Vtw2PE4_d",
    "outputId": "16a33673-0558-4fe0-caec-f37ce918c502"
   },
   "outputs": [
    {
     "data": {
      "image/png": "[encoded data removed]",
      "text/plain": [
       "<Figure size 432x288 with 2 Axes>"
      ]
     },
     "metadata": {
      "needs_background": "light"
     },
     "output_type": "display_data"
    }
   ],
   "source": [
    "sns.heatmap(customers_num_df.corr(), cmap ='Reds', annot = True)\n",
    "plt.title('Correlation Matrix');"
   ]
  },
  {
   "cell_type": "markdown",
   "metadata": {},
   "source": [
    "**Articles Data**"
   ]
  },
  {
   "cell_type": "code",
   "execution_count": 51,
   "metadata": {},
   "outputs": [],
   "source": [
    "articles_df = pd.read_csv('articles.csv')"
   ]
  },
  {
   "cell_type": "code",
   "execution_count": 52,
   "metadata": {},
   "outputs": [
    {
     "data": {
      "text/plain": [
       "(105542, 25)"
      ]
     },
     "execution_count": 52,
     "metadata": {},
     "output_type": "execute_result"
    }
   ],
   "source": [
    "articles_df.shape"
   ]
  },
  {
   "cell_type": "code",
   "execution_count": 53,
   "metadata": {},
   "outputs": [
    {
     "data": {
      "text/html": [
       "<div>\n",
       "<style scoped>\n",
       "    .dataframe tbody tr th:only-of-type {\n",
       "        vertical-align: middle;\n",
       "    }\n",
       "\n",
       "    .dataframe tbody tr th {\n",
       "        vertical-align: top;\n",
       "    }\n",
       "\n",
       "    .dataframe thead th {\n",
       "        text-align: right;\n",
       "    }\n",
       "</style>\n",
       "<table border=\"1\" class=\"dataframe\">\n",
       "  <thead>\n",
       "    <tr style=\"text-align: right;\">\n",
       "      <th></th>\n",
       "      <th>article_id</th>\n",
       "      <th>product_code</th>\n",
       "      <th>prod_name</th>\n",
       "      <th>product_type_no</th>\n",
       "      <th>product_type_name</th>\n",
       "      <th>product_group_name</th>\n",
       "      <th>graphical_appearance_no</th>\n",
       "      <th>graphical_appearance_name</th>\n",
       "      <th>colour_group_code</th>\n",
       "      <th>colour_group_name</th>\n",
       "      <th>...</th>\n",
       "      <th>department_name</th>\n",
       "      <th>index_code</th>\n",
       "      <th>index_name</th>\n",
       "      <th>index_group_no</th>\n",
       "      <th>index_group_name</th>\n",
       "      <th>section_no</th>\n",
       "      <th>section_name</th>\n",
       "      <th>garment_group_no</th>\n",
       "      <th>garment_group_name</th>\n",
       "      <th>detail_desc</th>\n",
       "    </tr>\n",
       "  </thead>\n",
       "  <tbody>\n",
       "    <tr>\n",
       "      <th>0</th>\n",
       "      <td>108775015</td>\n",
       "      <td>108775</td>\n",
       "      <td>Strap top</td>\n",
       "      <td>253</td>\n",
       "      <td>Vest top</td>\n",
       "      <td>Garment Upper body</td>\n",
       "      <td>1010016</td>\n",
       "      <td>Solid</td>\n",
       "      <td>9</td>\n",
       "      <td>Black</td>\n",
       "      <td>...</td>\n",
       "      <td>Jersey Basic</td>\n",
       "      <td>A</td>\n",
       "      <td>Ladieswear</td>\n",
       "      <td>1</td>\n",
       "      <td>Ladieswear</td>\n",
       "      <td>16</td>\n",
       "      <td>Womens Everyday Basics</td>\n",
       "      <td>1002</td>\n",
       "      <td>Jersey Basic</td>\n",
       "      <td>Jersey top with narrow shoulder straps.</td>\n",
       "    </tr>\n",
       "    <tr>\n",
       "      <th>1</th>\n",
       "      <td>108775044</td>\n",
       "      <td>108775</td>\n",
       "      <td>Strap top</td>\n",
       "      <td>253</td>\n",
       "      <td>Vest top</td>\n",
       "      <td>Garment Upper body</td>\n",
       "      <td>1010016</td>\n",
       "      <td>Solid</td>\n",
       "      <td>10</td>\n",
       "      <td>White</td>\n",
       "      <td>...</td>\n",
       "      <td>Jersey Basic</td>\n",
       "      <td>A</td>\n",
       "      <td>Ladieswear</td>\n",
       "      <td>1</td>\n",
       "      <td>Ladieswear</td>\n",
       "      <td>16</td>\n",
       "      <td>Womens Everyday Basics</td>\n",
       "      <td>1002</td>\n",
       "      <td>Jersey Basic</td>\n",
       "      <td>Jersey top with narrow shoulder straps.</td>\n",
       "    </tr>\n",
       "    <tr>\n",
       "      <th>2</th>\n",
       "      <td>108775051</td>\n",
       "      <td>108775</td>\n",
       "      <td>Strap top (1)</td>\n",
       "      <td>253</td>\n",
       "      <td>Vest top</td>\n",
       "      <td>Garment Upper body</td>\n",
       "      <td>1010017</td>\n",
       "      <td>Stripe</td>\n",
       "      <td>11</td>\n",
       "      <td>Off White</td>\n",
       "      <td>...</td>\n",
       "      <td>Jersey Basic</td>\n",
       "      <td>A</td>\n",
       "      <td>Ladieswear</td>\n",
       "      <td>1</td>\n",
       "      <td>Ladieswear</td>\n",
       "      <td>16</td>\n",
       "      <td>Womens Everyday Basics</td>\n",
       "      <td>1002</td>\n",
       "      <td>Jersey Basic</td>\n",
       "      <td>Jersey top with narrow shoulder straps.</td>\n",
       "    </tr>\n",
       "    <tr>\n",
       "      <th>3</th>\n",
       "      <td>110065001</td>\n",
       "      <td>110065</td>\n",
       "      <td>OP T-shirt (Idro)</td>\n",
       "      <td>306</td>\n",
       "      <td>Bra</td>\n",
       "      <td>Underwear</td>\n",
       "      <td>1010016</td>\n",
       "      <td>Solid</td>\n",
       "      <td>9</td>\n",
       "      <td>Black</td>\n",
       "      <td>...</td>\n",
       "      <td>Clean Lingerie</td>\n",
       "      <td>B</td>\n",
       "      <td>Lingeries/Tights</td>\n",
       "      <td>1</td>\n",
       "      <td>Ladieswear</td>\n",
       "      <td>61</td>\n",
       "      <td>Womens Lingerie</td>\n",
       "      <td>1017</td>\n",
       "      <td>Under-, Nightwear</td>\n",
       "      <td>Microfibre T-shirt bra with underwired, moulde...</td>\n",
       "    </tr>\n",
       "    <tr>\n",
       "      <th>4</th>\n",
       "      <td>110065002</td>\n",
       "      <td>110065</td>\n",
       "      <td>OP T-shirt (Idro)</td>\n",
       "      <td>306</td>\n",
       "      <td>Bra</td>\n",
       "      <td>Underwear</td>\n",
       "      <td>1010016</td>\n",
       "      <td>Solid</td>\n",
       "      <td>10</td>\n",
       "      <td>White</td>\n",
       "      <td>...</td>\n",
       "      <td>Clean Lingerie</td>\n",
       "      <td>B</td>\n",
       "      <td>Lingeries/Tights</td>\n",
       "      <td>1</td>\n",
       "      <td>Ladieswear</td>\n",
       "      <td>61</td>\n",
       "      <td>Womens Lingerie</td>\n",
       "      <td>1017</td>\n",
       "      <td>Under-, Nightwear</td>\n",
       "      <td>Microfibre T-shirt bra with underwired, moulde...</td>\n",
       "    </tr>\n",
       "  </tbody>\n",
       "</table>\n",
       "<p>5 rows × 25 columns</p>\n",
       "</div>"
      ],
      "text/plain": [
       "   article_id  product_code          prod_name  product_type_no  \\\n",
       "0   108775015        108775          Strap top              253   \n",
       "1   108775044        108775          Strap top              253   \n",
       "2   108775051        108775      Strap top (1)              253   \n",
       "3   110065001        110065  OP T-shirt (Idro)              306   \n",
       "4   110065002        110065  OP T-shirt (Idro)              306   \n",
       "\n",
       "  product_type_name  product_group_name  graphical_appearance_no  \\\n",
       "0          Vest top  Garment Upper body                  1010016   \n",
       "1          Vest top  Garment Upper body                  1010016   \n",
       "2          Vest top  Garment Upper body                  1010017   \n",
       "3               Bra           Underwear                  1010016   \n",
       "4               Bra           Underwear                  1010016   \n",
       "\n",
       "  graphical_appearance_name  colour_group_code colour_group_name  ...  \\\n",
       "0                     Solid                  9             Black  ...   \n",
       "1                     Solid                 10             White  ...   \n",
       "2                    Stripe                 11         Off White  ...   \n",
       "3                     Solid                  9             Black  ...   \n",
       "4                     Solid                 10             White  ...   \n",
       "\n",
       "   department_name index_code        index_name index_group_no  \\\n",
       "0     Jersey Basic          A        Ladieswear              1   \n",
       "1     Jersey Basic          A        Ladieswear              1   \n",
       "2     Jersey Basic          A        Ladieswear              1   \n",
       "3   Clean Lingerie          B  Lingeries/Tights              1   \n",
       "4   Clean Lingerie          B  Lingeries/Tights              1   \n",
       "\n",
       "   index_group_name section_no            section_name garment_group_no  \\\n",
       "0        Ladieswear         16  Womens Everyday Basics             1002   \n",
       "1        Ladieswear         16  Womens Everyday Basics             1002   \n",
       "2        Ladieswear         16  Womens Everyday Basics             1002   \n",
       "3        Ladieswear         61         Womens Lingerie             1017   \n",
       "4        Ladieswear         61         Womens Lingerie             1017   \n",
       "\n",
       "   garment_group_name                                        detail_desc  \n",
       "0        Jersey Basic            Jersey top with narrow shoulder straps.  \n",
       "1        Jersey Basic            Jersey top with narrow shoulder straps.  \n",
       "2        Jersey Basic            Jersey top with narrow shoulder straps.  \n",
       "3   Under-, Nightwear  Microfibre T-shirt bra with underwired, moulde...  \n",
       "4   Under-, Nightwear  Microfibre T-shirt bra with underwired, moulde...  \n",
       "\n",
       "[5 rows x 25 columns]"
      ]
     },
     "execution_count": 53,
     "metadata": {},
     "output_type": "execute_result"
    }
   ],
   "source": [
    "articles_df.head()"
   ]
  },
  {
   "cell_type": "code",
   "execution_count": 54,
   "metadata": {},
   "outputs": [
    {
     "data": {
      "text/plain": [
       "(105542, 25)"
      ]
     },
     "execution_count": 54,
     "metadata": {},
     "output_type": "execute_result"
    }
   ],
   "source": [
    "articles_df.shape"
   ]
  },
  {
   "cell_type": "code",
   "execution_count": 55,
   "metadata": {},
   "outputs": [
    {
     "data": {
      "text/plain": [
       "article_id                        0\n",
       "product_code                      0\n",
       "prod_name                         0\n",
       "product_type_no                   0\n",
       "product_type_name                 0\n",
       "product_group_name                0\n",
       "graphical_appearance_no           0\n",
       "graphical_appearance_name         0\n",
       "colour_group_code                 0\n",
       "colour_group_name                 0\n",
       "perceived_colour_value_id         0\n",
       "perceived_colour_value_name       0\n",
       "perceived_colour_master_id        0\n",
       "perceived_colour_master_name      0\n",
       "department_no                     0\n",
       "department_name                   0\n",
       "index_code                        0\n",
       "index_name                        0\n",
       "index_group_no                    0\n",
       "index_group_name                  0\n",
       "section_no                        0\n",
       "section_name                      0\n",
       "garment_group_no                  0\n",
       "garment_group_name                0\n",
       "detail_desc                     416\n",
       "dtype: int64"
      ]
     },
     "execution_count": 55,
     "metadata": {},
     "output_type": "execute_result"
    }
   ],
   "source": [
    "articles_df.isnull().sum()"
   ]
  },
  {
   "cell_type": "code",
   "execution_count": 56,
   "metadata": {},
   "outputs": [],
   "source": [
    "articles_df = articles_df.dropna()"
   ]
  },
  {
   "cell_type": "code",
   "execution_count": 57,
   "metadata": {},
   "outputs": [
    {
     "data": {
      "text/plain": [
       "<AxesSubplot:>"
      ]
     },
     "execution_count": 57,
     "metadata": {},
     "output_type": "execute_result"
    },
    {
     "data": {
      "image/png": "[encoded data removed]",
      "text/plain": [
       "<Figure size 432x288 with 1 Axes>"
      ]
     },
     "metadata": {
      "needs_background": "light"
     },
     "output_type": "display_data"
    }
   ],
   "source": [
    "articles_df.product_group_name.value_counts().plot(kind = 'barh')"
   ]
  },
  {
   "cell_type": "code",
   "execution_count": 58,
   "metadata": {},
   "outputs": [
    {
     "data": {
      "text/plain": [
       "<AxesSubplot:>"
      ]
     },
     "execution_count": 58,
     "metadata": {},
     "output_type": "execute_result"
    },
    {
     "data": {
      "image/png": "[encoded data removed]",
      "text/plain": [
       "<Figure size 432x288 with 1 Axes>"
      ]
     },
     "metadata": {
      "needs_background": "light"
     },
     "output_type": "display_data"
    }
   ],
   "source": [
    "articles_df.index_group_name.value_counts().plot(kind = 'barh')"
   ]
  },
  {
   "cell_type": "markdown",
   "metadata": {},
   "source": [
    "**Transactions Data**"
   ]
  },
  {
   "cell_type": "code",
   "execution_count": 59,
   "metadata": {
    "id": "LxlI_yvKTw-a"
   },
   "outputs": [],
   "source": [
    "transactions_df = pd.read_csv('transactions_train.csv', parse_dates=[\"t_dat\"])"
   ]
  },
  {
   "cell_type": "code",
   "execution_count": 60,
   "metadata": {},
   "outputs": [
    {
     "data": {
      "text/plain": [
       "t_dat               datetime64[ns]\n",
       "customer_id                 object\n",
       "article_id                   int64\n",
       "price                      float64\n",
       "sales_channel_id             int64\n",
       "dtype: object"
      ]
     },
     "execution_count": 60,
     "metadata": {},
     "output_type": "execute_result"
    }
   ],
   "source": [
    "transactions_df.dtypes"
   ]
  },
  {
   "cell_type": "code",
   "execution_count": 61,
   "metadata": {},
   "outputs": [
    {
     "data": {
      "text/plain": [
       "(31788324, 5)"
      ]
     },
     "execution_count": 61,
     "metadata": {},
     "output_type": "execute_result"
    }
   ],
   "source": [
    "transactions_df.shape"
   ]
  },
  {
   "cell_type": "code",
   "execution_count": 62,
   "metadata": {
    "colab": {
     "base_uri": "https://localhost:8080/",
     "height": 206
    },
    "id": "f9f-17PxT9_6",
    "outputId": "f2d23ed7-a0f6-4dc4-ff7b-32c0568d1c92"
   },
   "outputs": [
    {
     "data": {
      "text/html": [
       "<div>\n",
       "<style scoped>\n",
       "    .dataframe tbody tr th:only-of-type {\n",
       "        vertical-align: middle;\n",
       "    }\n",
       "\n",
       "    .dataframe tbody tr th {\n",
       "        vertical-align: top;\n",
       "    }\n",
       "\n",
       "    .dataframe thead th {\n",
       "        text-align: right;\n",
       "    }\n",
       "</style>\n",
       "<table border=\"1\" class=\"dataframe\">\n",
       "  <thead>\n",
       "    <tr style=\"text-align: right;\">\n",
       "      <th></th>\n",
       "      <th>t_dat</th>\n",
       "      <th>customer_id</th>\n",
       "      <th>article_id</th>\n",
       "      <th>price</th>\n",
       "      <th>sales_channel_id</th>\n",
       "    </tr>\n",
       "  </thead>\n",
       "  <tbody>\n",
       "    <tr>\n",
       "      <th>0</th>\n",
       "      <td>2018-09-20</td>\n",
       "      <td>000058a12d5b43e67d225668fa1f8d618c13dc232df0ca...</td>\n",
       "      <td>663713001</td>\n",
       "      <td>0.050831</td>\n",
       "      <td>2</td>\n",
       "    </tr>\n",
       "    <tr>\n",
       "      <th>1</th>\n",
       "      <td>2018-09-20</td>\n",
       "      <td>000058a12d5b43e67d225668fa1f8d618c13dc232df0ca...</td>\n",
       "      <td>541518023</td>\n",
       "      <td>0.030492</td>\n",
       "      <td>2</td>\n",
       "    </tr>\n",
       "    <tr>\n",
       "      <th>2</th>\n",
       "      <td>2018-09-20</td>\n",
       "      <td>00007d2de826758b65a93dd24ce629ed66842531df6699...</td>\n",
       "      <td>505221004</td>\n",
       "      <td>0.015237</td>\n",
       "      <td>2</td>\n",
       "    </tr>\n",
       "    <tr>\n",
       "      <th>3</th>\n",
       "      <td>2018-09-20</td>\n",
       "      <td>00007d2de826758b65a93dd24ce629ed66842531df6699...</td>\n",
       "      <td>685687003</td>\n",
       "      <td>0.016932</td>\n",
       "      <td>2</td>\n",
       "    </tr>\n",
       "    <tr>\n",
       "      <th>4</th>\n",
       "      <td>2018-09-20</td>\n",
       "      <td>00007d2de826758b65a93dd24ce629ed66842531df6699...</td>\n",
       "      <td>685687004</td>\n",
       "      <td>0.016932</td>\n",
       "      <td>2</td>\n",
       "    </tr>\n",
       "  </tbody>\n",
       "</table>\n",
       "</div>"
      ],
      "text/plain": [
       "       t_dat                                        customer_id  article_id  \\\n",
       "0 2018-09-20  000058a12d5b43e67d225668fa1f8d618c13dc232df0ca...   663713001   \n",
       "1 2018-09-20  000058a12d5b43e67d225668fa1f8d618c13dc232df0ca...   541518023   \n",
       "2 2018-09-20  00007d2de826758b65a93dd24ce629ed66842531df6699...   505221004   \n",
       "3 2018-09-20  00007d2de826758b65a93dd24ce629ed66842531df6699...   685687003   \n",
       "4 2018-09-20  00007d2de826758b65a93dd24ce629ed66842531df6699...   685687004   \n",
       "\n",
       "      price  sales_channel_id  \n",
       "0  0.050831                 2  \n",
       "1  0.030492                 2  \n",
       "2  0.015237                 2  \n",
       "3  0.016932                 2  \n",
       "4  0.016932                 2  "
      ]
     },
     "execution_count": 62,
     "metadata": {},
     "output_type": "execute_result"
    }
   ],
   "source": [
    "transactions_df.head()"
   ]
  },
  {
   "cell_type": "code",
   "execution_count": 63,
   "metadata": {},
   "outputs": [
    {
     "data": {
      "text/plain": [
       "Timestamp('2020-09-22 00:00:00')"
      ]
     },
     "execution_count": 63,
     "metadata": {},
     "output_type": "execute_result"
    }
   ],
   "source": [
    "transactions_df['t_dat'].max()"
   ]
  },
  {
   "cell_type": "markdown",
   "metadata": {},
   "source": [
    "A total of 31,788,324 transactions made by 1,371,980 customers as seen from the cutomers_df. The first transaction was on 20/09/2018 and the last transaction was on 20/09/2020"
   ]
  },
  {
   "cell_type": "code",
   "execution_count": 64,
   "metadata": {},
   "outputs": [
    {
     "data": {
      "text/plain": [
       "1362281"
      ]
     },
     "execution_count": 64,
     "metadata": {},
     "output_type": "execute_result"
    }
   ],
   "source": [
    "#number of unique values\n",
    "transactions_df['customer_id'].nunique()"
   ]
  },
  {
   "cell_type": "code",
   "execution_count": 65,
   "metadata": {},
   "outputs": [
    {
     "data": {
      "text/plain": [
       "<AxesSubplot:>"
      ]
     },
     "execution_count": 65,
     "metadata": {},
     "output_type": "execute_result"
    },
    {
     "data": {
      "image/png": "[encoded data removed]",
      "text/plain": [
       "<Figure size 432x288 with 1 Axes>"
      ]
     },
     "metadata": {
      "needs_background": "light"
     },
     "output_type": "display_data"
    }
   ],
   "source": [
    "transactions_df['t_dat'].value_counts().plot()"
   ]
  },
  {
   "cell_type": "markdown",
   "metadata": {},
   "source": [
    "**Merge the dataframes**"
   ]
  },
  {
   "cell_type": "code",
   "execution_count": 66,
   "metadata": {},
   "outputs": [
    {
     "name": "stdout",
     "output_type": "stream",
     "text": [
      "CPU times: user 2min 16s, sys: 26.3 s, total: 2min 42s\n",
      "Wall time: 2min 42s\n"
     ]
    }
   ],
   "source": [
    "%%time\n",
    "merged_df = transactions_df.merge(articles_df, on='article_id')\n",
    "final_df = merged_df.merge(customers_df, on='customer_id')"
   ]
  },
  {
   "cell_type": "code",
   "execution_count": 67,
   "metadata": {},
   "outputs": [
    {
     "name": "stdout",
     "output_type": "stream",
     "text": [
      "<class 'pandas.core.frame.DataFrame'>\n",
      "Int64Index: 22974093 entries, 0 to 22974092\n",
      "Data columns (total 39 columns):\n",
      " #   Column                            Dtype         \n",
      "---  ------                            -----         \n",
      " 0   t_dat                             datetime64[ns]\n",
      " 1   customer_id                       object        \n",
      " 2   article_id                        int64         \n",
      " 3   price                             float64       \n",
      " 4   sales_channel_id                  int64         \n",
      " 5   product_code                      int64         \n",
      " 6   prod_name                         object        \n",
      " 7   product_type_no                   int64         \n",
      " 8   product_type_name                 object        \n",
      " 9   product_group_name                object        \n",
      " 10  graphical_appearance_no           int64         \n",
      " 11  graphical_appearance_name         object        \n",
      " 12  colour_group_code                 int64         \n",
      " 13  colour_group_name                 object        \n",
      " 14  perceived_colour_value_id         int64         \n",
      " 15  perceived_colour_value_name       object        \n",
      " 16  perceived_colour_master_id        int64         \n",
      " 17  perceived_colour_master_name      object        \n",
      " 18  department_no                     int64         \n",
      " 19  department_name                   object        \n",
      " 20  index_code                        object        \n",
      " 21  index_name                        object        \n",
      " 22  index_group_no                    int64         \n",
      " 23  index_group_name                  object        \n",
      " 24  section_no                        int64         \n",
      " 25  section_name                      object        \n",
      " 26  garment_group_no                  int64         \n",
      " 27  garment_group_name                object        \n",
      " 28  detail_desc                       object        \n",
      " 29  FN                                float64       \n",
      " 30  Active                            float64       \n",
      " 31  club_member_status                object        \n",
      " 32  fashion_news_frequency            object        \n",
      " 33  age                               float64       \n",
      " 34  age_scaled                        float64       \n",
      " 35  club_member_status_ACTIVE         float64       \n",
      " 36  fashion_news_frequency_Monthly    float64       \n",
      " 37  fashion_news_frequency_NONE       float64       \n",
      " 38  fashion_news_frequency_Regularly  float64       \n",
      "dtypes: datetime64[ns](1), float64(9), int64(12), object(17)\n",
      "memory usage: 6.8+ GB\n"
     ]
    }
   ],
   "source": [
    "final_df.info()"
   ]
  },
  {
   "cell_type": "code",
   "execution_count": 69,
   "metadata": {},
   "outputs": [],
   "source": [
    "#convert string customer IDs to numeric type, article IDs already ints\n",
    "final_df['customerID'] = final_df['customer_id'].astype('category').cat.codes"
   ]
  },
  {
   "cell_type": "markdown",
   "metadata": {},
   "source": [
    "Split dataframe into training and testing. Since the last day of transactions is 22/09/2020, the training data will be upto 15/09/2020, 7 days before the last transaction was made."
   ]
  },
  {
   "cell_type": "code",
   "execution_count": 70,
   "metadata": {},
   "outputs": [],
   "source": [
    "#trans_dates = final_df['t_dat']\n",
    "#train_data = final_df[(trans_dates >= '2018-09-20 00:00:00') & (trans_dates < '2020-09-15 00:00:00')]\n",
    "#test_data = final_df[(trans_dates >= '2020-09-15 00:00:00')]"
   ]
  },
  {
   "cell_type": "markdown",
   "metadata": {},
   "source": [
    "The next 7 days of transactions have been preserved for predictions"
   ]
  },
  {
   "cell_type": "code",
   "execution_count": null,
   "metadata": {},
   "outputs": [],
   "source": [
    "#Content-based filtering\n",
    "#Recommend products based on what users have liked in the past i.e. User-Product and product-product\n",
    "#Product attributes are necessary for content based filtering and not for collaborative filtering\n",
    "#Attributes like t-shirt, black, nike, has graphic etc"
   ]
  },
  {
   "cell_type": "markdown",
   "metadata": {},
   "source": [
    "**A look at the images**"
   ]
  },
  {
   "cell_type": "code",
   "execution_count": 68,
   "metadata": {
    "colab": {
     "base_uri": "https://localhost:8080/",
     "height": 35
    },
    "id": "0w36qEx1l4kO",
    "outputId": "3667ad77-22fc-44d0-c980-71c95b29ae16"
   },
   "outputs": [
    {
     "data": {
      "text/plain": [
       "'/home/marmas6/context-aware-recommendation'"
      ]
     },
     "execution_count": 68,
     "metadata": {},
     "output_type": "execute_result"
    }
   ],
   "source": [
    "os.getcwd()"
   ]
  },
  {
   "cell_type": "code",
   "execution_count": 69,
   "metadata": {
    "id": "UU0tGY1pmGmv"
   },
   "outputs": [],
   "source": [
    "images_root = r'/home/marmas6/context-aware-recommendation/images'"
   ]
  },
  {
   "cell_type": "code",
   "execution_count": 71,
   "metadata": {
    "id": "ggCVTdUEmN5k"
   },
   "outputs": [],
   "source": [
    "#Returns dir, sub-dirs & image file paths\n",
    "root_dirs = []\n",
    "sub_dirs = []\n",
    "image_files = []\n",
    "\n",
    "for roots, sub_dir, files in os.walk(images_root):\n",
    "  for file in files:\n",
    "    if file.endswith(\".jpg\"):\n",
    "      root_dirs.append(roots)\n",
    "      sub_dirs.append(os.path.join(roots, file))\n",
    "      image_files.append(file)"
   ]
  },
  {
   "cell_type": "code",
   "execution_count": 189,
   "metadata": {},
   "outputs": [],
   "source": [
    "#Extract some images here"
   ]
  },
  {
   "cell_type": "code",
   "execution_count": 75,
   "metadata": {},
   "outputs": [],
   "source": []
  },
  {
   "cell_type": "markdown",
   "metadata": {},
   "source": [
    "**Option 1: Deal directly with implicit feedback to build a recommendation system, consider context attributes**"
   ]
  },
  {
   "cell_type": "code",
   "execution_count": 140,
   "metadata": {},
   "outputs": [],
   "source": [
    "#Number of each article bought by a particular customer\n",
    "n_purchases_each = pd.DataFrame(final_df.groupby(['t_dat','customerID','article_id', 'age', 'detail_desc']).size(), columns= ['purchases'])"
   ]
  },
  {
   "cell_type": "code",
   "execution_count": 141,
   "metadata": {},
   "outputs": [
    {
     "data": {
      "text/html": [
       "<div>\n",
       "<style scoped>\n",
       "    .dataframe tbody tr th:only-of-type {\n",
       "        vertical-align: middle;\n",
       "    }\n",
       "\n",
       "    .dataframe tbody tr th {\n",
       "        vertical-align: top;\n",
       "    }\n",
       "\n",
       "    .dataframe thead th {\n",
       "        text-align: right;\n",
       "    }\n",
       "</style>\n",
       "<table border=\"1\" class=\"dataframe\">\n",
       "  <thead>\n",
       "    <tr style=\"text-align: right;\">\n",
       "      <th></th>\n",
       "      <th></th>\n",
       "      <th></th>\n",
       "      <th></th>\n",
       "      <th></th>\n",
       "      <th>purchases</th>\n",
       "    </tr>\n",
       "    <tr>\n",
       "      <th>t_dat</th>\n",
       "      <th>customerID</th>\n",
       "      <th>article_id</th>\n",
       "      <th>age</th>\n",
       "      <th>detail_desc</th>\n",
       "      <th></th>\n",
       "    </tr>\n",
       "  </thead>\n",
       "  <tbody>\n",
       "    <tr>\n",
       "      <th rowspan=\"5\" valign=\"top\">2018-09-20</th>\n",
       "      <th rowspan=\"2\" valign=\"top\">2</th>\n",
       "      <th>541518023</th>\n",
       "      <th>24.0</th>\n",
       "      <th>Lace push-up bras with underwired, moulded, padded cups for a larger bust and fuller cleavage. Adjustable shoulder straps and a narrow fastening at the back with two pairs of hooks and eyes.</th>\n",
       "      <td>1</td>\n",
       "    </tr>\n",
       "    <tr>\n",
       "      <th>663713001</th>\n",
       "      <th>24.0</th>\n",
       "      <th>Lace push-up body with underwired, moulded, padded cups for a larger bust and fuller cleavage. Narrow, adjustable shoulder straps, an opening with a hook-and-eye fastening at the back and a lined gusset with concealed press-studs.</th>\n",
       "      <td>1</td>\n",
       "    </tr>\n",
       "    <tr>\n",
       "      <th rowspan=\"3\" valign=\"top\">3</th>\n",
       "      <th>505221001</th>\n",
       "      <th>32.0</th>\n",
       "      <th>Jumper in rib-knit cotton with hard-worn details, a wide, roll-edge neckline, and gently dropped shoulders.</th>\n",
       "      <td>1</td>\n",
       "    </tr>\n",
       "    <tr>\n",
       "      <th>505221004</th>\n",
       "      <th>32.0</th>\n",
       "      <th>Jumper in rib-knit cotton with hard-worn details, a wide, roll-edge neckline, and gently dropped shoulders.</th>\n",
       "      <td>1</td>\n",
       "    </tr>\n",
       "    <tr>\n",
       "      <th>685687001</th>\n",
       "      <th>32.0</th>\n",
       "      <th>V-neck knitted jumper with long sleeves and ribbing around the neckline, cuffs and hem.</th>\n",
       "      <td>1</td>\n",
       "    </tr>\n",
       "    <tr>\n",
       "      <th>...</th>\n",
       "      <th>...</th>\n",
       "      <th>...</th>\n",
       "      <th>...</th>\n",
       "      <th>...</th>\n",
       "      <td>...</td>\n",
       "    </tr>\n",
       "    <tr>\n",
       "      <th rowspan=\"5\" valign=\"top\">2020-09-22</th>\n",
       "      <th>837971</th>\n",
       "      <th>910949002</th>\n",
       "      <th>30.0</th>\n",
       "      <th>Sports bra in fast-drying functional fabric with mesh sections. Lined cups with removable inserts that shape the bust and wide, adjustable shoulder straps with bonded seams that continue into wide elastic straps at the back. Hook-and-eye fastening at the back and a bonded hem. Extra firm support.</th>\n",
       "      <td>1</td>\n",
       "    </tr>\n",
       "    <tr>\n",
       "      <th rowspan=\"2\" valign=\"top\">838335</th>\n",
       "      <th>891322004</th>\n",
       "      <th>32.0</th>\n",
       "      <th>Short shirt dress in a cotton weave with a collar and concealed buttons down the front. Dropped shoulder seams, long, wide sleeves with buttoned cuffs, a tapered waist with pleats, and a gently rounded hem.</th>\n",
       "      <td>1</td>\n",
       "    </tr>\n",
       "    <tr>\n",
       "      <th>929511001</th>\n",
       "      <th>32.0</th>\n",
       "      <th>Short shirt dress in soft imitation leather with a collar, covered press-studs down the front and an open chest pocket. Dropped shoulders, long, voluminous sleeves with a press-stud at the cuffs, and a detachable tie belt at the waist. Unlined.</th>\n",
       "      <td>1</td>\n",
       "    </tr>\n",
       "    <tr>\n",
       "      <th>838368</th>\n",
       "      <th>833459002</th>\n",
       "      <th>21.0</th>\n",
       "      <th>Thin metal rings in various designs.</th>\n",
       "      <td>1</td>\n",
       "    </tr>\n",
       "    <tr>\n",
       "      <th>838497</th>\n",
       "      <th>898573003</th>\n",
       "      <th>29.0</th>\n",
       "      <th>Blouse in a textured weave with covered buttons at the back of the neck, and long, voluminous puff sleeves that taper at the cuffs.</th>\n",
       "      <td>1</td>\n",
       "    </tr>\n",
       "  </tbody>\n",
       "</table>\n",
       "<p>20626257 rows × 1 columns</p>\n",
       "</div>"
      ],
      "text/plain": [
       "                                                                                          purchases\n",
       "t_dat      customerID article_id age  detail_desc                                                  \n",
       "2018-09-20 2          541518023  24.0 Lace push-up bras with underwired, moulded, pad...          1\n",
       "                      663713001  24.0 Lace push-up body with underwired, moulded, pad...          1\n",
       "           3          505221001  32.0 Jumper in rib-knit cotton with hard-worn detail...          1\n",
       "                      505221004  32.0 Jumper in rib-knit cotton with hard-worn detail...          1\n",
       "                      685687001  32.0 V-neck knitted jumper with long sleeves and rib...          1\n",
       "...                                                                                             ...\n",
       "2020-09-22 837971     910949002  30.0 Sports bra in fast-drying functional fabric wit...          1\n",
       "           838335     891322004  32.0 Short shirt dress in a cotton weave with a coll...          1\n",
       "                      929511001  32.0 Short shirt dress in soft imitation leather wit...          1\n",
       "           838368     833459002  21.0 Thin metal rings in various designs.                        1\n",
       "           838497     898573003  29.0 Blouse in a textured weave with covered buttons...          1\n",
       "\n",
       "[20626257 rows x 1 columns]"
      ]
     },
     "execution_count": 141,
     "metadata": {},
     "output_type": "execute_result"
    }
   ],
   "source": [
    "n_purchases_each"
   ]
  },
  {
   "cell_type": "code",
   "execution_count": 143,
   "metadata": {},
   "outputs": [],
   "source": [
    "#Total number of articles purchased by each customers\n",
    "data = n_purchases_each.reset_index(level=['t_dat','customerID','article_id', 'age', 'detail_desc']).sort_values(by=['purchases', 'customerID'], ascending=False)"
   ]
  },
  {
   "cell_type": "code",
   "execution_count": 144,
   "metadata": {},
   "outputs": [
    {
     "data": {
      "text/html": [
       "<div>\n",
       "<style scoped>\n",
       "    .dataframe tbody tr th:only-of-type {\n",
       "        vertical-align: middle;\n",
       "    }\n",
       "\n",
       "    .dataframe tbody tr th {\n",
       "        vertical-align: top;\n",
       "    }\n",
       "\n",
       "    .dataframe thead th {\n",
       "        text-align: right;\n",
       "    }\n",
       "</style>\n",
       "<table border=\"1\" class=\"dataframe\">\n",
       "  <thead>\n",
       "    <tr style=\"text-align: right;\">\n",
       "      <th></th>\n",
       "      <th>t_dat</th>\n",
       "      <th>customerID</th>\n",
       "      <th>article_id</th>\n",
       "      <th>age</th>\n",
       "      <th>detail_desc</th>\n",
       "      <th>purchases</th>\n",
       "    </tr>\n",
       "  </thead>\n",
       "  <tbody>\n",
       "    <tr>\n",
       "      <th>770763</th>\n",
       "      <td>2018-10-14</td>\n",
       "      <td>681101</td>\n",
       "      <td>678342001</td>\n",
       "      <td>27.0</td>\n",
       "      <td>Fitted T-shirt in soft cotton jersey with a sl...</td>\n",
       "      <td>570</td>\n",
       "    </tr>\n",
       "    <tr>\n",
       "      <th>4068504</th>\n",
       "      <td>2019-02-16</td>\n",
       "      <td>485434</td>\n",
       "      <td>629420001</td>\n",
       "      <td>23.0</td>\n",
       "      <td>T-shirt in soft cotton jersey.</td>\n",
       "      <td>199</td>\n",
       "    </tr>\n",
       "    <tr>\n",
       "      <th>5680530</th>\n",
       "      <td>2019-04-15</td>\n",
       "      <td>771944</td>\n",
       "      <td>685347001</td>\n",
       "      <td>36.0</td>\n",
       "      <td>Fitted top in soft cotton jersey with a boat n...</td>\n",
       "      <td>130</td>\n",
       "    </tr>\n",
       "    <tr>\n",
       "      <th>11091378</th>\n",
       "      <td>2019-09-28</td>\n",
       "      <td>303554</td>\n",
       "      <td>688558002</td>\n",
       "      <td>26.0</td>\n",
       "      <td>Fitted, long-sleeved top in soft ribbed jersey.</td>\n",
       "      <td>121</td>\n",
       "    </tr>\n",
       "    <tr>\n",
       "      <th>11610612</th>\n",
       "      <td>2019-10-16</td>\n",
       "      <td>4282</td>\n",
       "      <td>756322001</td>\n",
       "      <td>27.0</td>\n",
       "      <td>Short satin nightslip with lace at the top, a ...</td>\n",
       "      <td>120</td>\n",
       "    </tr>\n",
       "    <tr>\n",
       "      <th>...</th>\n",
       "      <td>...</td>\n",
       "      <td>...</td>\n",
       "      <td>...</td>\n",
       "      <td>...</td>\n",
       "      <td>...</td>\n",
       "      <td>...</td>\n",
       "    </tr>\n",
       "    <tr>\n",
       "      <th>15256470</th>\n",
       "      <td>2020-03-21</td>\n",
       "      <td>0</td>\n",
       "      <td>841260003</td>\n",
       "      <td>49.0</td>\n",
       "      <td>T-shirt in soft jersey with a round neckline w...</td>\n",
       "      <td>1</td>\n",
       "    </tr>\n",
       "    <tr>\n",
       "      <th>15256471</th>\n",
       "      <td>2020-03-21</td>\n",
       "      <td>0</td>\n",
       "      <td>859416011</td>\n",
       "      <td>49.0</td>\n",
       "      <td>Short-sleeved top in soft jersey made from a c...</td>\n",
       "      <td>1</td>\n",
       "    </tr>\n",
       "    <tr>\n",
       "      <th>15256472</th>\n",
       "      <td>2020-03-21</td>\n",
       "      <td>0</td>\n",
       "      <td>887593002</td>\n",
       "      <td>49.0</td>\n",
       "      <td>Top in jersey crêpe. Round neckline with an op...</td>\n",
       "      <td>1</td>\n",
       "    </tr>\n",
       "    <tr>\n",
       "      <th>15256473</th>\n",
       "      <td>2020-03-21</td>\n",
       "      <td>0</td>\n",
       "      <td>890498002</td>\n",
       "      <td>49.0</td>\n",
       "      <td>Fitted jacket in washed cotton denim with a co...</td>\n",
       "      <td>1</td>\n",
       "    </tr>\n",
       "    <tr>\n",
       "      <th>20203973</th>\n",
       "      <td>2020-09-05</td>\n",
       "      <td>0</td>\n",
       "      <td>568601043</td>\n",
       "      <td>49.0</td>\n",
       "      <td>Fitted jacket in woven fabric with notch lapel...</td>\n",
       "      <td>1</td>\n",
       "    </tr>\n",
       "  </tbody>\n",
       "</table>\n",
       "<p>20626257 rows × 6 columns</p>\n",
       "</div>"
      ],
      "text/plain": [
       "              t_dat  customerID  article_id   age  \\\n",
       "770763   2018-10-14      681101   678342001  27.0   \n",
       "4068504  2019-02-16      485434   629420001  23.0   \n",
       "5680530  2019-04-15      771944   685347001  36.0   \n",
       "11091378 2019-09-28      303554   688558002  26.0   \n",
       "11610612 2019-10-16        4282   756322001  27.0   \n",
       "...             ...         ...         ...   ...   \n",
       "15256470 2020-03-21           0   841260003  49.0   \n",
       "15256471 2020-03-21           0   859416011  49.0   \n",
       "15256472 2020-03-21           0   887593002  49.0   \n",
       "15256473 2020-03-21           0   890498002  49.0   \n",
       "20203973 2020-09-05           0   568601043  49.0   \n",
       "\n",
       "                                                detail_desc  purchases  \n",
       "770763    Fitted T-shirt in soft cotton jersey with a sl...        570  \n",
       "4068504                      T-shirt in soft cotton jersey.        199  \n",
       "5680530   Fitted top in soft cotton jersey with a boat n...        130  \n",
       "11091378    Fitted, long-sleeved top in soft ribbed jersey.        121  \n",
       "11610612  Short satin nightslip with lace at the top, a ...        120  \n",
       "...                                                     ...        ...  \n",
       "15256470  T-shirt in soft jersey with a round neckline w...          1  \n",
       "15256471  Short-sleeved top in soft jersey made from a c...          1  \n",
       "15256472  Top in jersey crêpe. Round neckline with an op...          1  \n",
       "15256473  Fitted jacket in washed cotton denim with a co...          1  \n",
       "20203973  Fitted jacket in woven fabric with notch lapel...          1  \n",
       "\n",
       "[20626257 rows x 6 columns]"
      ]
     },
     "execution_count": 144,
     "metadata": {},
     "output_type": "execute_result"
    }
   ],
   "source": [
    "data"
   ]
  },
  {
   "cell_type": "markdown",
   "metadata": {},
   "source": [
    "Young customers tend to buy most items. The number of purchases decreases with age!\n",
    "\n",
    "The dataset is quite huge and with computational constraints, we decide to take a portion. Selection can be based on the age, date ...."
   ]
  },
  {
   "cell_type": "markdown",
   "metadata": {},
   "source": [
    "**Implicit feedback using Alternating Least Squares (ALS)**"
   ]
  },
  {
   "cell_type": "code",
   "execution_count": 145,
   "metadata": {},
   "outputs": [],
   "source": [
    "unique_customers = data.customerID.unique()\n",
    "customer_ids = dict(zip(unique_customers, np.arange(unique_customers.shape[0], dtype=np.int32)))\n",
    "\n",
    "unique_articles = data.article_id.unique()\n",
    "article_ids = dict(zip(unique_articles, np.arange(unique_articles.shape[0], dtype=np.int32)))\n",
    "\n",
    "data['customerID'] = data.customerID.apply(lambda i: customer_ids[i])\n",
    "data['article_id'] = data.article_id.apply(lambda i: article_ids[i])"
   ]
  },
  {
   "cell_type": "code",
   "execution_count": 147,
   "metadata": {},
   "outputs": [
    {
     "data": {
      "text/plain": [
       "(20626257, 6)"
      ]
     },
     "execution_count": 147,
     "metadata": {},
     "output_type": "execute_result"
    }
   ],
   "source": [
    "data.shape"
   ]
  },
  {
   "cell_type": "markdown",
   "metadata": {},
   "source": [
    "Get Compressed Sparse Row (CSR) matrices"
   ]
  },
  {
   "cell_type": "code",
   "execution_count": 148,
   "metadata": {},
   "outputs": [],
   "source": [
    "customer_articles = sparse.csr_matrix((data['purchases'].astype(float),(data['customerID'], data['article_id'])))\n",
    "article_customers = sparse.csr_matrix((data['purchases'].astype(float),(data['article_id'], data['customerID'])))"
   ]
  },
  {
   "cell_type": "code",
   "execution_count": 149,
   "metadata": {},
   "outputs": [
    {
     "data": {
      "text/plain": [
       "<838511x102733 sparse matrix of type '<class 'numpy.float64'>'\n",
       "\twith 19716726 stored elements in Compressed Sparse Row format>"
      ]
     },
     "execution_count": 149,
     "metadata": {},
     "output_type": "execute_result"
    }
   ],
   "source": [
    "customer_articles"
   ]
  },
  {
   "cell_type": "code",
   "execution_count": 150,
   "metadata": {},
   "outputs": [
    {
     "data": {
      "text/plain": [
       "<102733x838511 sparse matrix of type '<class 'numpy.float64'>'\n",
       "\twith 19716726 stored elements in Compressed Sparse Row format>"
      ]
     },
     "execution_count": 150,
     "metadata": {},
     "output_type": "execute_result"
    }
   ],
   "source": [
    "article_customers"
   ]
  },
  {
   "cell_type": "code",
   "execution_count": 176,
   "metadata": {},
   "outputs": [
    {
     "data": {
      "application/vnd.jupyter.widget-view+json": {
       "model_id": "cd18fa8871134b948d8d2ea00b53dcee",
       "version_major": 2,
       "version_minor": 0
      },
      "text/plain": [
       "  0%|          | 0/5 [00:00<?, ?it/s]"
      ]
     },
     "metadata": {},
     "output_type": "display_data"
    }
   ],
   "source": [
    "# initialize a model\n",
    "model = implicit.als.AlternatingLeastSquares(factors=5, regularization=0.01, iterations=5)\n",
    "\n",
    "# train the model on a sparse matrix of article/customer/confidence weights\n",
    "model.fit(customer_articles.T)\n",
    "\n",
    "article_factors, customer_factors = model.item_factors, model.user_factors"
   ]
  },
  {
   "cell_type": "markdown",
   "metadata": {},
   "source": [
    "Get recommendations for customerID 500"
   ]
  },
  {
   "cell_type": "code",
   "execution_count": 180,
   "metadata": {},
   "outputs": [
    {
     "data": {
      "text/plain": [
       "(array([20084, 34038,  5894, 56640, 33775,  8126, 18236, 19588,   792,\n",
       "        13203], dtype=int32),\n",
       " array([0.02718049, 0.01880633, 0.01779946, 0.01768539, 0.01721367,\n",
       "        0.01684189, 0.01680581, 0.01633747, 0.01630263, 0.01615013],\n",
       "       dtype=float32))"
      ]
     },
     "execution_count": 180,
     "metadata": {},
     "output_type": "execute_result"
    }
   ],
   "source": [
    "customer_id = 500\n",
    "recommended_articles = model.recommend(customer_id, article_customers[customer_id])\n",
    "recommended_articles"
   ]
  },
  {
   "cell_type": "markdown",
   "metadata": {},
   "source": [
    "Our model does not perform well predicting for this customerID with low confidence scores"
   ]
  },
  {
   "cell_type": "code",
   "execution_count": 183,
   "metadata": {},
   "outputs": [
    {
     "data": {
      "text/plain": [
       "(array([     1,   8818,    122,  29376,     30,     79,     81,   7542,\n",
       "        283307,  72958], dtype=int32),\n",
       " array([0.5082135 , 0.36033565, 0.34067142, 0.3237659 , 0.29030645,\n",
       "        0.25494093, 0.24263726, 0.23308323, 0.22839938, 0.22277768],\n",
       "       dtype=float32))"
      ]
     },
     "execution_count": 183,
     "metadata": {},
     "output_type": "execute_result"
    }
   ],
   "source": [
    "customer_id = 0\n",
    "recommended_articles = model.recommend(customer_id, article_customers[customer_id])\n",
    "recommended_articles"
   ]
  },
  {
   "cell_type": "markdown",
   "metadata": {},
   "source": [
    "Our model fairly predicts well for customerID 0, it predicts the first article with over 50% confidence!"
   ]
  },
  {
   "cell_type": "markdown",
   "metadata": {},
   "source": [
    "Given article_id 17768, find similar items"
   ]
  },
  {
   "cell_type": "code",
   "execution_count": 153,
   "metadata": {},
   "outputs": [
    {
     "data": {
      "text/html": [
       "<div>\n",
       "<style scoped>\n",
       "    .dataframe tbody tr th:only-of-type {\n",
       "        vertical-align: middle;\n",
       "    }\n",
       "\n",
       "    .dataframe tbody tr th {\n",
       "        vertical-align: top;\n",
       "    }\n",
       "\n",
       "    .dataframe thead th {\n",
       "        text-align: right;\n",
       "    }\n",
       "</style>\n",
       "<table border=\"1\" class=\"dataframe\">\n",
       "  <thead>\n",
       "    <tr style=\"text-align: right;\">\n",
       "      <th></th>\n",
       "      <th>t_dat</th>\n",
       "      <th>customerID</th>\n",
       "      <th>article_id</th>\n",
       "      <th>age</th>\n",
       "      <th>detail_desc</th>\n",
       "      <th>purchases</th>\n",
       "    </tr>\n",
       "  </thead>\n",
       "  <tbody>\n",
       "    <tr>\n",
       "      <th>15183508</th>\n",
       "      <td>2020-03-16</td>\n",
       "      <td>28159</td>\n",
       "      <td>17768</td>\n",
       "      <td>34.0</td>\n",
       "      <td>Blouse in a crêpe weave with a deep V-neck, lo...</td>\n",
       "      <td>4</td>\n",
       "    </tr>\n",
       "    <tr>\n",
       "      <th>14842438</th>\n",
       "      <td>2020-03-02</td>\n",
       "      <td>7501</td>\n",
       "      <td>17768</td>\n",
       "      <td>31.0</td>\n",
       "      <td>Blouse in a crêpe weave with a deep V-neck, lo...</td>\n",
       "      <td>4</td>\n",
       "    </tr>\n",
       "    <tr>\n",
       "      <th>16825895</th>\n",
       "      <td>2020-05-20</td>\n",
       "      <td>115534</td>\n",
       "      <td>17768</td>\n",
       "      <td>24.0</td>\n",
       "      <td>Blouse in a crêpe weave with a deep V-neck, lo...</td>\n",
       "      <td>2</td>\n",
       "    </tr>\n",
       "    <tr>\n",
       "      <th>14536466</th>\n",
       "      <td>2020-02-17</td>\n",
       "      <td>129823</td>\n",
       "      <td>17768</td>\n",
       "      <td>23.0</td>\n",
       "      <td>Blouse in a crêpe weave with a deep V-neck, lo...</td>\n",
       "      <td>2</td>\n",
       "    </tr>\n",
       "    <tr>\n",
       "      <th>15895328</th>\n",
       "      <td>2020-04-11</td>\n",
       "      <td>132800</td>\n",
       "      <td>17768</td>\n",
       "      <td>31.0</td>\n",
       "      <td>Blouse in a crêpe weave with a deep V-neck, lo...</td>\n",
       "      <td>2</td>\n",
       "    </tr>\n",
       "    <tr>\n",
       "      <th>...</th>\n",
       "      <td>...</td>\n",
       "      <td>...</td>\n",
       "      <td>...</td>\n",
       "      <td>...</td>\n",
       "      <td>...</td>\n",
       "      <td>...</td>\n",
       "    </tr>\n",
       "    <tr>\n",
       "      <th>15001162</th>\n",
       "      <td>2020-03-08</td>\n",
       "      <td>381508</td>\n",
       "      <td>17768</td>\n",
       "      <td>30.0</td>\n",
       "      <td>Blouse in a crêpe weave with a deep V-neck, lo...</td>\n",
       "      <td>1</td>\n",
       "    </tr>\n",
       "    <tr>\n",
       "      <th>16274958</th>\n",
       "      <td>2020-04-28</td>\n",
       "      <td>834529</td>\n",
       "      <td>17768</td>\n",
       "      <td>25.0</td>\n",
       "      <td>Blouse in a crêpe weave with a deep V-neck, lo...</td>\n",
       "      <td>1</td>\n",
       "    </tr>\n",
       "    <tr>\n",
       "      <th>14915329</th>\n",
       "      <td>2020-03-05</td>\n",
       "      <td>836744</td>\n",
       "      <td>17768</td>\n",
       "      <td>21.0</td>\n",
       "      <td>Blouse in a crêpe weave with a deep V-neck, lo...</td>\n",
       "      <td>1</td>\n",
       "    </tr>\n",
       "    <tr>\n",
       "      <th>17758047</th>\n",
       "      <td>2020-06-18</td>\n",
       "      <td>13729</td>\n",
       "      <td>17768</td>\n",
       "      <td>26.0</td>\n",
       "      <td>Blouse in a crêpe weave with a deep V-neck, lo...</td>\n",
       "      <td>1</td>\n",
       "    </tr>\n",
       "    <tr>\n",
       "      <th>16028421</th>\n",
       "      <td>2020-04-18</td>\n",
       "      <td>384965</td>\n",
       "      <td>17768</td>\n",
       "      <td>24.0</td>\n",
       "      <td>Blouse in a crêpe weave with a deep V-neck, lo...</td>\n",
       "      <td>1</td>\n",
       "    </tr>\n",
       "  </tbody>\n",
       "</table>\n",
       "<p>234 rows × 6 columns</p>\n",
       "</div>"
      ],
      "text/plain": [
       "              t_dat  customerID  article_id   age  \\\n",
       "15183508 2020-03-16       28159       17768  34.0   \n",
       "14842438 2020-03-02        7501       17768  31.0   \n",
       "16825895 2020-05-20      115534       17768  24.0   \n",
       "14536466 2020-02-17      129823       17768  23.0   \n",
       "15895328 2020-04-11      132800       17768  31.0   \n",
       "...             ...         ...         ...   ...   \n",
       "15001162 2020-03-08      381508       17768  30.0   \n",
       "16274958 2020-04-28      834529       17768  25.0   \n",
       "14915329 2020-03-05      836744       17768  21.0   \n",
       "17758047 2020-06-18       13729       17768  26.0   \n",
       "16028421 2020-04-18      384965       17768  24.0   \n",
       "\n",
       "                                                detail_desc  purchases  \n",
       "15183508  Blouse in a crêpe weave with a deep V-neck, lo...          4  \n",
       "14842438  Blouse in a crêpe weave with a deep V-neck, lo...          4  \n",
       "16825895  Blouse in a crêpe weave with a deep V-neck, lo...          2  \n",
       "14536466  Blouse in a crêpe weave with a deep V-neck, lo...          2  \n",
       "15895328  Blouse in a crêpe weave with a deep V-neck, lo...          2  \n",
       "...                                                     ...        ...  \n",
       "15001162  Blouse in a crêpe weave with a deep V-neck, lo...          1  \n",
       "16274958  Blouse in a crêpe weave with a deep V-neck, lo...          1  \n",
       "14915329  Blouse in a crêpe weave with a deep V-neck, lo...          1  \n",
       "17758047  Blouse in a crêpe weave with a deep V-neck, lo...          1  \n",
       "16028421  Blouse in a crêpe weave with a deep V-neck, lo...          1  \n",
       "\n",
       "[234 rows x 6 columns]"
      ]
     },
     "execution_count": 153,
     "metadata": {},
     "output_type": "execute_result"
    }
   ],
   "source": [
    "data.loc[data['article_id'] == 17768]"
   ]
  },
  {
   "cell_type": "code",
   "execution_count": 154,
   "metadata": {},
   "outputs": [],
   "source": [
    "article_id = 17768\n",
    "n_similar = 10\n",
    "\n",
    "article_vecs = model.item_factors\n",
    "customer_vecs = model.user_factors\n",
    "\n",
    "article_norms = np.sqrt((article_vecs * article_vecs ).sum(axis=1))\n",
    "\n",
    "scores = article_vecs.dot(article_vecs[article_id]) / article_norms\n",
    "top_idx = np.argpartition(scores, -n_similar)[-n_similar:]\n",
    "similar = sorted(zip(top_idx, scores[top_idx] / article_norms[article_id]), key=lambda x: -x[1])"
   ]
  },
  {
   "cell_type": "code",
   "execution_count": 155,
   "metadata": {},
   "outputs": [
    {
     "name": "stdout",
     "output_type": "stream",
     "text": [
      "15183508    Blouse in a crêpe weave with a deep V-neck, lo...\n",
      "14842438    Blouse in a crêpe weave with a deep V-neck, lo...\n",
      "16825895    Blouse in a crêpe weave with a deep V-neck, lo...\n",
      "14536466    Blouse in a crêpe weave with a deep V-neck, lo...\n",
      "15895328    Blouse in a crêpe weave with a deep V-neck, lo...\n",
      "                                  ...                        \n",
      "15001162    Blouse in a crêpe weave with a deep V-neck, lo...\n",
      "16274958    Blouse in a crêpe weave with a deep V-neck, lo...\n",
      "14915329    Blouse in a crêpe weave with a deep V-neck, lo...\n",
      "17758047    Blouse in a crêpe weave with a deep V-neck, lo...\n",
      "16028421    Blouse in a crêpe weave with a deep V-neck, lo...\n",
      "Name: detail_desc, Length: 234, dtype: object\n",
      "Series([], Name: detail_desc, dtype: object)\n",
      "Series([], Name: detail_desc, dtype: object)\n",
      "Series([], Name: detail_desc, dtype: object)\n",
      "Series([], Name: detail_desc, dtype: object)\n",
      "Series([], Name: detail_desc, dtype: object)\n",
      "Series([], Name: detail_desc, dtype: object)\n",
      "Series([], Name: detail_desc, dtype: object)\n",
      "Series([], Name: detail_desc, dtype: object)\n",
      "Series([], Name: detail_desc, dtype: object)\n"
     ]
    }
   ],
   "source": [
    "for article in similar:\n",
    "    idx, score = article\n",
    "    print(data.detail_desc.loc[data.article_id == idx])"
   ]
  },
  {
   "cell_type": "markdown",
   "metadata": {},
   "source": []
  },
  {
   "cell_type": "markdown",
   "metadata": {},
   "source": [
    "**Implicit feedback using Bayesian Personalized Ranking (BPR)**"
   ]
  },
  {
   "cell_type": "code",
   "execution_count": 188,
   "metadata": {},
   "outputs": [
    {
     "data": {
      "application/vnd.jupyter.widget-view+json": {
       "model_id": "f88cadd83ed6416c972de1c2ddb062d7",
       "version_major": 2,
       "version_minor": 0
      },
      "text/plain": [
       "  0%|          | 0/50 [00:00<?, ?it/s]"
      ]
     },
     "metadata": {},
     "output_type": "display_data"
    }
   ],
   "source": [
    "# initialize a model\n",
    "bpr = implicit.bpr.BayesianPersonalizedRanking(factors=50, iterations=50, regularization=0.01)\n",
    "\n",
    "# train the model on a sparse matrix of article/customer/confidence weights\n",
    "bpr.fit(customer_articles.T)\n",
    "\n",
    "article_factors, customer_factors = bpr.item_factors, bpr.user_factors"
   ]
  },
  {
   "cell_type": "markdown",
   "metadata": {},
   "source": [
    "Bayesian Personalised Ranking achieves a training accuracy of 90.29% with 50 epochs!"
   ]
  },
  {
   "cell_type": "code",
   "execution_count": 189,
   "metadata": {},
   "outputs": [
    {
     "data": {
      "text/plain": [
       "(array([131144, 480853, 193230, 347691, 539481, 348194, 801961, 345752,\n",
       "        168388, 234995], dtype=int32),\n",
       " array([4.233846 , 3.9915493, 3.958223 , 3.9557722, 3.8941379, 3.7727766,\n",
       "        3.7715278, 3.7378783, 3.7225566, 3.6798975], dtype=float32))"
      ]
     },
     "execution_count": 189,
     "metadata": {},
     "output_type": "execute_result"
    }
   ],
   "source": [
    "customer_id = 0\n",
    "recommended_articles = bpr.recommend(customer_id, article_customers[customer_id])\n",
    "recommended_articles"
   ]
  },
  {
   "cell_type": "code",
   "execution_count": 190,
   "metadata": {},
   "outputs": [
    {
     "data": {
      "text/plain": [
       "(array([372124,  25409, 212722, 531022, 521570,  30419, 629628, 332496,\n",
       "        825247,  85577], dtype=int32),\n",
       " array([4.6243777, 4.397331 , 4.394763 , 4.3265243, 4.3102055, 4.296238 ,\n",
       "        4.28364  , 4.238801 , 4.2132196, 4.2090263], dtype=float32))"
      ]
     },
     "execution_count": 190,
     "metadata": {},
     "output_type": "execute_result"
    }
   ],
   "source": [
    "customer_id = 500\n",
    "recommended_articles = bpr.recommend(customer_id, article_customers[customer_id])\n",
    "recommended_articles"
   ]
  },
  {
   "cell_type": "markdown",
   "metadata": {},
   "source": [
    "The model predicts articles given a customerID with relatively high confidence scores"
   ]
  },
  {
   "cell_type": "code",
   "execution_count": 191,
   "metadata": {},
   "outputs": [
    {
     "data": {
      "text/plain": [
       "(array([   100, 394874, 449506, 556808, 470838, 596057, 250040, 446276,\n",
       "        427299, 635339], dtype=int32),\n",
       " array([0.99999994, 0.9541817 , 0.9427096 , 0.9410395 , 0.93612385,\n",
       "        0.9345238 , 0.9332154 , 0.9323955 , 0.9293456 , 0.92928976],\n",
       "       dtype=float32))"
      ]
     },
     "execution_count": 191,
     "metadata": {},
     "output_type": "execute_result"
    }
   ],
   "source": [
    "#Returns similar items to userID 100 based on BPR\n",
    "article_id = 100\n",
    "n_similar = 10\n",
    "similar = bpr.similar_items(article_id, n_similar)\n",
    "similar"
   ]
  },
  {
   "cell_type": "markdown",
   "metadata": {},
   "source": [
    "**Implicit feedback using Logistic Matrix Factorization**"
   ]
  },
  {
   "cell_type": "code",
   "execution_count": 194,
   "metadata": {},
   "outputs": [
    {
     "data": {
      "application/vnd.jupyter.widget-view+json": {
       "model_id": "b7dd1e2c67ea4365a3bf69184f66f18c",
       "version_major": 2,
       "version_minor": 0
      },
      "text/plain": [
       "  0%|          | 0/50 [00:00<?, ?it/s]"
      ]
     },
     "metadata": {},
     "output_type": "display_data"
    }
   ],
   "source": [
    "# initialize a model\n",
    "lmf = implicit.lmf.LogisticMatrixFactorization(factors=100, iterations=50, regularization=0.01)\n",
    "\n",
    "# train the model on a sparse matrix of article/customer/confidence weights\n",
    "lmf.fit(customer_articles.T)\n",
    "\n",
    "article_factors, customer_factors = lmf.item_factors, lmf.user_factors"
   ]
  },
  {
   "cell_type": "code",
   "execution_count": 199,
   "metadata": {},
   "outputs": [
    {
     "data": {
      "text/plain": [
       "(array([ 36368,   1922, 142740,  76862,   7060,  22384,  33190,  39949,\n",
       "          3962,  65162], dtype=int32),\n",
       " array([26.197227, 21.94689 , 18.707075, 18.198324, 17.569492, 17.557877,\n",
       "        17.497692, 17.32854 , 17.274982, 17.259333], dtype=float32))"
      ]
     },
     "execution_count": 199,
     "metadata": {},
     "output_type": "execute_result"
    }
   ],
   "source": [
    "customer_id = 0\n",
    "recommended_articles = lmf.recommend(customer_id, article_customers[customer_id])\n",
    "(recommended_articles)"
   ]
  },
  {
   "cell_type": "code",
   "execution_count": 200,
   "metadata": {},
   "outputs": [
    {
     "name": "stdout",
     "output_type": "stream",
     "text": [
      "(array([  4672,   8945,  57753,   2110,  20337,  30870,   3962,  71207,\n",
      "       365391,  60271], dtype=int32), array([19.581959, 19.566414, 17.56305 , 17.498678, 16.2914  , 16.16067 ,\n",
      "       15.9284  , 15.470739, 15.094362, 14.810348], dtype=float32))\n"
     ]
    }
   ],
   "source": [
    "customer_id = 500\n",
    "recommended_articles = lmf.recommend(customer_id, article_customers[customer_id])\n",
    "print(recommended_articles)"
   ]
  },
  {
   "cell_type": "code",
   "execution_count": 196,
   "metadata": {},
   "outputs": [
    {
     "name": "stdout",
     "output_type": "stream",
     "text": [
      "(array([   100, 426841, 589580, 398949, 333788, 342088, 478959, 259586,\n",
      "       497936, 720160], dtype=int32), array([1.        , 0.8955689 , 0.89527255, 0.8937617 , 0.8914265 ,\n",
      "       0.89083296, 0.89077604, 0.8906111 , 0.89047456, 0.8902783 ],\n",
      "      dtype=float32))\n"
     ]
    }
   ],
   "source": [
    "#Returns similar articles to userID 100\n",
    "article_id = 100\n",
    "n_similar = 10\n",
    "similar = lmf.similar_items(article_id, n_similar)\n",
    "print(similar)"
   ]
  },
  {
   "cell_type": "markdown",
   "metadata": {},
   "source": [
    "Logistic Matrix Factorization outperforms BPR and ALS in confidently recommending articles to a customer as well as retrieving similar items!"
   ]
  },
  {
   "cell_type": "markdown",
   "metadata": {},
   "source": [
    "**Option 2: Recommendation System using Explicit data, consider contextual attributes**\n",
    "\n",
    "Manipulate the data to provide a scoring/rating to customer-article interactions\n",
    "\n",
    "Build models based on this!"
   ]
  },
  {
   "cell_type": "code",
   "execution_count": null,
   "metadata": {},
   "outputs": [],
   "source": [
    "#We can generate a rating by the number of times a customer bought an item and use \n",
    "#it to build a recommendation system\n",
    "train, validation, test = np.split(data.sample(frac=1), [int(.6*len(data)), int(.8*len(data))])train, validation, test = np.split(data.sample(frac=1), [int(.6*len(data)), int(.8*len(data))])"
   ]
  }
 ],
 "metadata": {
  "colab": {
   "include_colab_link": true,
   "provenance": [],
   "toc_visible": true
  },
  "kernelspec": {
   "display_name": "Python 3",
   "language": "python",
   "name": "python3"
  },
  "language_info": {
   "codemirror_mode": {
    "name": "ipython",
    "version": 3
   },
   "file_extension": ".py",
   "mimetype": "text/x-python",
   "name": "python",
   "nbconvert_exporter": "python",
   "pygments_lexer": "ipython3",
   "version": "3.8.6"
  }
 },
 "nbformat": 4,
 "nbformat_minor": 5
}
