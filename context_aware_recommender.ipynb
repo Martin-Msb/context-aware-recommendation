{
 "cells": [
  {
   "cell_type": "markdown",
   "id": "a7940b54",
   "metadata": {},
   "source": [
    "### This research notebook is part of DAMI II course at DSV\n",
    "\n",
    "### Authors: © 2022 Martin Masaba & Edda Waciira"
   ]
  },
  {
   "cell_type": "markdown",
   "id": "d0239aa6",
   "metadata": {},
   "source": [
    "# Customer Data Exploration"
   ]
  },
  {
   "cell_type": "code",
   "execution_count": 1,
   "id": "77bf85cf",
   "metadata": {},
   "outputs": [],
   "source": [
    "import numpy as np \n",
    "import pandas as pd\n",
    "\n",
    "import matplotlib.pyplot as plt \n",
    "import seaborn as sns\n",
    "%matplotlib inline"
   ]
  },
  {
   "cell_type": "code",
   "execution_count": 2,
   "id": "39d186e0",
   "metadata": {},
   "outputs": [],
   "source": [
    "customers_df = pd.read_csv(r\"C:\\Users\\AdminPC\\Edda Stuff\\Edda Data Scientist\\Python Projects\\datasets\\customers.csv\")"
   ]
  },
  {
   "cell_type": "code",
   "execution_count": 3,
   "id": "c2a27055",
   "metadata": {},
   "outputs": [
    {
     "data": {
      "text/html": [
       "<div>\n",
       "<style scoped>\n",
       "    .dataframe tbody tr th:only-of-type {\n",
       "        vertical-align: middle;\n",
       "    }\n",
       "\n",
       "    .dataframe tbody tr th {\n",
       "        vertical-align: top;\n",
       "    }\n",
       "\n",
       "    .dataframe thead th {\n",
       "        text-align: right;\n",
       "    }\n",
       "</style>\n",
       "<table border=\"1\" class=\"dataframe\">\n",
       "  <thead>\n",
       "    <tr style=\"text-align: right;\">\n",
       "      <th></th>\n",
       "      <th>customer_id</th>\n",
       "      <th>FN</th>\n",
       "      <th>Active</th>\n",
       "      <th>club_member_status</th>\n",
       "      <th>fashion_news_frequency</th>\n",
       "      <th>age</th>\n",
       "      <th>postal_code</th>\n",
       "    </tr>\n",
       "  </thead>\n",
       "  <tbody>\n",
       "    <tr>\n",
       "      <th>0</th>\n",
       "      <td>00000dbacae5abe5e23885899a1fa44253a17956c6d1c3...</td>\n",
       "      <td>NaN</td>\n",
       "      <td>NaN</td>\n",
       "      <td>ACTIVE</td>\n",
       "      <td>NONE</td>\n",
       "      <td>49.0</td>\n",
       "      <td>52043ee2162cf5aa7ee79974281641c6f11a68d276429a...</td>\n",
       "    </tr>\n",
       "    <tr>\n",
       "      <th>1</th>\n",
       "      <td>0000423b00ade91418cceaf3b26c6af3dd342b51fd051e...</td>\n",
       "      <td>NaN</td>\n",
       "      <td>NaN</td>\n",
       "      <td>ACTIVE</td>\n",
       "      <td>NONE</td>\n",
       "      <td>25.0</td>\n",
       "      <td>2973abc54daa8a5f8ccfe9362140c63247c5eee03f1d93...</td>\n",
       "    </tr>\n",
       "    <tr>\n",
       "      <th>2</th>\n",
       "      <td>000058a12d5b43e67d225668fa1f8d618c13dc232df0ca...</td>\n",
       "      <td>NaN</td>\n",
       "      <td>NaN</td>\n",
       "      <td>ACTIVE</td>\n",
       "      <td>NONE</td>\n",
       "      <td>24.0</td>\n",
       "      <td>64f17e6a330a85798e4998f62d0930d14db8db1c054af6...</td>\n",
       "    </tr>\n",
       "    <tr>\n",
       "      <th>3</th>\n",
       "      <td>00005ca1c9ed5f5146b52ac8639a40ca9d57aeff4d1bd2...</td>\n",
       "      <td>NaN</td>\n",
       "      <td>NaN</td>\n",
       "      <td>ACTIVE</td>\n",
       "      <td>NONE</td>\n",
       "      <td>54.0</td>\n",
       "      <td>5d36574f52495e81f019b680c843c443bd343d5ca5b1c2...</td>\n",
       "    </tr>\n",
       "    <tr>\n",
       "      <th>4</th>\n",
       "      <td>00006413d8573cd20ed7128e53b7b13819fe5cfc2d801f...</td>\n",
       "      <td>1.0</td>\n",
       "      <td>1.0</td>\n",
       "      <td>ACTIVE</td>\n",
       "      <td>Regularly</td>\n",
       "      <td>52.0</td>\n",
       "      <td>25fa5ddee9aac01b35208d01736e57942317d756b32ddd...</td>\n",
       "    </tr>\n",
       "    <tr>\n",
       "      <th>5</th>\n",
       "      <td>000064249685c11552da43ef22a5030f35a147f723d5b0...</td>\n",
       "      <td>NaN</td>\n",
       "      <td>NaN</td>\n",
       "      <td>NaN</td>\n",
       "      <td>NaN</td>\n",
       "      <td>NaN</td>\n",
       "      <td>2c29ae653a9282cce4151bd87643c907644e09541abc28...</td>\n",
       "    </tr>\n",
       "    <tr>\n",
       "      <th>6</th>\n",
       "      <td>0000757967448a6cb83efb3ea7a3fb9d418ac7adf2379d...</td>\n",
       "      <td>NaN</td>\n",
       "      <td>NaN</td>\n",
       "      <td>ACTIVE</td>\n",
       "      <td>NONE</td>\n",
       "      <td>20.0</td>\n",
       "      <td>fe7b8e2b3fafb89ca90db17ffeeae0fd29b795d803f749...</td>\n",
       "    </tr>\n",
       "    <tr>\n",
       "      <th>7</th>\n",
       "      <td>00007d2de826758b65a93dd24ce629ed66842531df6699...</td>\n",
       "      <td>1.0</td>\n",
       "      <td>1.0</td>\n",
       "      <td>ACTIVE</td>\n",
       "      <td>Regularly</td>\n",
       "      <td>32.0</td>\n",
       "      <td>8d6f45050876d059c830a0fe63f1a4c022de279bb68ce3...</td>\n",
       "    </tr>\n",
       "    <tr>\n",
       "      <th>8</th>\n",
       "      <td>00007e8d4e54114b5b2a9b51586325a8d0fa74ea23ef77...</td>\n",
       "      <td>NaN</td>\n",
       "      <td>NaN</td>\n",
       "      <td>ACTIVE</td>\n",
       "      <td>NONE</td>\n",
       "      <td>20.0</td>\n",
       "      <td>2c29ae653a9282cce4151bd87643c907644e09541abc28...</td>\n",
       "    </tr>\n",
       "    <tr>\n",
       "      <th>9</th>\n",
       "      <td>00008469a21b50b3d147c97135e25b4201a8c58997f787...</td>\n",
       "      <td>NaN</td>\n",
       "      <td>NaN</td>\n",
       "      <td>ACTIVE</td>\n",
       "      <td>NONE</td>\n",
       "      <td>20.0</td>\n",
       "      <td>2c29ae653a9282cce4151bd87643c907644e09541abc28...</td>\n",
       "    </tr>\n",
       "    <tr>\n",
       "      <th>10</th>\n",
       "      <td>0000945f66de1a11d9447609b8b41b1bc987ba185a5496...</td>\n",
       "      <td>NaN</td>\n",
       "      <td>NaN</td>\n",
       "      <td>ACTIVE</td>\n",
       "      <td>NONE</td>\n",
       "      <td>29.0</td>\n",
       "      <td>d93e1aaecdebf9f71ab42cc0c5fdbb378514c94971ad1c...</td>\n",
       "    </tr>\n",
       "    <tr>\n",
       "      <th>11</th>\n",
       "      <td>000097d91384a0c14893c09ed047a963c4fc6a5c021044...</td>\n",
       "      <td>NaN</td>\n",
       "      <td>NaN</td>\n",
       "      <td>ACTIVE</td>\n",
       "      <td>NONE</td>\n",
       "      <td>31.0</td>\n",
       "      <td>2c29ae653a9282cce4151bd87643c907644e09541abc28...</td>\n",
       "    </tr>\n",
       "    <tr>\n",
       "      <th>12</th>\n",
       "      <td>00009c2aeae8761f738e4f937d9be6b49861a66339c2b1...</td>\n",
       "      <td>NaN</td>\n",
       "      <td>NaN</td>\n",
       "      <td>ACTIVE</td>\n",
       "      <td>NONE</td>\n",
       "      <td>49.0</td>\n",
       "      <td>7e2caa18837edc6a7ad542c4c45f5a3a59da2a6433f540...</td>\n",
       "    </tr>\n",
       "    <tr>\n",
       "      <th>13</th>\n",
       "      <td>00009d946eec3ea54add5ba56d5210ea898def4b46c685...</td>\n",
       "      <td>1.0</td>\n",
       "      <td>1.0</td>\n",
       "      <td>ACTIVE</td>\n",
       "      <td>Regularly</td>\n",
       "      <td>56.0</td>\n",
       "      <td>b31984b20a8c478de38eaf113c581ff64e63c4242e607b...</td>\n",
       "    </tr>\n",
       "    <tr>\n",
       "      <th>14</th>\n",
       "      <td>0000ae1bbb25e04bdc7e35f718e852adfb3fbb72ef38b3...</td>\n",
       "      <td>1.0</td>\n",
       "      <td>1.0</td>\n",
       "      <td>ACTIVE</td>\n",
       "      <td>Regularly</td>\n",
       "      <td>29.0</td>\n",
       "      <td>2c29ae653a9282cce4151bd87643c907644e09541abc28...</td>\n",
       "    </tr>\n",
       "  </tbody>\n",
       "</table>\n",
       "</div>"
      ],
      "text/plain": [
       "                                          customer_id   FN  Active  \\\n",
       "0   00000dbacae5abe5e23885899a1fa44253a17956c6d1c3...  NaN     NaN   \n",
       "1   0000423b00ade91418cceaf3b26c6af3dd342b51fd051e...  NaN     NaN   \n",
       "2   000058a12d5b43e67d225668fa1f8d618c13dc232df0ca...  NaN     NaN   \n",
       "3   00005ca1c9ed5f5146b52ac8639a40ca9d57aeff4d1bd2...  NaN     NaN   \n",
       "4   00006413d8573cd20ed7128e53b7b13819fe5cfc2d801f...  1.0     1.0   \n",
       "5   000064249685c11552da43ef22a5030f35a147f723d5b0...  NaN     NaN   \n",
       "6   0000757967448a6cb83efb3ea7a3fb9d418ac7adf2379d...  NaN     NaN   \n",
       "7   00007d2de826758b65a93dd24ce629ed66842531df6699...  1.0     1.0   \n",
       "8   00007e8d4e54114b5b2a9b51586325a8d0fa74ea23ef77...  NaN     NaN   \n",
       "9   00008469a21b50b3d147c97135e25b4201a8c58997f787...  NaN     NaN   \n",
       "10  0000945f66de1a11d9447609b8b41b1bc987ba185a5496...  NaN     NaN   \n",
       "11  000097d91384a0c14893c09ed047a963c4fc6a5c021044...  NaN     NaN   \n",
       "12  00009c2aeae8761f738e4f937d9be6b49861a66339c2b1...  NaN     NaN   \n",
       "13  00009d946eec3ea54add5ba56d5210ea898def4b46c685...  1.0     1.0   \n",
       "14  0000ae1bbb25e04bdc7e35f718e852adfb3fbb72ef38b3...  1.0     1.0   \n",
       "\n",
       "   club_member_status fashion_news_frequency   age  \\\n",
       "0              ACTIVE                   NONE  49.0   \n",
       "1              ACTIVE                   NONE  25.0   \n",
       "2              ACTIVE                   NONE  24.0   \n",
       "3              ACTIVE                   NONE  54.0   \n",
       "4              ACTIVE              Regularly  52.0   \n",
       "5                 NaN                    NaN   NaN   \n",
       "6              ACTIVE                   NONE  20.0   \n",
       "7              ACTIVE              Regularly  32.0   \n",
       "8              ACTIVE                   NONE  20.0   \n",
       "9              ACTIVE                   NONE  20.0   \n",
       "10             ACTIVE                   NONE  29.0   \n",
       "11             ACTIVE                   NONE  31.0   \n",
       "12             ACTIVE                   NONE  49.0   \n",
       "13             ACTIVE              Regularly  56.0   \n",
       "14             ACTIVE              Regularly  29.0   \n",
       "\n",
       "                                          postal_code  \n",
       "0   52043ee2162cf5aa7ee79974281641c6f11a68d276429a...  \n",
       "1   2973abc54daa8a5f8ccfe9362140c63247c5eee03f1d93...  \n",
       "2   64f17e6a330a85798e4998f62d0930d14db8db1c054af6...  \n",
       "3   5d36574f52495e81f019b680c843c443bd343d5ca5b1c2...  \n",
       "4   25fa5ddee9aac01b35208d01736e57942317d756b32ddd...  \n",
       "5   2c29ae653a9282cce4151bd87643c907644e09541abc28...  \n",
       "6   fe7b8e2b3fafb89ca90db17ffeeae0fd29b795d803f749...  \n",
       "7   8d6f45050876d059c830a0fe63f1a4c022de279bb68ce3...  \n",
       "8   2c29ae653a9282cce4151bd87643c907644e09541abc28...  \n",
       "9   2c29ae653a9282cce4151bd87643c907644e09541abc28...  \n",
       "10  d93e1aaecdebf9f71ab42cc0c5fdbb378514c94971ad1c...  \n",
       "11  2c29ae653a9282cce4151bd87643c907644e09541abc28...  \n",
       "12  7e2caa18837edc6a7ad542c4c45f5a3a59da2a6433f540...  \n",
       "13  b31984b20a8c478de38eaf113c581ff64e63c4242e607b...  \n",
       "14  2c29ae653a9282cce4151bd87643c907644e09541abc28...  "
      ]
     },
     "execution_count": 3,
     "metadata": {},
     "output_type": "execute_result"
    }
   ],
   "source": [
    "customers_df.head(15)"
   ]
  },
  {
   "cell_type": "code",
   "execution_count": 4,
   "id": "ea198ada",
   "metadata": {},
   "outputs": [
    {
     "name": "stdout",
     "output_type": "stream",
     "text": [
      "<class 'pandas.core.frame.DataFrame'>\n",
      "RangeIndex: 1371980 entries, 0 to 1371979\n",
      "Data columns (total 7 columns):\n",
      " #   Column                  Non-Null Count    Dtype  \n",
      "---  ------                  --------------    -----  \n",
      " 0   customer_id             1371980 non-null  object \n",
      " 1   FN                      476930 non-null   float64\n",
      " 2   Active                  464404 non-null   float64\n",
      " 3   club_member_status      1365918 non-null  object \n",
      " 4   fashion_news_frequency  1355971 non-null  object \n",
      " 5   age                     1356119 non-null  float64\n",
      " 6   postal_code             1371980 non-null  object \n",
      "dtypes: float64(3), object(4)\n",
      "memory usage: 73.3+ MB\n"
     ]
    }
   ],
   "source": [
    "customers_df.info()"
   ]
  },
  {
   "cell_type": "code",
   "execution_count": 5,
   "id": "51e27dd3",
   "metadata": {},
   "outputs": [
    {
     "data": {
      "text/plain": [
       "customer_id                    0\n",
       "FN                        895050\n",
       "Active                    907576\n",
       "club_member_status          6062\n",
       "fashion_news_frequency     16009\n",
       "age                        15861\n",
       "postal_code                    0\n",
       "dtype: int64"
      ]
     },
     "execution_count": 5,
     "metadata": {},
     "output_type": "execute_result"
    }
   ],
   "source": [
    "customers_df.isnull().sum()"
   ]
  },
  {
   "cell_type": "code",
   "execution_count": 6,
   "id": "254723de",
   "metadata": {},
   "outputs": [
    {
     "data": {
      "text/html": [
       "<div>\n",
       "<style scoped>\n",
       "    .dataframe tbody tr th:only-of-type {\n",
       "        vertical-align: middle;\n",
       "    }\n",
       "\n",
       "    .dataframe tbody tr th {\n",
       "        vertical-align: top;\n",
       "    }\n",
       "\n",
       "    .dataframe thead th {\n",
       "        text-align: right;\n",
       "    }\n",
       "</style>\n",
       "<table border=\"1\" class=\"dataframe\">\n",
       "  <thead>\n",
       "    <tr style=\"text-align: right;\">\n",
       "      <th></th>\n",
       "      <th>club_member_status</th>\n",
       "    </tr>\n",
       "  </thead>\n",
       "  <tbody>\n",
       "    <tr>\n",
       "      <th>ACTIVE</th>\n",
       "      <td>92.748509</td>\n",
       "    </tr>\n",
       "    <tr>\n",
       "      <th>PRE-CREATE</th>\n",
       "      <td>6.775609</td>\n",
       "    </tr>\n",
       "    <tr>\n",
       "      <th>LEFT CLUB</th>\n",
       "      <td>0.034038</td>\n",
       "    </tr>\n",
       "  </tbody>\n",
       "</table>\n",
       "</div>"
      ],
      "text/plain": [
       "            club_member_status\n",
       "ACTIVE               92.748509\n",
       "PRE-CREATE            6.775609\n",
       "LEFT CLUB             0.034038"
      ]
     },
     "execution_count": 6,
     "metadata": {},
     "output_type": "execute_result"
    }
   ],
   "source": [
    "member_status = pd.DataFrame(customers_df['club_member_status'].value_counts()/customers_df['club_member_status'].shape[0] * 100)\n",
    "member_status"
   ]
  },
  {
   "cell_type": "markdown",
   "id": "52eed9a9",
   "metadata": {},
   "source": [
    "'pre-create' and 'left-club' seems to be very small groups, so we can drop the rows"
   ]
  },
  {
   "cell_type": "code",
   "execution_count": 7,
   "id": "e401af79",
   "metadata": {},
   "outputs": [
    {
     "data": {
      "text/plain": [
       "ACTIVE    1272491\n",
       "Name: club_member_status, dtype: int64"
      ]
     },
     "execution_count": 7,
     "metadata": {},
     "output_type": "execute_result"
    }
   ],
   "source": [
    "customers_df.drop(customers_df.index[customers_df['club_member_status'] != 'ACTIVE'], inplace=True)\n",
    "\n",
    "customers_df.club_member_status.value_counts()"
   ]
  },
  {
   "cell_type": "code",
   "execution_count": 8,
   "id": "cf0b7274",
   "metadata": {},
   "outputs": [
    {
     "data": {
      "text/plain": [
       "NONE         788482\n",
       "Regularly    471304\n",
       "Monthly         778\n",
       "None              2\n",
       "Name: fashion_news_frequency, dtype: int64"
      ]
     },
     "execution_count": 8,
     "metadata": {},
     "output_type": "execute_result"
    }
   ],
   "source": [
    "customers_df.fashion_news_frequency.value_counts()"
   ]
  },
  {
   "cell_type": "code",
   "execution_count": 9,
   "id": "f2bd43d5",
   "metadata": {},
   "outputs": [],
   "source": [
    "customers_df['fashion_news_frequency'].replace('None', np.nan, inplace=True)"
   ]
  },
  {
   "cell_type": "code",
   "execution_count": 10,
   "id": "114de322",
   "metadata": {},
   "outputs": [
    {
     "data": {
      "text/plain": [
       "NONE         788482\n",
       "Regularly    471304\n",
       "Monthly         778\n",
       "Name: fashion_news_frequency, dtype: int64"
      ]
     },
     "execution_count": 10,
     "metadata": {},
     "output_type": "execute_result"
    }
   ],
   "source": [
    "customers_df.fashion_news_frequency.value_counts()"
   ]
  },
  {
   "cell_type": "code",
   "execution_count": 11,
   "id": "55ed0c7e",
   "metadata": {},
   "outputs": [
    {
     "data": {
      "text/plain": [
       "array(['NONE', 'Regularly', nan, 'Monthly'], dtype=object)"
      ]
     },
     "execution_count": 11,
     "metadata": {},
     "output_type": "execute_result"
    }
   ],
   "source": [
    "customers_df.fashion_news_frequency.unique()"
   ]
  },
  {
   "cell_type": "code",
   "execution_count": 12,
   "id": "a71a30f1",
   "metadata": {},
   "outputs": [],
   "source": [
    "customers_df = customers_df.dropna(subset =['fashion_news_frequency'])"
   ]
  },
  {
   "cell_type": "code",
   "execution_count": 13,
   "id": "736de4c5",
   "metadata": {},
   "outputs": [
    {
     "data": {
      "text/plain": [
       "array(['NONE', 'Regularly', 'Monthly'], dtype=object)"
      ]
     },
     "execution_count": 13,
     "metadata": {},
     "output_type": "execute_result"
    }
   ],
   "source": [
    "customers_df.fashion_news_frequency.unique()"
   ]
  },
  {
   "cell_type": "code",
   "execution_count": 14,
   "id": "709cdd02",
   "metadata": {},
   "outputs": [
    {
     "data": {
      "text/plain": [
       "customer_id                    0\n",
       "FN                        789740\n",
       "Active                    802113\n",
       "club_member_status             0\n",
       "fashion_news_frequency         0\n",
       "age                         6168\n",
       "postal_code                    0\n",
       "dtype: int64"
      ]
     },
     "execution_count": 14,
     "metadata": {},
     "output_type": "execute_result"
    }
   ],
   "source": [
    "customers_df.isnull().sum()"
   ]
  },
  {
   "cell_type": "code",
   "execution_count": 15,
   "id": "a2823b14",
   "metadata": {},
   "outputs": [
    {
     "name": "stdout",
     "output_type": "stream",
     "text": [
      "The average age is 36.067268231084924, the max age is 99.0 and the min age is 16.0\n"
     ]
    }
   ],
   "source": [
    "avg_age = customers_df.age.mean()\n",
    "max_age = customers_df.age.max()\n",
    "min_age = customers_df.age.min()\n",
    "\n",
    "print('The average age is {}, the max age is {} and the min age is {}'\n",
    "      .format(avg_age, max_age, min_age))\n"
   ]
  },
  {
   "cell_type": "code",
   "execution_count": 16,
   "id": "aac0eee8",
   "metadata": {},
   "outputs": [
    {
     "data": {
      "text/plain": [
       "<AxesSubplot:title={'center':'Customers Ages'}, xlabel='Age Bins', ylabel='Count'>"
      ]
     },
     "execution_count": 16,
     "metadata": {},
     "output_type": "execute_result"
    },
    {
     "data": {
      "image/png": "[encoded data removed]",
      "text/plain": [
       "<Figure size 640x480 with 1 Axes>"
      ]
     },
     "metadata": {},
     "output_type": "display_data"
    }
   ],
   "source": [
    "bins = 0, 19, 29, 39, 49, 59, 69, 79,89,100\n",
    "customers_df['age_bins'] = pd.cut(customers_df.age, bins, labels = ['0-19','20-29','30-39','40-49','50-59','60-69','70-79','80-89','90-100'])\n",
    "\n",
    "\n",
    "customers_df.age_bins.value_counts().plot(kind = 'bar', title = 'Customers Ages', xlabel = 'Age Bins', ylabel= 'Count')\n"
   ]
  },
  {
   "cell_type": "code",
   "execution_count": 17,
   "id": "91c14018",
   "metadata": {},
   "outputs": [
    {
     "data": {
      "text/html": [
       "<div>\n",
       "<style scoped>\n",
       "    .dataframe tbody tr th:only-of-type {\n",
       "        vertical-align: middle;\n",
       "    }\n",
       "\n",
       "    .dataframe tbody tr th {\n",
       "        vertical-align: top;\n",
       "    }\n",
       "\n",
       "    .dataframe thead th {\n",
       "        text-align: right;\n",
       "    }\n",
       "</style>\n",
       "<table border=\"1\" class=\"dataframe\">\n",
       "  <thead>\n",
       "    <tr style=\"text-align: right;\">\n",
       "      <th></th>\n",
       "      <th>age_bins</th>\n",
       "    </tr>\n",
       "  </thead>\n",
       "  <tbody>\n",
       "    <tr>\n",
       "      <th>20-29</th>\n",
       "      <td>39.701991</td>\n",
       "    </tr>\n",
       "    <tr>\n",
       "      <th>30-39</th>\n",
       "      <td>16.920045</td>\n",
       "    </tr>\n",
       "    <tr>\n",
       "      <th>50-59</th>\n",
       "      <td>16.194259</td>\n",
       "    </tr>\n",
       "    <tr>\n",
       "      <th>40-49</th>\n",
       "      <td>14.584027</td>\n",
       "    </tr>\n",
       "    <tr>\n",
       "      <th>0-19</th>\n",
       "      <td>5.516975</td>\n",
       "    </tr>\n",
       "    <tr>\n",
       "      <th>60-69</th>\n",
       "      <td>5.223059</td>\n",
       "    </tr>\n",
       "    <tr>\n",
       "      <th>70-79</th>\n",
       "      <td>1.264117</td>\n",
       "    </tr>\n",
       "    <tr>\n",
       "      <th>80-89</th>\n",
       "      <td>0.099797</td>\n",
       "    </tr>\n",
       "    <tr>\n",
       "      <th>90-100</th>\n",
       "      <td>0.006426</td>\n",
       "    </tr>\n",
       "  </tbody>\n",
       "</table>\n",
       "</div>"
      ],
      "text/plain": [
       "         age_bins\n",
       "20-29   39.701991\n",
       "30-39   16.920045\n",
       "50-59   16.194259\n",
       "40-49   14.584027\n",
       "0-19     5.516975\n",
       "60-69    5.223059\n",
       "70-79    1.264117\n",
       "80-89    0.099797\n",
       "90-100   0.006426"
      ]
     },
     "execution_count": 17,
     "metadata": {},
     "output_type": "execute_result"
    }
   ],
   "source": [
    "#Should drop some ages here\n",
    "age_bins = pd.DataFrame(customers_df['age_bins'].value_counts()/customers_df['age_bins'].shape[0] * 100)\n",
    "age_bins"
   ]
  },
  {
   "cell_type": "code",
   "execution_count": 18,
   "id": "63fcbbee",
   "metadata": {},
   "outputs": [],
   "source": [
    "customers_df = customers_df.drop(customers_df[(customers_df['age'] >= 50) | (customers_df['age'] <= 20)].index)"
   ]
  },
  {
   "cell_type": "code",
   "execution_count": 19,
   "id": "b2309f85",
   "metadata": {},
   "outputs": [
    {
     "data": {
      "text/plain": [
       "20-29     447303\n",
       "30-39     213288\n",
       "40-49     183841\n",
       "0-19           0\n",
       "50-59          0\n",
       "60-69          0\n",
       "70-79          0\n",
       "80-89          0\n",
       "90-100         0\n",
       "Name: age_bins, dtype: int64"
      ]
     },
     "execution_count": 19,
     "metadata": {},
     "output_type": "execute_result"
    }
   ],
   "source": [
    "customers_df.age_bins.value_counts()"
   ]
  },
  {
   "cell_type": "code",
   "execution_count": 20,
   "id": "1d4903ce",
   "metadata": {},
   "outputs": [
    {
     "data": {
      "text/html": [
       "<div>\n",
       "<style scoped>\n",
       "    .dataframe tbody tr th:only-of-type {\n",
       "        vertical-align: middle;\n",
       "    }\n",
       "\n",
       "    .dataframe tbody tr th {\n",
       "        vertical-align: top;\n",
       "    }\n",
       "\n",
       "    .dataframe thead th {\n",
       "        text-align: right;\n",
       "    }\n",
       "</style>\n",
       "<table border=\"1\" class=\"dataframe\">\n",
       "  <thead>\n",
       "    <tr style=\"text-align: right;\">\n",
       "      <th></th>\n",
       "      <th>customer_id</th>\n",
       "      <th>FN</th>\n",
       "      <th>Active</th>\n",
       "      <th>club_member_status</th>\n",
       "      <th>fashion_news_frequency</th>\n",
       "      <th>age</th>\n",
       "    </tr>\n",
       "  </thead>\n",
       "  <tbody>\n",
       "    <tr>\n",
       "      <th>0</th>\n",
       "      <td>00000dbacae5abe5e23885899a1fa44253a17956c6d1c3...</td>\n",
       "      <td>NaN</td>\n",
       "      <td>NaN</td>\n",
       "      <td>ACTIVE</td>\n",
       "      <td>NONE</td>\n",
       "      <td>49.0</td>\n",
       "    </tr>\n",
       "    <tr>\n",
       "      <th>1</th>\n",
       "      <td>0000423b00ade91418cceaf3b26c6af3dd342b51fd051e...</td>\n",
       "      <td>NaN</td>\n",
       "      <td>NaN</td>\n",
       "      <td>ACTIVE</td>\n",
       "      <td>NONE</td>\n",
       "      <td>25.0</td>\n",
       "    </tr>\n",
       "    <tr>\n",
       "      <th>2</th>\n",
       "      <td>000058a12d5b43e67d225668fa1f8d618c13dc232df0ca...</td>\n",
       "      <td>NaN</td>\n",
       "      <td>NaN</td>\n",
       "      <td>ACTIVE</td>\n",
       "      <td>NONE</td>\n",
       "      <td>24.0</td>\n",
       "    </tr>\n",
       "    <tr>\n",
       "      <th>7</th>\n",
       "      <td>00007d2de826758b65a93dd24ce629ed66842531df6699...</td>\n",
       "      <td>1.0</td>\n",
       "      <td>1.0</td>\n",
       "      <td>ACTIVE</td>\n",
       "      <td>Regularly</td>\n",
       "      <td>32.0</td>\n",
       "    </tr>\n",
       "    <tr>\n",
       "      <th>10</th>\n",
       "      <td>0000945f66de1a11d9447609b8b41b1bc987ba185a5496...</td>\n",
       "      <td>NaN</td>\n",
       "      <td>NaN</td>\n",
       "      <td>ACTIVE</td>\n",
       "      <td>NONE</td>\n",
       "      <td>29.0</td>\n",
       "    </tr>\n",
       "    <tr>\n",
       "      <th>...</th>\n",
       "      <td>...</td>\n",
       "      <td>...</td>\n",
       "      <td>...</td>\n",
       "      <td>...</td>\n",
       "      <td>...</td>\n",
       "      <td>...</td>\n",
       "    </tr>\n",
       "    <tr>\n",
       "      <th>1371973</th>\n",
       "      <td>ffffa28cd7ab5d1cbbbfe7b582b1c419270cc0539f3dae...</td>\n",
       "      <td>1.0</td>\n",
       "      <td>1.0</td>\n",
       "      <td>ACTIVE</td>\n",
       "      <td>Regularly</td>\n",
       "      <td>22.0</td>\n",
       "    </tr>\n",
       "    <tr>\n",
       "      <th>1371974</th>\n",
       "      <td>ffffaff3905b803d1c7e153a1378a5151e1f34f236ba54...</td>\n",
       "      <td>1.0</td>\n",
       "      <td>1.0</td>\n",
       "      <td>ACTIVE</td>\n",
       "      <td>Regularly</td>\n",
       "      <td>21.0</td>\n",
       "    </tr>\n",
       "    <tr>\n",
       "      <th>1371975</th>\n",
       "      <td>ffffbbf78b6eaac697a8a5dfbfd2bfa8113ee5b403e474...</td>\n",
       "      <td>NaN</td>\n",
       "      <td>NaN</td>\n",
       "      <td>ACTIVE</td>\n",
       "      <td>NONE</td>\n",
       "      <td>24.0</td>\n",
       "    </tr>\n",
       "    <tr>\n",
       "      <th>1371976</th>\n",
       "      <td>ffffcd5046a6143d29a04fb8c424ce494a76e5cdf4fab5...</td>\n",
       "      <td>NaN</td>\n",
       "      <td>NaN</td>\n",
       "      <td>ACTIVE</td>\n",
       "      <td>NONE</td>\n",
       "      <td>21.0</td>\n",
       "    </tr>\n",
       "    <tr>\n",
       "      <th>1371977</th>\n",
       "      <td>ffffcf35913a0bee60e8741cb2b4e78b8a98ee5ff2e6a1...</td>\n",
       "      <td>1.0</td>\n",
       "      <td>1.0</td>\n",
       "      <td>ACTIVE</td>\n",
       "      <td>Regularly</td>\n",
       "      <td>21.0</td>\n",
       "    </tr>\n",
       "  </tbody>\n",
       "</table>\n",
       "<p>850600 rows × 6 columns</p>\n",
       "</div>"
      ],
      "text/plain": [
       "                                               customer_id   FN  Active  \\\n",
       "0        00000dbacae5abe5e23885899a1fa44253a17956c6d1c3...  NaN     NaN   \n",
       "1        0000423b00ade91418cceaf3b26c6af3dd342b51fd051e...  NaN     NaN   \n",
       "2        000058a12d5b43e67d225668fa1f8d618c13dc232df0ca...  NaN     NaN   \n",
       "7        00007d2de826758b65a93dd24ce629ed66842531df6699...  1.0     1.0   \n",
       "10       0000945f66de1a11d9447609b8b41b1bc987ba185a5496...  NaN     NaN   \n",
       "...                                                    ...  ...     ...   \n",
       "1371973  ffffa28cd7ab5d1cbbbfe7b582b1c419270cc0539f3dae...  1.0     1.0   \n",
       "1371974  ffffaff3905b803d1c7e153a1378a5151e1f34f236ba54...  1.0     1.0   \n",
       "1371975  ffffbbf78b6eaac697a8a5dfbfd2bfa8113ee5b403e474...  NaN     NaN   \n",
       "1371976  ffffcd5046a6143d29a04fb8c424ce494a76e5cdf4fab5...  NaN     NaN   \n",
       "1371977  ffffcf35913a0bee60e8741cb2b4e78b8a98ee5ff2e6a1...  1.0     1.0   \n",
       "\n",
       "        club_member_status fashion_news_frequency   age  \n",
       "0                   ACTIVE                   NONE  49.0  \n",
       "1                   ACTIVE                   NONE  25.0  \n",
       "2                   ACTIVE                   NONE  24.0  \n",
       "7                   ACTIVE              Regularly  32.0  \n",
       "10                  ACTIVE                   NONE  29.0  \n",
       "...                    ...                    ...   ...  \n",
       "1371973             ACTIVE              Regularly  22.0  \n",
       "1371974             ACTIVE              Regularly  21.0  \n",
       "1371975             ACTIVE                   NONE  24.0  \n",
       "1371976             ACTIVE                   NONE  21.0  \n",
       "1371977             ACTIVE              Regularly  21.0  \n",
       "\n",
       "[850600 rows x 6 columns]"
      ]
     },
     "execution_count": 20,
     "metadata": {},
     "output_type": "execute_result"
    }
   ],
   "source": [
    "#drop unnecessary columns\n",
    "customers_df.drop(['age_bins', 'postal_code'], axis = 1, inplace =True)\n",
    "customers_df"
   ]
  },
  {
   "cell_type": "code",
   "execution_count": 21,
   "id": "7065ff59",
   "metadata": {},
   "outputs": [
    {
     "data": {
      "text/plain": [
       "customer_id                    0\n",
       "FN                        547750\n",
       "Active                    556125\n",
       "club_member_status             0\n",
       "fashion_news_frequency         0\n",
       "age                         6168\n",
       "dtype: int64"
      ]
     },
     "execution_count": 21,
     "metadata": {},
     "output_type": "execute_result"
    }
   ],
   "source": [
    "customers_df.isnull().sum()"
   ]
  },
  {
   "cell_type": "markdown",
   "id": "26628408",
   "metadata": {},
   "source": [
    "###### According to the owner of the dataset, 'FN' is if a customer get Fashion News newsletter, 'Active' is if the customer is active for communication.\n",
    "See more [here](https://www.kaggle.com/c/h-and-m-personalized-fashion-recommendations/discussion/307001)\n",
    "\n",
    "As such, the value 1.0 in these two columns can be interpreted as 'true' and as such, np.nan can be intepreted as 'false'.\n",
    "\n",
    "Therefore, these values can be replaced with 0"
   ]
  },
  {
   "cell_type": "code",
   "execution_count": 22,
   "id": "452c0f8e",
   "metadata": {},
   "outputs": [],
   "source": [
    "customers_df['FN'] = customers_df['FN'].fillna(0)\n",
    "customers_df['Active'] = customers_df['Active'].fillna(0)"
   ]
  },
  {
   "cell_type": "code",
   "execution_count": 23,
   "id": "b7c0ab14",
   "metadata": {},
   "outputs": [
    {
     "data": {
      "text/plain": [
       "0.0    547750\n",
       "1.0    302850\n",
       "Name: FN, dtype: int64"
      ]
     },
     "execution_count": 23,
     "metadata": {},
     "output_type": "execute_result"
    }
   ],
   "source": [
    "customers_df.FN.value_counts()"
   ]
  },
  {
   "cell_type": "code",
   "execution_count": 24,
   "id": "fee80b75",
   "metadata": {},
   "outputs": [
    {
     "data": {
      "text/plain": [
       "0.0    556125\n",
       "1.0    294475\n",
       "Name: Active, dtype: int64"
      ]
     },
     "execution_count": 24,
     "metadata": {},
     "output_type": "execute_result"
    }
   ],
   "source": [
    "customers_df.Active.value_counts()"
   ]
  },
  {
   "cell_type": "code",
   "execution_count": 25,
   "id": "28dafd92",
   "metadata": {},
   "outputs": [
    {
     "data": {
      "text/plain": [
       "customer_id                  0\n",
       "FN                           0\n",
       "Active                       0\n",
       "club_member_status           0\n",
       "fashion_news_frequency       0\n",
       "age                       6168\n",
       "dtype: int64"
      ]
     },
     "execution_count": 25,
     "metadata": {},
     "output_type": "execute_result"
    }
   ],
   "source": [
    "customers_df.isnull().sum()"
   ]
  },
  {
   "cell_type": "markdown",
   "id": "85b76162",
   "metadata": {},
   "source": [
    "###### Only the 'column' has nan values now and since they are not many, it is possible to drop these rows"
   ]
  },
  {
   "cell_type": "code",
   "execution_count": 26,
   "id": "478aa28e",
   "metadata": {},
   "outputs": [],
   "source": [
    "customers_df = customers_df.dropna(subset =['age'])"
   ]
  },
  {
   "cell_type": "code",
   "execution_count": 27,
   "id": "e1053c97",
   "metadata": {},
   "outputs": [
    {
     "data": {
      "text/plain": [
       "customer_id               0\n",
       "FN                        0\n",
       "Active                    0\n",
       "club_member_status        0\n",
       "fashion_news_frequency    0\n",
       "age                       0\n",
       "dtype: int64"
      ]
     },
     "execution_count": 27,
     "metadata": {},
     "output_type": "execute_result"
    }
   ],
   "source": [
    "customers_df.isnull().sum()"
   ]
  },
  {
   "cell_type": "markdown",
   "id": "fe1d4ba0",
   "metadata": {},
   "source": [
    "### Scaling Numeric Columns"
   ]
  },
  {
   "cell_type": "markdown",
   "id": "f43c4783",
   "metadata": {},
   "source": [
    "There are three numerical columns (FN, Active & age). But FN and Active have 1 and 0 values representing truth or false.\n",
    "\n",
    "As such, only age should be scaled. Below we check the dristribution of age so as to decide the best sclaing method to use."
   ]
  },
  {
   "cell_type": "code",
   "execution_count": 28,
   "id": "a7754d1d",
   "metadata": {},
   "outputs": [
    {
     "data": {
      "text/plain": [
       "count    844432.000000\n",
       "mean         31.333135\n",
       "std           8.536422\n",
       "min          21.000000\n",
       "25%          24.000000\n",
       "50%          29.000000\n",
       "75%          37.000000\n",
       "max          49.000000\n",
       "Name: age, dtype: float64"
      ]
     },
     "execution_count": 28,
     "metadata": {},
     "output_type": "execute_result"
    }
   ],
   "source": [
    "customers_df['age'].describe()"
   ]
  },
  {
   "cell_type": "code",
   "execution_count": 29,
   "id": "7a58888b",
   "metadata": {},
   "outputs": [
    {
     "data": {
      "text/plain": [
       "<AxesSubplot:xlabel='age', ylabel='Count'>"
      ]
     },
     "execution_count": 29,
     "metadata": {},
     "output_type": "execute_result"
    },
    {
     "data": {
      "image/png": "[encoded data removed]",
      "text/plain": [
       "<Figure size 640x480 with 1 Axes>"
      ]
     },
     "metadata": {},
     "output_type": "display_data"
    }
   ],
   "source": [
    "sns.histplot(customers_df['age'])"
   ]
  },
  {
   "cell_type": "code",
   "execution_count": 30,
   "id": "4e981b73",
   "metadata": {},
   "outputs": [
    {
     "data": {
      "text/plain": [
       "<AxesSubplot:ylabel='Density'>"
      ]
     },
     "execution_count": 30,
     "metadata": {},
     "output_type": "execute_result"
    },
    {
     "data": {
      "image/png": "[encoded data removed]",
      "text/plain": [
       "<Figure size 640x480 with 1 Axes>"
      ]
     },
     "metadata": {},
     "output_type": "display_data"
    }
   ],
   "source": [
    "customers_df['age'].plot(kind='kde')"
   ]
  },
  {
   "cell_type": "code",
   "execution_count": 31,
   "id": "0e271eae",
   "metadata": {},
   "outputs": [],
   "source": [
    "#No normal distribution in age column\n",
    "from sklearn.preprocessing import MinMaxScaler"
   ]
  },
  {
   "cell_type": "code",
   "execution_count": 32,
   "id": "c49e6151",
   "metadata": {},
   "outputs": [],
   "source": [
    "scaler = MinMaxScaler()"
   ]
  },
  {
   "cell_type": "code",
   "execution_count": 33,
   "id": "338f169f",
   "metadata": {},
   "outputs": [
    {
     "data": {
      "text/plain": [
       "(844432, 1)"
      ]
     },
     "execution_count": 33,
     "metadata": {},
     "output_type": "execute_result"
    }
   ],
   "source": [
    "age_col = customers_df[['age']]\n",
    "\n",
    "age_col.shape"
   ]
  },
  {
   "cell_type": "code",
   "execution_count": 34,
   "id": "e5e195d3",
   "metadata": {},
   "outputs": [],
   "source": [
    "scaler.fit(age_col)\n",
    "age_scaled = scaler.transform(age_col)"
   ]
  },
  {
   "cell_type": "code",
   "execution_count": 35,
   "id": "2a56f50d",
   "metadata": {},
   "outputs": [
    {
     "data": {
      "text/plain": [
       "(844432, 1)"
      ]
     },
     "execution_count": 35,
     "metadata": {},
     "output_type": "execute_result"
    }
   ],
   "source": [
    "age_scaled.shape"
   ]
  },
  {
   "cell_type": "code",
   "execution_count": 36,
   "id": "8dc3ee47",
   "metadata": {},
   "outputs": [],
   "source": [
    "customers_df = customers_df.assign(age_scaled=age_scaled)"
   ]
  },
  {
   "cell_type": "code",
   "execution_count": 37,
   "id": "d4eca497",
   "metadata": {
    "scrolled": true
   },
   "outputs": [
    {
     "data": {
      "text/html": [
       "<div>\n",
       "<style scoped>\n",
       "    .dataframe tbody tr th:only-of-type {\n",
       "        vertical-align: middle;\n",
       "    }\n",
       "\n",
       "    .dataframe tbody tr th {\n",
       "        vertical-align: top;\n",
       "    }\n",
       "\n",
       "    .dataframe thead th {\n",
       "        text-align: right;\n",
       "    }\n",
       "</style>\n",
       "<table border=\"1\" class=\"dataframe\">\n",
       "  <thead>\n",
       "    <tr style=\"text-align: right;\">\n",
       "      <th></th>\n",
       "      <th>customer_id</th>\n",
       "      <th>FN</th>\n",
       "      <th>Active</th>\n",
       "      <th>club_member_status</th>\n",
       "      <th>fashion_news_frequency</th>\n",
       "      <th>age</th>\n",
       "      <th>age_scaled</th>\n",
       "    </tr>\n",
       "  </thead>\n",
       "  <tbody>\n",
       "    <tr>\n",
       "      <th>0</th>\n",
       "      <td>00000dbacae5abe5e23885899a1fa44253a17956c6d1c3...</td>\n",
       "      <td>0.0</td>\n",
       "      <td>0.0</td>\n",
       "      <td>ACTIVE</td>\n",
       "      <td>NONE</td>\n",
       "      <td>49.0</td>\n",
       "      <td>1.000000</td>\n",
       "    </tr>\n",
       "    <tr>\n",
       "      <th>1</th>\n",
       "      <td>0000423b00ade91418cceaf3b26c6af3dd342b51fd051e...</td>\n",
       "      <td>0.0</td>\n",
       "      <td>0.0</td>\n",
       "      <td>ACTIVE</td>\n",
       "      <td>NONE</td>\n",
       "      <td>25.0</td>\n",
       "      <td>0.142857</td>\n",
       "    </tr>\n",
       "    <tr>\n",
       "      <th>2</th>\n",
       "      <td>000058a12d5b43e67d225668fa1f8d618c13dc232df0ca...</td>\n",
       "      <td>0.0</td>\n",
       "      <td>0.0</td>\n",
       "      <td>ACTIVE</td>\n",
       "      <td>NONE</td>\n",
       "      <td>24.0</td>\n",
       "      <td>0.107143</td>\n",
       "    </tr>\n",
       "    <tr>\n",
       "      <th>7</th>\n",
       "      <td>00007d2de826758b65a93dd24ce629ed66842531df6699...</td>\n",
       "      <td>1.0</td>\n",
       "      <td>1.0</td>\n",
       "      <td>ACTIVE</td>\n",
       "      <td>Regularly</td>\n",
       "      <td>32.0</td>\n",
       "      <td>0.392857</td>\n",
       "    </tr>\n",
       "    <tr>\n",
       "      <th>10</th>\n",
       "      <td>0000945f66de1a11d9447609b8b41b1bc987ba185a5496...</td>\n",
       "      <td>0.0</td>\n",
       "      <td>0.0</td>\n",
       "      <td>ACTIVE</td>\n",
       "      <td>NONE</td>\n",
       "      <td>29.0</td>\n",
       "      <td>0.285714</td>\n",
       "    </tr>\n",
       "    <tr>\n",
       "      <th>...</th>\n",
       "      <td>...</td>\n",
       "      <td>...</td>\n",
       "      <td>...</td>\n",
       "      <td>...</td>\n",
       "      <td>...</td>\n",
       "      <td>...</td>\n",
       "      <td>...</td>\n",
       "    </tr>\n",
       "    <tr>\n",
       "      <th>1371973</th>\n",
       "      <td>ffffa28cd7ab5d1cbbbfe7b582b1c419270cc0539f3dae...</td>\n",
       "      <td>1.0</td>\n",
       "      <td>1.0</td>\n",
       "      <td>ACTIVE</td>\n",
       "      <td>Regularly</td>\n",
       "      <td>22.0</td>\n",
       "      <td>0.035714</td>\n",
       "    </tr>\n",
       "    <tr>\n",
       "      <th>1371974</th>\n",
       "      <td>ffffaff3905b803d1c7e153a1378a5151e1f34f236ba54...</td>\n",
       "      <td>1.0</td>\n",
       "      <td>1.0</td>\n",
       "      <td>ACTIVE</td>\n",
       "      <td>Regularly</td>\n",
       "      <td>21.0</td>\n",
       "      <td>0.000000</td>\n",
       "    </tr>\n",
       "    <tr>\n",
       "      <th>1371975</th>\n",
       "      <td>ffffbbf78b6eaac697a8a5dfbfd2bfa8113ee5b403e474...</td>\n",
       "      <td>0.0</td>\n",
       "      <td>0.0</td>\n",
       "      <td>ACTIVE</td>\n",
       "      <td>NONE</td>\n",
       "      <td>24.0</td>\n",
       "      <td>0.107143</td>\n",
       "    </tr>\n",
       "    <tr>\n",
       "      <th>1371976</th>\n",
       "      <td>ffffcd5046a6143d29a04fb8c424ce494a76e5cdf4fab5...</td>\n",
       "      <td>0.0</td>\n",
       "      <td>0.0</td>\n",
       "      <td>ACTIVE</td>\n",
       "      <td>NONE</td>\n",
       "      <td>21.0</td>\n",
       "      <td>0.000000</td>\n",
       "    </tr>\n",
       "    <tr>\n",
       "      <th>1371977</th>\n",
       "      <td>ffffcf35913a0bee60e8741cb2b4e78b8a98ee5ff2e6a1...</td>\n",
       "      <td>1.0</td>\n",
       "      <td>1.0</td>\n",
       "      <td>ACTIVE</td>\n",
       "      <td>Regularly</td>\n",
       "      <td>21.0</td>\n",
       "      <td>0.000000</td>\n",
       "    </tr>\n",
       "  </tbody>\n",
       "</table>\n",
       "<p>844432 rows × 7 columns</p>\n",
       "</div>"
      ],
      "text/plain": [
       "                                               customer_id   FN  Active  \\\n",
       "0        00000dbacae5abe5e23885899a1fa44253a17956c6d1c3...  0.0     0.0   \n",
       "1        0000423b00ade91418cceaf3b26c6af3dd342b51fd051e...  0.0     0.0   \n",
       "2        000058a12d5b43e67d225668fa1f8d618c13dc232df0ca...  0.0     0.0   \n",
       "7        00007d2de826758b65a93dd24ce629ed66842531df6699...  1.0     1.0   \n",
       "10       0000945f66de1a11d9447609b8b41b1bc987ba185a5496...  0.0     0.0   \n",
       "...                                                    ...  ...     ...   \n",
       "1371973  ffffa28cd7ab5d1cbbbfe7b582b1c419270cc0539f3dae...  1.0     1.0   \n",
       "1371974  ffffaff3905b803d1c7e153a1378a5151e1f34f236ba54...  1.0     1.0   \n",
       "1371975  ffffbbf78b6eaac697a8a5dfbfd2bfa8113ee5b403e474...  0.0     0.0   \n",
       "1371976  ffffcd5046a6143d29a04fb8c424ce494a76e5cdf4fab5...  0.0     0.0   \n",
       "1371977  ffffcf35913a0bee60e8741cb2b4e78b8a98ee5ff2e6a1...  1.0     1.0   \n",
       "\n",
       "        club_member_status fashion_news_frequency   age  age_scaled  \n",
       "0                   ACTIVE                   NONE  49.0    1.000000  \n",
       "1                   ACTIVE                   NONE  25.0    0.142857  \n",
       "2                   ACTIVE                   NONE  24.0    0.107143  \n",
       "7                   ACTIVE              Regularly  32.0    0.392857  \n",
       "10                  ACTIVE                   NONE  29.0    0.285714  \n",
       "...                    ...                    ...   ...         ...  \n",
       "1371973             ACTIVE              Regularly  22.0    0.035714  \n",
       "1371974             ACTIVE              Regularly  21.0    0.000000  \n",
       "1371975             ACTIVE                   NONE  24.0    0.107143  \n",
       "1371976             ACTIVE                   NONE  21.0    0.000000  \n",
       "1371977             ACTIVE              Regularly  21.0    0.000000  \n",
       "\n",
       "[844432 rows x 7 columns]"
      ]
     },
     "execution_count": 37,
     "metadata": {},
     "output_type": "execute_result"
    }
   ],
   "source": [
    "customers_df"
   ]
  },
  {
   "cell_type": "code",
   "execution_count": 38,
   "id": "9f8b2f98",
   "metadata": {},
   "outputs": [],
   "source": [
    "categorical_cols = ['club_member_status', 'fashion_news_frequency']"
   ]
  },
  {
   "cell_type": "code",
   "execution_count": 39,
   "id": "f7444791",
   "metadata": {},
   "outputs": [
    {
     "data": {
      "text/plain": [
       "['club_member_status', 'fashion_news_frequency']"
      ]
     },
     "execution_count": 39,
     "metadata": {},
     "output_type": "execute_result"
    }
   ],
   "source": [
    "categorical_cols"
   ]
  },
  {
   "cell_type": "markdown",
   "id": "d6927614",
   "metadata": {},
   "source": [
    "### Encoding Categorical Data"
   ]
  },
  {
   "cell_type": "code",
   "execution_count": 40,
   "id": "a6d0fd3d",
   "metadata": {
    "scrolled": true
   },
   "outputs": [
    {
     "data": {
      "text/plain": [
       "club_member_status        1\n",
       "fashion_news_frequency    3\n",
       "dtype: int64"
      ]
     },
     "execution_count": 40,
     "metadata": {},
     "output_type": "execute_result"
    }
   ],
   "source": [
    "customers_df[categorical_cols].nunique()"
   ]
  },
  {
   "cell_type": "code",
   "execution_count": 41,
   "id": "1e760199",
   "metadata": {},
   "outputs": [],
   "source": [
    "from sklearn.preprocessing import OneHotEncoder"
   ]
  },
  {
   "cell_type": "code",
   "execution_count": 42,
   "id": "32edb8bc",
   "metadata": {},
   "outputs": [],
   "source": [
    "encoder = OneHotEncoder(sparse = False, handle_unknown = 'ignore')"
   ]
  },
  {
   "cell_type": "code",
   "execution_count": 43,
   "id": "70daf9dc",
   "metadata": {},
   "outputs": [
    {
     "data": {
      "text/plain": [
       "OneHotEncoder(handle_unknown='ignore', sparse=False)"
      ]
     },
     "execution_count": 43,
     "metadata": {},
     "output_type": "execute_result"
    }
   ],
   "source": [
    "encoder.fit(customers_df[categorical_cols])\n"
   ]
  },
  {
   "cell_type": "code",
   "execution_count": 44,
   "id": "b940080c",
   "metadata": {},
   "outputs": [
    {
     "name": "stdout",
     "output_type": "stream",
     "text": [
      "['club_member_status_ACTIVE', 'fashion_news_frequency_Monthly', 'fashion_news_frequency_NONE', 'fashion_news_frequency_Regularly']\n"
     ]
    }
   ],
   "source": [
    "encoded_cols = list(encoder.get_feature_names_out(categorical_cols))\n",
    "print(encoded_cols)"
   ]
  },
  {
   "cell_type": "code",
   "execution_count": 45,
   "id": "6f6eade4",
   "metadata": {},
   "outputs": [],
   "source": [
    "customers_df[encoded_cols] = encoder.transform(customers_df[categorical_cols])"
   ]
  },
  {
   "cell_type": "code",
   "execution_count": 46,
   "id": "0700ade8",
   "metadata": {},
   "outputs": [
    {
     "data": {
      "text/html": [
       "<div>\n",
       "<style scoped>\n",
       "    .dataframe tbody tr th:only-of-type {\n",
       "        vertical-align: middle;\n",
       "    }\n",
       "\n",
       "    .dataframe tbody tr th {\n",
       "        vertical-align: top;\n",
       "    }\n",
       "\n",
       "    .dataframe thead th {\n",
       "        text-align: right;\n",
       "    }\n",
       "</style>\n",
       "<table border=\"1\" class=\"dataframe\">\n",
       "  <thead>\n",
       "    <tr style=\"text-align: right;\">\n",
       "      <th></th>\n",
       "      <th>customer_id</th>\n",
       "      <th>FN</th>\n",
       "      <th>Active</th>\n",
       "      <th>club_member_status</th>\n",
       "      <th>fashion_news_frequency</th>\n",
       "      <th>age</th>\n",
       "      <th>age_scaled</th>\n",
       "      <th>club_member_status_ACTIVE</th>\n",
       "      <th>fashion_news_frequency_Monthly</th>\n",
       "      <th>fashion_news_frequency_NONE</th>\n",
       "      <th>fashion_news_frequency_Regularly</th>\n",
       "    </tr>\n",
       "  </thead>\n",
       "  <tbody>\n",
       "    <tr>\n",
       "      <th>0</th>\n",
       "      <td>00000dbacae5abe5e23885899a1fa44253a17956c6d1c3...</td>\n",
       "      <td>0.0</td>\n",
       "      <td>0.0</td>\n",
       "      <td>ACTIVE</td>\n",
       "      <td>NONE</td>\n",
       "      <td>49.0</td>\n",
       "      <td>1.000000</td>\n",
       "      <td>1.0</td>\n",
       "      <td>0.0</td>\n",
       "      <td>1.0</td>\n",
       "      <td>0.0</td>\n",
       "    </tr>\n",
       "    <tr>\n",
       "      <th>1</th>\n",
       "      <td>0000423b00ade91418cceaf3b26c6af3dd342b51fd051e...</td>\n",
       "      <td>0.0</td>\n",
       "      <td>0.0</td>\n",
       "      <td>ACTIVE</td>\n",
       "      <td>NONE</td>\n",
       "      <td>25.0</td>\n",
       "      <td>0.142857</td>\n",
       "      <td>1.0</td>\n",
       "      <td>0.0</td>\n",
       "      <td>1.0</td>\n",
       "      <td>0.0</td>\n",
       "    </tr>\n",
       "    <tr>\n",
       "      <th>2</th>\n",
       "      <td>000058a12d5b43e67d225668fa1f8d618c13dc232df0ca...</td>\n",
       "      <td>0.0</td>\n",
       "      <td>0.0</td>\n",
       "      <td>ACTIVE</td>\n",
       "      <td>NONE</td>\n",
       "      <td>24.0</td>\n",
       "      <td>0.107143</td>\n",
       "      <td>1.0</td>\n",
       "      <td>0.0</td>\n",
       "      <td>1.0</td>\n",
       "      <td>0.0</td>\n",
       "    </tr>\n",
       "    <tr>\n",
       "      <th>7</th>\n",
       "      <td>00007d2de826758b65a93dd24ce629ed66842531df6699...</td>\n",
       "      <td>1.0</td>\n",
       "      <td>1.0</td>\n",
       "      <td>ACTIVE</td>\n",
       "      <td>Regularly</td>\n",
       "      <td>32.0</td>\n",
       "      <td>0.392857</td>\n",
       "      <td>1.0</td>\n",
       "      <td>0.0</td>\n",
       "      <td>0.0</td>\n",
       "      <td>1.0</td>\n",
       "    </tr>\n",
       "    <tr>\n",
       "      <th>10</th>\n",
       "      <td>0000945f66de1a11d9447609b8b41b1bc987ba185a5496...</td>\n",
       "      <td>0.0</td>\n",
       "      <td>0.0</td>\n",
       "      <td>ACTIVE</td>\n",
       "      <td>NONE</td>\n",
       "      <td>29.0</td>\n",
       "      <td>0.285714</td>\n",
       "      <td>1.0</td>\n",
       "      <td>0.0</td>\n",
       "      <td>1.0</td>\n",
       "      <td>0.0</td>\n",
       "    </tr>\n",
       "    <tr>\n",
       "      <th>...</th>\n",
       "      <td>...</td>\n",
       "      <td>...</td>\n",
       "      <td>...</td>\n",
       "      <td>...</td>\n",
       "      <td>...</td>\n",
       "      <td>...</td>\n",
       "      <td>...</td>\n",
       "      <td>...</td>\n",
       "      <td>...</td>\n",
       "      <td>...</td>\n",
       "      <td>...</td>\n",
       "    </tr>\n",
       "    <tr>\n",
       "      <th>1371973</th>\n",
       "      <td>ffffa28cd7ab5d1cbbbfe7b582b1c419270cc0539f3dae...</td>\n",
       "      <td>1.0</td>\n",
       "      <td>1.0</td>\n",
       "      <td>ACTIVE</td>\n",
       "      <td>Regularly</td>\n",
       "      <td>22.0</td>\n",
       "      <td>0.035714</td>\n",
       "      <td>1.0</td>\n",
       "      <td>0.0</td>\n",
       "      <td>0.0</td>\n",
       "      <td>1.0</td>\n",
       "    </tr>\n",
       "    <tr>\n",
       "      <th>1371974</th>\n",
       "      <td>ffffaff3905b803d1c7e153a1378a5151e1f34f236ba54...</td>\n",
       "      <td>1.0</td>\n",
       "      <td>1.0</td>\n",
       "      <td>ACTIVE</td>\n",
       "      <td>Regularly</td>\n",
       "      <td>21.0</td>\n",
       "      <td>0.000000</td>\n",
       "      <td>1.0</td>\n",
       "      <td>0.0</td>\n",
       "      <td>0.0</td>\n",
       "      <td>1.0</td>\n",
       "    </tr>\n",
       "    <tr>\n",
       "      <th>1371975</th>\n",
       "      <td>ffffbbf78b6eaac697a8a5dfbfd2bfa8113ee5b403e474...</td>\n",
       "      <td>0.0</td>\n",
       "      <td>0.0</td>\n",
       "      <td>ACTIVE</td>\n",
       "      <td>NONE</td>\n",
       "      <td>24.0</td>\n",
       "      <td>0.107143</td>\n",
       "      <td>1.0</td>\n",
       "      <td>0.0</td>\n",
       "      <td>1.0</td>\n",
       "      <td>0.0</td>\n",
       "    </tr>\n",
       "    <tr>\n",
       "      <th>1371976</th>\n",
       "      <td>ffffcd5046a6143d29a04fb8c424ce494a76e5cdf4fab5...</td>\n",
       "      <td>0.0</td>\n",
       "      <td>0.0</td>\n",
       "      <td>ACTIVE</td>\n",
       "      <td>NONE</td>\n",
       "      <td>21.0</td>\n",
       "      <td>0.000000</td>\n",
       "      <td>1.0</td>\n",
       "      <td>0.0</td>\n",
       "      <td>1.0</td>\n",
       "      <td>0.0</td>\n",
       "    </tr>\n",
       "    <tr>\n",
       "      <th>1371977</th>\n",
       "      <td>ffffcf35913a0bee60e8741cb2b4e78b8a98ee5ff2e6a1...</td>\n",
       "      <td>1.0</td>\n",
       "      <td>1.0</td>\n",
       "      <td>ACTIVE</td>\n",
       "      <td>Regularly</td>\n",
       "      <td>21.0</td>\n",
       "      <td>0.000000</td>\n",
       "      <td>1.0</td>\n",
       "      <td>0.0</td>\n",
       "      <td>0.0</td>\n",
       "      <td>1.0</td>\n",
       "    </tr>\n",
       "  </tbody>\n",
       "</table>\n",
       "<p>844432 rows × 11 columns</p>\n",
       "</div>"
      ],
      "text/plain": [
       "                                               customer_id   FN  Active  \\\n",
       "0        00000dbacae5abe5e23885899a1fa44253a17956c6d1c3...  0.0     0.0   \n",
       "1        0000423b00ade91418cceaf3b26c6af3dd342b51fd051e...  0.0     0.0   \n",
       "2        000058a12d5b43e67d225668fa1f8d618c13dc232df0ca...  0.0     0.0   \n",
       "7        00007d2de826758b65a93dd24ce629ed66842531df6699...  1.0     1.0   \n",
       "10       0000945f66de1a11d9447609b8b41b1bc987ba185a5496...  0.0     0.0   \n",
       "...                                                    ...  ...     ...   \n",
       "1371973  ffffa28cd7ab5d1cbbbfe7b582b1c419270cc0539f3dae...  1.0     1.0   \n",
       "1371974  ffffaff3905b803d1c7e153a1378a5151e1f34f236ba54...  1.0     1.0   \n",
       "1371975  ffffbbf78b6eaac697a8a5dfbfd2bfa8113ee5b403e474...  0.0     0.0   \n",
       "1371976  ffffcd5046a6143d29a04fb8c424ce494a76e5cdf4fab5...  0.0     0.0   \n",
       "1371977  ffffcf35913a0bee60e8741cb2b4e78b8a98ee5ff2e6a1...  1.0     1.0   \n",
       "\n",
       "        club_member_status fashion_news_frequency   age  age_scaled  \\\n",
       "0                   ACTIVE                   NONE  49.0    1.000000   \n",
       "1                   ACTIVE                   NONE  25.0    0.142857   \n",
       "2                   ACTIVE                   NONE  24.0    0.107143   \n",
       "7                   ACTIVE              Regularly  32.0    0.392857   \n",
       "10                  ACTIVE                   NONE  29.0    0.285714   \n",
       "...                    ...                    ...   ...         ...   \n",
       "1371973             ACTIVE              Regularly  22.0    0.035714   \n",
       "1371974             ACTIVE              Regularly  21.0    0.000000   \n",
       "1371975             ACTIVE                   NONE  24.0    0.107143   \n",
       "1371976             ACTIVE                   NONE  21.0    0.000000   \n",
       "1371977             ACTIVE              Regularly  21.0    0.000000   \n",
       "\n",
       "         club_member_status_ACTIVE  fashion_news_frequency_Monthly  \\\n",
       "0                              1.0                             0.0   \n",
       "1                              1.0                             0.0   \n",
       "2                              1.0                             0.0   \n",
       "7                              1.0                             0.0   \n",
       "10                             1.0                             0.0   \n",
       "...                            ...                             ...   \n",
       "1371973                        1.0                             0.0   \n",
       "1371974                        1.0                             0.0   \n",
       "1371975                        1.0                             0.0   \n",
       "1371976                        1.0                             0.0   \n",
       "1371977                        1.0                             0.0   \n",
       "\n",
       "         fashion_news_frequency_NONE  fashion_news_frequency_Regularly  \n",
       "0                                1.0                               0.0  \n",
       "1                                1.0                               0.0  \n",
       "2                                1.0                               0.0  \n",
       "7                                0.0                               1.0  \n",
       "10                               1.0                               0.0  \n",
       "...                              ...                               ...  \n",
       "1371973                          0.0                               1.0  \n",
       "1371974                          0.0                               1.0  \n",
       "1371975                          1.0                               0.0  \n",
       "1371976                          1.0                               0.0  \n",
       "1371977                          0.0                               1.0  \n",
       "\n",
       "[844432 rows x 11 columns]"
      ]
     },
     "execution_count": 46,
     "metadata": {},
     "output_type": "execute_result"
    }
   ],
   "source": [
    "customers_df"
   ]
  },
  {
   "cell_type": "code",
   "execution_count": 49,
   "id": "919d8e8f",
   "metadata": {},
   "outputs": [],
   "source": [
    "customers_num_df = customers_df[['FN', 'Active','age_scaled','fashion_news_frequency_Monthly','fashion_news_frequency_NONE','fashion_news_frequency_Regularly']]"
   ]
  },
  {
   "cell_type": "code",
   "execution_count": 50,
   "id": "b8f78a9f",
   "metadata": {},
   "outputs": [
    {
     "data": {
      "text/html": [
       "<div>\n",
       "<style scoped>\n",
       "    .dataframe tbody tr th:only-of-type {\n",
       "        vertical-align: middle;\n",
       "    }\n",
       "\n",
       "    .dataframe tbody tr th {\n",
       "        vertical-align: top;\n",
       "    }\n",
       "\n",
       "    .dataframe thead th {\n",
       "        text-align: right;\n",
       "    }\n",
       "</style>\n",
       "<table border=\"1\" class=\"dataframe\">\n",
       "  <thead>\n",
       "    <tr style=\"text-align: right;\">\n",
       "      <th></th>\n",
       "      <th>FN</th>\n",
       "      <th>Active</th>\n",
       "      <th>age_scaled</th>\n",
       "      <th>fashion_news_frequency_Monthly</th>\n",
       "      <th>fashion_news_frequency_NONE</th>\n",
       "      <th>fashion_news_frequency_Regularly</th>\n",
       "    </tr>\n",
       "  </thead>\n",
       "  <tbody>\n",
       "    <tr>\n",
       "      <th>FN</th>\n",
       "      <td>1.000000</td>\n",
       "      <td>0.978589</td>\n",
       "      <td>0.018760</td>\n",
       "      <td>0.032688</td>\n",
       "      <td>-0.994511</td>\n",
       "      <td>0.993181</td>\n",
       "    </tr>\n",
       "    <tr>\n",
       "      <th>Active</th>\n",
       "      <td>0.978589</td>\n",
       "      <td>1.000000</td>\n",
       "      <td>0.020216</td>\n",
       "      <td>0.031154</td>\n",
       "      <td>-0.974137</td>\n",
       "      <td>0.972880</td>\n",
       "    </tr>\n",
       "    <tr>\n",
       "      <th>age_scaled</th>\n",
       "      <td>0.018760</td>\n",
       "      <td>0.020216</td>\n",
       "      <td>1.000000</td>\n",
       "      <td>0.004650</td>\n",
       "      <td>-0.018578</td>\n",
       "      <td>0.018341</td>\n",
       "    </tr>\n",
       "    <tr>\n",
       "      <th>fashion_news_frequency_Monthly</th>\n",
       "      <td>0.032688</td>\n",
       "      <td>0.031154</td>\n",
       "      <td>0.004650</td>\n",
       "      <td>1.000000</td>\n",
       "      <td>-0.033770</td>\n",
       "      <td>-0.018852</td>\n",
       "    </tr>\n",
       "    <tr>\n",
       "      <th>fashion_news_frequency_NONE</th>\n",
       "      <td>-0.994511</td>\n",
       "      <td>-0.974137</td>\n",
       "      <td>-0.018578</td>\n",
       "      <td>-0.033770</td>\n",
       "      <td>1.000000</td>\n",
       "      <td>-0.998615</td>\n",
       "    </tr>\n",
       "    <tr>\n",
       "      <th>fashion_news_frequency_Regularly</th>\n",
       "      <td>0.993181</td>\n",
       "      <td>0.972880</td>\n",
       "      <td>0.018341</td>\n",
       "      <td>-0.018852</td>\n",
       "      <td>-0.998615</td>\n",
       "      <td>1.000000</td>\n",
       "    </tr>\n",
       "  </tbody>\n",
       "</table>\n",
       "</div>"
      ],
      "text/plain": [
       "                                        FN    Active  age_scaled  \\\n",
       "FN                                1.000000  0.978589    0.018760   \n",
       "Active                            0.978589  1.000000    0.020216   \n",
       "age_scaled                        0.018760  0.020216    1.000000   \n",
       "fashion_news_frequency_Monthly    0.032688  0.031154    0.004650   \n",
       "fashion_news_frequency_NONE      -0.994511 -0.974137   -0.018578   \n",
       "fashion_news_frequency_Regularly  0.993181  0.972880    0.018341   \n",
       "\n",
       "                                  fashion_news_frequency_Monthly  \\\n",
       "FN                                                      0.032688   \n",
       "Active                                                  0.031154   \n",
       "age_scaled                                              0.004650   \n",
       "fashion_news_frequency_Monthly                          1.000000   \n",
       "fashion_news_frequency_NONE                            -0.033770   \n",
       "fashion_news_frequency_Regularly                       -0.018852   \n",
       "\n",
       "                                  fashion_news_frequency_NONE  \\\n",
       "FN                                                  -0.994511   \n",
       "Active                                              -0.974137   \n",
       "age_scaled                                          -0.018578   \n",
       "fashion_news_frequency_Monthly                      -0.033770   \n",
       "fashion_news_frequency_NONE                          1.000000   \n",
       "fashion_news_frequency_Regularly                    -0.998615   \n",
       "\n",
       "                                  fashion_news_frequency_Regularly  \n",
       "FN                                                        0.993181  \n",
       "Active                                                    0.972880  \n",
       "age_scaled                                                0.018341  \n",
       "fashion_news_frequency_Monthly                           -0.018852  \n",
       "fashion_news_frequency_NONE                              -0.998615  \n",
       "fashion_news_frequency_Regularly                          1.000000  "
      ]
     },
     "execution_count": 50,
     "metadata": {},
     "output_type": "execute_result"
    }
   ],
   "source": [
    "customers_num_df.corr()\n"
   ]
  },
  {
   "cell_type": "code",
   "execution_count": 51,
   "id": "5d62e02b",
   "metadata": {},
   "outputs": [
    {
     "data": {
      "image/png": "[encoded data removed]",
      "text/plain": [
       "<Figure size 640x480 with 2 Axes>"
      ]
     },
     "metadata": {},
     "output_type": "display_data"
    }
   ],
   "source": [
    "sns.heatmap(customers_num_df.corr(), cmap ='Reds', annot = True)\n",
    "plt.title('Correlation Matrix');"
   ]
  },
  {
   "cell_type": "code",
   "execution_count": null,
   "id": "01273bf4",
   "metadata": {},
   "outputs": [],
   "source": []
  }
 ],
 "metadata": {
  "kernelspec": {
   "display_name": "Python 3 (ipykernel)",
   "language": "python",
   "name": "python3"
  },
  "language_info": {
   "codemirror_mode": {
    "name": "ipython",
    "version": 3
   },
   "file_extension": ".py",
   "mimetype": "text/x-python",
   "name": "python",
   "nbconvert_exporter": "python",
   "pygments_lexer": "ipython3",
   "version": "3.9.13"
  }
 },
 "nbformat": 4,
 "nbformat_minor": 5
}
