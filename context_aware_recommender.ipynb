{
  "cells": [
    {
      "cell_type": "markdown",
      "metadata": {
        "id": "view-in-github",
        "colab_type": "text"
      },
      "source": [
        "<a href=\"https://colab.research.google.com/github/Martin-Msb/context-aware-recommendation/blob/main/context_aware_recommender.ipynb\" target=\"_parent\"><img src=\"https://colab.research.google.com/assets/colab-badge.svg\" alt=\"Open In Colab\"/></a>"
      ]
    },
    {
      "cell_type": "markdown",
      "id": "a7940b54",
      "metadata": {
        "id": "a7940b54"
      },
      "source": [
        "### This research notebook is part of DAMI II course at DSV\n",
        "\n",
        "### Authors: © 2022 Martin Masaba & Edda Waciira"
      ]
    },
    {
      "cell_type": "markdown",
      "source": [
        "Install Kaggle library"
      ],
      "metadata": {
        "id": "yYdFGkvzLueC"
      },
      "id": "yYdFGkvzLueC"
    },
    {
      "cell_type": "code",
      "source": [
        "!pip install kaggle"
      ],
      "metadata": {
        "id": "7zTGv9HyLshF",
        "outputId": "805d8986-076b-49bf-c721-1d4bd5456406",
        "colab": {
          "base_uri": "https://localhost:8080/"
        }
      },
      "id": "7zTGv9HyLshF",
      "execution_count": 1,
      "outputs": [
        {
          "output_type": "stream",
          "name": "stdout",
          "text": [
            "Looking in indexes: https://pypi.org/simple, https://us-python.pkg.dev/colab-wheels/public/simple/\n",
            "Requirement already satisfied: kaggle in /usr/local/lib/python3.8/dist-packages (1.5.12)\n",
            "Requirement already satisfied: python-dateutil in /usr/local/lib/python3.8/dist-packages (from kaggle) (2.8.2)\n",
            "Requirement already satisfied: urllib3 in /usr/local/lib/python3.8/dist-packages (from kaggle) (1.24.3)\n",
            "Requirement already satisfied: six>=1.10 in /usr/local/lib/python3.8/dist-packages (from kaggle) (1.15.0)\n",
            "Requirement already satisfied: requests in /usr/local/lib/python3.8/dist-packages (from kaggle) (2.23.0)\n",
            "Requirement already satisfied: python-slugify in /usr/local/lib/python3.8/dist-packages (from kaggle) (7.0.0)\n",
            "Requirement already satisfied: certifi in /usr/local/lib/python3.8/dist-packages (from kaggle) (2022.12.7)\n",
            "Requirement already satisfied: tqdm in /usr/local/lib/python3.8/dist-packages (from kaggle) (4.64.1)\n",
            "Requirement already satisfied: text-unidecode>=1.3 in /usr/local/lib/python3.8/dist-packages (from python-slugify->kaggle) (1.3)\n",
            "Requirement already satisfied: idna<3,>=2.5 in /usr/local/lib/python3.8/dist-packages (from requests->kaggle) (2.10)\n",
            "Requirement already satisfied: chardet<4,>=3.0.2 in /usr/local/lib/python3.8/dist-packages (from requests->kaggle) (3.0.4)\n"
          ]
        }
      ]
    },
    {
      "cell_type": "code",
      "source": [
        "from google.colab import drive"
      ],
      "metadata": {
        "id": "EByS4kX1MCXu"
      },
      "id": "EByS4kX1MCXu",
      "execution_count": 3,
      "outputs": []
    },
    {
      "cell_type": "code",
      "source": [
        "#Mount google drive\n",
        "drive.mount('/content/drive')"
      ],
      "metadata": {
        "id": "VAQYqnV8M6Vj",
        "outputId": "605503f9-6a6b-4029-ff3b-33c75674f36e",
        "colab": {
          "base_uri": "https://localhost:8080/"
        }
      },
      "id": "VAQYqnV8M6Vj",
      "execution_count": 5,
      "outputs": [
        {
          "output_type": "stream",
          "name": "stdout",
          "text": [
            "Mounted at /content/drive\n"
          ]
        }
      ]
    },
    {
      "cell_type": "code",
      "source": [
        "!mkdir ~/.kaggle"
      ],
      "metadata": {
        "id": "Ere2ElZjNX0e"
      },
      "id": "Ere2ElZjNX0e",
      "execution_count": null,
      "outputs": []
    },
    {
      "cell_type": "code",
      "execution_count": null,
      "id": "77bf85cf",
      "metadata": {
        "id": "77bf85cf"
      },
      "outputs": [],
      "source": [
        "import numpy as np \n",
        "import pandas as pd\n",
        "\n",
        "import matplotlib.pyplot as plt \n",
        "import seaborn as sns\n",
        "%matplotlib inline"
      ]
    },
    {
      "cell_type": "code",
      "execution_count": null,
      "id": "39d186e0",
      "metadata": {
        "id": "39d186e0"
      },
      "outputs": [],
      "source": [
        "customers_df = pd.read_csv(r\"C:\\Users\\AdminPC\\Edda Stuff\\Edda Data Scientist\\Python Projects\\datasets\\customers.csv\")"
      ]
    },
    {
      "cell_type": "code",
      "execution_count": null,
      "id": "c2a27055",
      "metadata": {
        "id": "c2a27055",
        "outputId": "b6c8c03c-c4f9-4ba1-d312-02eec0f7058f"
      },
      "outputs": [
        {
          "data": {
            "text/html": [
              "<div>\n",
              "<style scoped>\n",
              "    .dataframe tbody tr th:only-of-type {\n",
              "        vertical-align: middle;\n",
              "    }\n",
              "\n",
              "    .dataframe tbody tr th {\n",
              "        vertical-align: top;\n",
              "    }\n",
              "\n",
              "    .dataframe thead th {\n",
              "        text-align: right;\n",
              "    }\n",
              "</style>\n",
              "<table border=\"1\" class=\"dataframe\">\n",
              "  <thead>\n",
              "    <tr style=\"text-align: right;\">\n",
              "      <th></th>\n",
              "      <th>customer_id</th>\n",
              "      <th>FN</th>\n",
              "      <th>Active</th>\n",
              "      <th>club_member_status</th>\n",
              "      <th>fashion_news_frequency</th>\n",
              "      <th>age</th>\n",
              "      <th>postal_code</th>\n",
              "    </tr>\n",
              "  </thead>\n",
              "  <tbody>\n",
              "    <tr>\n",
              "      <th>0</th>\n",
              "      <td>00000dbacae5abe5e23885899a1fa44253a17956c6d1c3...</td>\n",
              "      <td>NaN</td>\n",
              "      <td>NaN</td>\n",
              "      <td>ACTIVE</td>\n",
              "      <td>NONE</td>\n",
              "      <td>49.0</td>\n",
              "      <td>52043ee2162cf5aa7ee79974281641c6f11a68d276429a...</td>\n",
              "    </tr>\n",
              "    <tr>\n",
              "      <th>1</th>\n",
              "      <td>0000423b00ade91418cceaf3b26c6af3dd342b51fd051e...</td>\n",
              "      <td>NaN</td>\n",
              "      <td>NaN</td>\n",
              "      <td>ACTIVE</td>\n",
              "      <td>NONE</td>\n",
              "      <td>25.0</td>\n",
              "      <td>2973abc54daa8a5f8ccfe9362140c63247c5eee03f1d93...</td>\n",
              "    </tr>\n",
              "    <tr>\n",
              "      <th>2</th>\n",
              "      <td>000058a12d5b43e67d225668fa1f8d618c13dc232df0ca...</td>\n",
              "      <td>NaN</td>\n",
              "      <td>NaN</td>\n",
              "      <td>ACTIVE</td>\n",
              "      <td>NONE</td>\n",
              "      <td>24.0</td>\n",
              "      <td>64f17e6a330a85798e4998f62d0930d14db8db1c054af6...</td>\n",
              "    </tr>\n",
              "    <tr>\n",
              "      <th>3</th>\n",
              "      <td>00005ca1c9ed5f5146b52ac8639a40ca9d57aeff4d1bd2...</td>\n",
              "      <td>NaN</td>\n",
              "      <td>NaN</td>\n",
              "      <td>ACTIVE</td>\n",
              "      <td>NONE</td>\n",
              "      <td>54.0</td>\n",
              "      <td>5d36574f52495e81f019b680c843c443bd343d5ca5b1c2...</td>\n",
              "    </tr>\n",
              "    <tr>\n",
              "      <th>4</th>\n",
              "      <td>00006413d8573cd20ed7128e53b7b13819fe5cfc2d801f...</td>\n",
              "      <td>1.0</td>\n",
              "      <td>1.0</td>\n",
              "      <td>ACTIVE</td>\n",
              "      <td>Regularly</td>\n",
              "      <td>52.0</td>\n",
              "      <td>25fa5ddee9aac01b35208d01736e57942317d756b32ddd...</td>\n",
              "    </tr>\n",
              "    <tr>\n",
              "      <th>5</th>\n",
              "      <td>000064249685c11552da43ef22a5030f35a147f723d5b0...</td>\n",
              "      <td>NaN</td>\n",
              "      <td>NaN</td>\n",
              "      <td>NaN</td>\n",
              "      <td>NaN</td>\n",
              "      <td>NaN</td>\n",
              "      <td>2c29ae653a9282cce4151bd87643c907644e09541abc28...</td>\n",
              "    </tr>\n",
              "    <tr>\n",
              "      <th>6</th>\n",
              "      <td>0000757967448a6cb83efb3ea7a3fb9d418ac7adf2379d...</td>\n",
              "      <td>NaN</td>\n",
              "      <td>NaN</td>\n",
              "      <td>ACTIVE</td>\n",
              "      <td>NONE</td>\n",
              "      <td>20.0</td>\n",
              "      <td>fe7b8e2b3fafb89ca90db17ffeeae0fd29b795d803f749...</td>\n",
              "    </tr>\n",
              "    <tr>\n",
              "      <th>7</th>\n",
              "      <td>00007d2de826758b65a93dd24ce629ed66842531df6699...</td>\n",
              "      <td>1.0</td>\n",
              "      <td>1.0</td>\n",
              "      <td>ACTIVE</td>\n",
              "      <td>Regularly</td>\n",
              "      <td>32.0</td>\n",
              "      <td>8d6f45050876d059c830a0fe63f1a4c022de279bb68ce3...</td>\n",
              "    </tr>\n",
              "    <tr>\n",
              "      <th>8</th>\n",
              "      <td>00007e8d4e54114b5b2a9b51586325a8d0fa74ea23ef77...</td>\n",
              "      <td>NaN</td>\n",
              "      <td>NaN</td>\n",
              "      <td>ACTIVE</td>\n",
              "      <td>NONE</td>\n",
              "      <td>20.0</td>\n",
              "      <td>2c29ae653a9282cce4151bd87643c907644e09541abc28...</td>\n",
              "    </tr>\n",
              "    <tr>\n",
              "      <th>9</th>\n",
              "      <td>00008469a21b50b3d147c97135e25b4201a8c58997f787...</td>\n",
              "      <td>NaN</td>\n",
              "      <td>NaN</td>\n",
              "      <td>ACTIVE</td>\n",
              "      <td>NONE</td>\n",
              "      <td>20.0</td>\n",
              "      <td>2c29ae653a9282cce4151bd87643c907644e09541abc28...</td>\n",
              "    </tr>\n",
              "    <tr>\n",
              "      <th>10</th>\n",
              "      <td>0000945f66de1a11d9447609b8b41b1bc987ba185a5496...</td>\n",
              "      <td>NaN</td>\n",
              "      <td>NaN</td>\n",
              "      <td>ACTIVE</td>\n",
              "      <td>NONE</td>\n",
              "      <td>29.0</td>\n",
              "      <td>d93e1aaecdebf9f71ab42cc0c5fdbb378514c94971ad1c...</td>\n",
              "    </tr>\n",
              "    <tr>\n",
              "      <th>11</th>\n",
              "      <td>000097d91384a0c14893c09ed047a963c4fc6a5c021044...</td>\n",
              "      <td>NaN</td>\n",
              "      <td>NaN</td>\n",
              "      <td>ACTIVE</td>\n",
              "      <td>NONE</td>\n",
              "      <td>31.0</td>\n",
              "      <td>2c29ae653a9282cce4151bd87643c907644e09541abc28...</td>\n",
              "    </tr>\n",
              "    <tr>\n",
              "      <th>12</th>\n",
              "      <td>00009c2aeae8761f738e4f937d9be6b49861a66339c2b1...</td>\n",
              "      <td>NaN</td>\n",
              "      <td>NaN</td>\n",
              "      <td>ACTIVE</td>\n",
              "      <td>NONE</td>\n",
              "      <td>49.0</td>\n",
              "      <td>7e2caa18837edc6a7ad542c4c45f5a3a59da2a6433f540...</td>\n",
              "    </tr>\n",
              "    <tr>\n",
              "      <th>13</th>\n",
              "      <td>00009d946eec3ea54add5ba56d5210ea898def4b46c685...</td>\n",
              "      <td>1.0</td>\n",
              "      <td>1.0</td>\n",
              "      <td>ACTIVE</td>\n",
              "      <td>Regularly</td>\n",
              "      <td>56.0</td>\n",
              "      <td>b31984b20a8c478de38eaf113c581ff64e63c4242e607b...</td>\n",
              "    </tr>\n",
              "    <tr>\n",
              "      <th>14</th>\n",
              "      <td>0000ae1bbb25e04bdc7e35f718e852adfb3fbb72ef38b3...</td>\n",
              "      <td>1.0</td>\n",
              "      <td>1.0</td>\n",
              "      <td>ACTIVE</td>\n",
              "      <td>Regularly</td>\n",
              "      <td>29.0</td>\n",
              "      <td>2c29ae653a9282cce4151bd87643c907644e09541abc28...</td>\n",
              "    </tr>\n",
              "  </tbody>\n",
              "</table>\n",
              "</div>"
            ],
            "text/plain": [
              "                                          customer_id   FN  Active  \\\n",
              "0   00000dbacae5abe5e23885899a1fa44253a17956c6d1c3...  NaN     NaN   \n",
              "1   0000423b00ade91418cceaf3b26c6af3dd342b51fd051e...  NaN     NaN   \n",
              "2   000058a12d5b43e67d225668fa1f8d618c13dc232df0ca...  NaN     NaN   \n",
              "3   00005ca1c9ed5f5146b52ac8639a40ca9d57aeff4d1bd2...  NaN     NaN   \n",
              "4   00006413d8573cd20ed7128e53b7b13819fe5cfc2d801f...  1.0     1.0   \n",
              "5   000064249685c11552da43ef22a5030f35a147f723d5b0...  NaN     NaN   \n",
              "6   0000757967448a6cb83efb3ea7a3fb9d418ac7adf2379d...  NaN     NaN   \n",
              "7   00007d2de826758b65a93dd24ce629ed66842531df6699...  1.0     1.0   \n",
              "8   00007e8d4e54114b5b2a9b51586325a8d0fa74ea23ef77...  NaN     NaN   \n",
              "9   00008469a21b50b3d147c97135e25b4201a8c58997f787...  NaN     NaN   \n",
              "10  0000945f66de1a11d9447609b8b41b1bc987ba185a5496...  NaN     NaN   \n",
              "11  000097d91384a0c14893c09ed047a963c4fc6a5c021044...  NaN     NaN   \n",
              "12  00009c2aeae8761f738e4f937d9be6b49861a66339c2b1...  NaN     NaN   \n",
              "13  00009d946eec3ea54add5ba56d5210ea898def4b46c685...  1.0     1.0   \n",
              "14  0000ae1bbb25e04bdc7e35f718e852adfb3fbb72ef38b3...  1.0     1.0   \n",
              "\n",
              "   club_member_status fashion_news_frequency   age  \\\n",
              "0              ACTIVE                   NONE  49.0   \n",
              "1              ACTIVE                   NONE  25.0   \n",
              "2              ACTIVE                   NONE  24.0   \n",
              "3              ACTIVE                   NONE  54.0   \n",
              "4              ACTIVE              Regularly  52.0   \n",
              "5                 NaN                    NaN   NaN   \n",
              "6              ACTIVE                   NONE  20.0   \n",
              "7              ACTIVE              Regularly  32.0   \n",
              "8              ACTIVE                   NONE  20.0   \n",
              "9              ACTIVE                   NONE  20.0   \n",
              "10             ACTIVE                   NONE  29.0   \n",
              "11             ACTIVE                   NONE  31.0   \n",
              "12             ACTIVE                   NONE  49.0   \n",
              "13             ACTIVE              Regularly  56.0   \n",
              "14             ACTIVE              Regularly  29.0   \n",
              "\n",
              "                                          postal_code  \n",
              "0   52043ee2162cf5aa7ee79974281641c6f11a68d276429a...  \n",
              "1   2973abc54daa8a5f8ccfe9362140c63247c5eee03f1d93...  \n",
              "2   64f17e6a330a85798e4998f62d0930d14db8db1c054af6...  \n",
              "3   5d36574f52495e81f019b680c843c443bd343d5ca5b1c2...  \n",
              "4   25fa5ddee9aac01b35208d01736e57942317d756b32ddd...  \n",
              "5   2c29ae653a9282cce4151bd87643c907644e09541abc28...  \n",
              "6   fe7b8e2b3fafb89ca90db17ffeeae0fd29b795d803f749...  \n",
              "7   8d6f45050876d059c830a0fe63f1a4c022de279bb68ce3...  \n",
              "8   2c29ae653a9282cce4151bd87643c907644e09541abc28...  \n",
              "9   2c29ae653a9282cce4151bd87643c907644e09541abc28...  \n",
              "10  d93e1aaecdebf9f71ab42cc0c5fdbb378514c94971ad1c...  \n",
              "11  2c29ae653a9282cce4151bd87643c907644e09541abc28...  \n",
              "12  7e2caa18837edc6a7ad542c4c45f5a3a59da2a6433f540...  \n",
              "13  b31984b20a8c478de38eaf113c581ff64e63c4242e607b...  \n",
              "14  2c29ae653a9282cce4151bd87643c907644e09541abc28...  "
            ]
          },
          "execution_count": 3,
          "metadata": {},
          "output_type": "execute_result"
        }
      ],
      "source": [
        "customers_df.head(15)"
      ]
    },
    {
      "cell_type": "code",
      "execution_count": null,
      "id": "ea198ada",
      "metadata": {
        "id": "ea198ada",
        "outputId": "11953278-8d78-4c4b-935e-2b9aaab74d8f"
      },
      "outputs": [
        {
          "name": "stdout",
          "output_type": "stream",
          "text": [
            "<class 'pandas.core.frame.DataFrame'>\n",
            "RangeIndex: 1371980 entries, 0 to 1371979\n",
            "Data columns (total 7 columns):\n",
            " #   Column                  Non-Null Count    Dtype  \n",
            "---  ------                  --------------    -----  \n",
            " 0   customer_id             1371980 non-null  object \n",
            " 1   FN                      476930 non-null   float64\n",
            " 2   Active                  464404 non-null   float64\n",
            " 3   club_member_status      1365918 non-null  object \n",
            " 4   fashion_news_frequency  1355971 non-null  object \n",
            " 5   age                     1356119 non-null  float64\n",
            " 6   postal_code             1371980 non-null  object \n",
            "dtypes: float64(3), object(4)\n",
            "memory usage: 73.3+ MB\n"
          ]
        }
      ],
      "source": [
        "customers_df.info()"
      ]
    },
    {
      "cell_type": "code",
      "execution_count": null,
      "id": "51e27dd3",
      "metadata": {
        "id": "51e27dd3",
        "outputId": "0bc8d316-6f95-4471-b25f-922662fd69c1"
      },
      "outputs": [
        {
          "data": {
            "text/plain": [
              "customer_id                    0\n",
              "FN                        895050\n",
              "Active                    907576\n",
              "club_member_status          6062\n",
              "fashion_news_frequency     16009\n",
              "age                        15861\n",
              "postal_code                    0\n",
              "dtype: int64"
            ]
          },
          "execution_count": 5,
          "metadata": {},
          "output_type": "execute_result"
        }
      ],
      "source": [
        "customers_df.isnull().sum()"
      ]
    },
    {
      "cell_type": "code",
      "execution_count": null,
      "id": "254723de",
      "metadata": {
        "id": "254723de",
        "outputId": "e06c3578-5bb0-4fec-abf7-04b75054eda0"
      },
      "outputs": [
        {
          "data": {
            "text/html": [
              "<div>\n",
              "<style scoped>\n",
              "    .dataframe tbody tr th:only-of-type {\n",
              "        vertical-align: middle;\n",
              "    }\n",
              "\n",
              "    .dataframe tbody tr th {\n",
              "        vertical-align: top;\n",
              "    }\n",
              "\n",
              "    .dataframe thead th {\n",
              "        text-align: right;\n",
              "    }\n",
              "</style>\n",
              "<table border=\"1\" class=\"dataframe\">\n",
              "  <thead>\n",
              "    <tr style=\"text-align: right;\">\n",
              "      <th></th>\n",
              "      <th>club_member_status</th>\n",
              "    </tr>\n",
              "  </thead>\n",
              "  <tbody>\n",
              "    <tr>\n",
              "      <th>ACTIVE</th>\n",
              "      <td>92.748509</td>\n",
              "    </tr>\n",
              "    <tr>\n",
              "      <th>PRE-CREATE</th>\n",
              "      <td>6.775609</td>\n",
              "    </tr>\n",
              "    <tr>\n",
              "      <th>LEFT CLUB</th>\n",
              "      <td>0.034038</td>\n",
              "    </tr>\n",
              "  </tbody>\n",
              "</table>\n",
              "</div>"
            ],
            "text/plain": [
              "            club_member_status\n",
              "ACTIVE               92.748509\n",
              "PRE-CREATE            6.775609\n",
              "LEFT CLUB             0.034038"
            ]
          },
          "execution_count": 6,
          "metadata": {},
          "output_type": "execute_result"
        }
      ],
      "source": [
        "member_status = pd.DataFrame(customers_df['club_member_status'].value_counts()/customers_df['club_member_status'].shape[0] * 100)\n",
        "member_status"
      ]
    },
    {
      "cell_type": "markdown",
      "id": "52eed9a9",
      "metadata": {
        "id": "52eed9a9"
      },
      "source": [
        "'pre-create' and 'left-club' seems to be very small groups, so we can drop the rows"
      ]
    },
    {
      "cell_type": "code",
      "execution_count": null,
      "id": "e401af79",
      "metadata": {
        "id": "e401af79",
        "outputId": "3528f0d3-3739-4592-d2f1-aa85cf630df0"
      },
      "outputs": [
        {
          "data": {
            "text/plain": [
              "ACTIVE    1272491\n",
              "Name: club_member_status, dtype: int64"
            ]
          },
          "execution_count": 7,
          "metadata": {},
          "output_type": "execute_result"
        }
      ],
      "source": [
        "customers_df.drop(customers_df.index[customers_df['club_member_status'] != 'ACTIVE'], inplace=True)\n",
        "\n",
        "customers_df.club_member_status.value_counts()"
      ]
    },
    {
      "cell_type": "code",
      "execution_count": null,
      "id": "709cdd02",
      "metadata": {
        "id": "709cdd02",
        "outputId": "d16b40a3-42c4-43e6-dfdf-ba6092eac6aa"
      },
      "outputs": [
        {
          "name": "stdout",
          "output_type": "stream",
          "text": [
            "<class 'pandas.core.frame.DataFrame'>\n",
            "Int64Index: 1272491 entries, 0 to 1371978\n",
            "Data columns (total 7 columns):\n",
            " #   Column                  Non-Null Count    Dtype  \n",
            "---  ------                  --------------    -----  \n",
            " 0   customer_id             1272491 non-null  object \n",
            " 1   FN                      470826 non-null   float64\n",
            " 2   Active                  458452 non-null   float64\n",
            " 3   club_member_status      1272491 non-null  object \n",
            " 4   fashion_news_frequency  1260566 non-null  object \n",
            " 5   age                     1266255 non-null  float64\n",
            " 6   postal_code             1272491 non-null  object \n",
            "dtypes: float64(3), object(4)\n",
            "memory usage: 77.7+ MB\n"
          ]
        }
      ],
      "source": [
        "customers_df.info()"
      ]
    },
    {
      "cell_type": "code",
      "execution_count": null,
      "id": "9e5e850c",
      "metadata": {
        "id": "9e5e850c",
        "outputId": "8eadc1e4-cb43-4cf2-8e67-558547d26b76"
      },
      "outputs": [
        {
          "data": {
            "text/html": [
              "<div>\n",
              "<style scoped>\n",
              "    .dataframe tbody tr th:only-of-type {\n",
              "        vertical-align: middle;\n",
              "    }\n",
              "\n",
              "    .dataframe tbody tr th {\n",
              "        vertical-align: top;\n",
              "    }\n",
              "\n",
              "    .dataframe thead th {\n",
              "        text-align: right;\n",
              "    }\n",
              "</style>\n",
              "<table border=\"1\" class=\"dataframe\">\n",
              "  <thead>\n",
              "    <tr style=\"text-align: right;\">\n",
              "      <th></th>\n",
              "      <th>fashion_news_frequency</th>\n",
              "    </tr>\n",
              "  </thead>\n",
              "  <tbody>\n",
              "    <tr>\n",
              "      <th>NONE</th>\n",
              "      <td>61.963660</td>\n",
              "    </tr>\n",
              "    <tr>\n",
              "      <th>Regularly</th>\n",
              "      <td>37.037904</td>\n",
              "    </tr>\n",
              "    <tr>\n",
              "      <th>Monthly</th>\n",
              "      <td>0.061140</td>\n",
              "    </tr>\n",
              "    <tr>\n",
              "      <th>None</th>\n",
              "      <td>0.000157</td>\n",
              "    </tr>\n",
              "  </tbody>\n",
              "</table>\n",
              "</div>"
            ],
            "text/plain": [
              "           fashion_news_frequency\n",
              "NONE                    61.963660\n",
              "Regularly               37.037904\n",
              "Monthly                  0.061140\n",
              "None                     0.000157"
            ]
          },
          "execution_count": 9,
          "metadata": {},
          "output_type": "execute_result"
        }
      ],
      "source": [
        "fashion_news = pd.DataFrame(customers_df['fashion_news_frequency'].value_counts()/customers_df['fashion_news_frequency'].shape[0] * 100)\n",
        "fashion_news"
      ]
    },
    {
      "cell_type": "markdown",
      "id": "7efe8619",
      "metadata": {
        "id": "7efe8619"
      },
      "source": [
        "'Monthly' and 'None' rows are few so we can drop them"
      ]
    },
    {
      "cell_type": "code",
      "execution_count": null,
      "id": "69fb9cfd",
      "metadata": {
        "id": "69fb9cfd",
        "outputId": "a67fe9c7-3100-4487-9096-529928f7d42a"
      },
      "outputs": [
        {
          "data": {
            "text/plain": [
              "NONE         788482\n",
              "Regularly    471304\n",
              "Name: fashion_news_frequency, dtype: int64"
            ]
          },
          "execution_count": 10,
          "metadata": {},
          "output_type": "execute_result"
        }
      ],
      "source": [
        "customers_df.drop(customers_df.index[customers_df['fashion_news_frequency'] == 'None'], inplace=True)\n",
        "customers_df.drop(customers_df.index[customers_df['fashion_news_frequency'] == 'Monthly'], inplace=True)\n",
        "customers_df.fashion_news_frequency.value_counts()"
      ]
    },
    {
      "cell_type": "code",
      "execution_count": null,
      "id": "6d6fb6a0",
      "metadata": {
        "id": "6d6fb6a0",
        "outputId": "077c382f-aedd-4706-ac54-aabf7369c205"
      },
      "outputs": [
        {
          "data": {
            "text/plain": [
              "array(['NONE', 'Regularly', nan], dtype=object)"
            ]
          },
          "execution_count": 11,
          "metadata": {},
          "output_type": "execute_result"
        }
      ],
      "source": [
        "customers_df.fashion_news_frequency.unique()"
      ]
    },
    {
      "cell_type": "code",
      "execution_count": null,
      "id": "a2823b14",
      "metadata": {
        "id": "a2823b14",
        "outputId": "80821335-8a04-4394-a9db-d0b0c4df8656"
      },
      "outputs": [
        {
          "name": "stdout",
          "output_type": "stream",
          "text": [
            "The average age is 36.075925580572054, the max age is 99.0 and the min age is 16.0\n"
          ]
        }
      ],
      "source": [
        "avg_age = customers_df.age.mean()\n",
        "max_age = customers_df.age.max()\n",
        "min_age = customers_df.age.min()\n",
        "\n",
        "print('The average age is {}, the max age is {} and the min age is {}'\n",
        "      .format(avg_age, max_age, min_age))\n"
      ]
    },
    {
      "cell_type": "code",
      "execution_count": null,
      "id": "aac0eee8",
      "metadata": {
        "id": "aac0eee8",
        "outputId": "68bbcc19-77bc-491f-e7be-0ece7115dba9"
      },
      "outputs": [
        {
          "data": {
            "text/plain": [
              "<AxesSubplot:title={'center':'Customers Ages'}, xlabel='Age Bins', ylabel='Count'>"
            ]
          },
          "execution_count": 13,
          "metadata": {},
          "output_type": "execute_result"
        },
        {
          "data": {
            "image/png": "[encoded data removed]",
            "text/plain": [
              "<Figure size 640x480 with 1 Axes>"
            ]
          },
          "metadata": {},
          "output_type": "display_data"
        }
      ],
      "source": [
        "bins = 0, 19, 29, 39, 49, 59, 69, 79,89,100\n",
        "customers_df['age_bins'] = pd.cut(customers_df.age, bins, labels = ['0-19','20-29','30-39','40-49','50-59','60-69','70-79','80-89','90-100'])\n",
        "\n",
        "\n",
        "customers_df.age_bins.value_counts().plot(kind = 'bar', title = 'Customers Ages', xlabel = 'Age Bins', ylabel= 'Count')\n"
      ]
    },
    {
      "cell_type": "code",
      "execution_count": null,
      "id": "91c14018",
      "metadata": {
        "id": "91c14018",
        "outputId": "ba35ce82-b57a-49ae-f36e-d2360932fa4a"
      },
      "outputs": [
        {
          "data": {
            "text/html": [
              "<div>\n",
              "<style scoped>\n",
              "    .dataframe tbody tr th:only-of-type {\n",
              "        vertical-align: middle;\n",
              "    }\n",
              "\n",
              "    .dataframe tbody tr th {\n",
              "        vertical-align: top;\n",
              "    }\n",
              "\n",
              "    .dataframe thead th {\n",
              "        text-align: right;\n",
              "    }\n",
              "</style>\n",
              "<table border=\"1\" class=\"dataframe\">\n",
              "  <thead>\n",
              "    <tr style=\"text-align: right;\">\n",
              "      <th></th>\n",
              "      <th>age_bins</th>\n",
              "    </tr>\n",
              "  </thead>\n",
              "  <tbody>\n",
              "    <tr>\n",
              "      <th>20-29</th>\n",
              "      <td>39.669469</td>\n",
              "    </tr>\n",
              "    <tr>\n",
              "      <th>30-39</th>\n",
              "      <td>16.915321</td>\n",
              "    </tr>\n",
              "    <tr>\n",
              "      <th>50-59</th>\n",
              "      <td>16.201794</td>\n",
              "    </tr>\n",
              "    <tr>\n",
              "      <th>40-49</th>\n",
              "      <td>14.594354</td>\n",
              "    </tr>\n",
              "    <tr>\n",
              "      <th>0-19</th>\n",
              "      <td>5.525705</td>\n",
              "    </tr>\n",
              "    <tr>\n",
              "      <th>60-69</th>\n",
              "      <td>5.229333</td>\n",
              "    </tr>\n",
              "    <tr>\n",
              "      <th>70-79</th>\n",
              "      <td>1.267033</td>\n",
              "    </tr>\n",
              "    <tr>\n",
              "      <th>80-89</th>\n",
              "      <td>0.100180</td>\n",
              "    </tr>\n",
              "    <tr>\n",
              "      <th>90-100</th>\n",
              "      <td>0.006527</td>\n",
              "    </tr>\n",
              "  </tbody>\n",
              "</table>\n",
              "</div>"
            ],
            "text/plain": [
              "         age_bins\n",
              "20-29   39.669469\n",
              "30-39   16.915321\n",
              "50-59   16.201794\n",
              "40-49   14.594354\n",
              "0-19     5.525705\n",
              "60-69    5.229333\n",
              "70-79    1.267033\n",
              "80-89    0.100180\n",
              "90-100   0.006527"
            ]
          },
          "execution_count": 14,
          "metadata": {},
          "output_type": "execute_result"
        }
      ],
      "source": [
        "#Should drop some ages here\n",
        "age_bins = pd.DataFrame(customers_df['age_bins'].value_counts()/customers_df['age_bins'].shape[0] * 100)\n",
        "age_bins"
      ]
    },
    {
      "cell_type": "code",
      "execution_count": null,
      "id": "63fcbbee",
      "metadata": {
        "id": "63fcbbee"
      },
      "outputs": [],
      "source": [
        "customers_df = customers_df.drop(customers_df[(customers_df['age'] >= 50) | (customers_df['age'] <= 20)].index)"
      ]
    },
    {
      "cell_type": "code",
      "execution_count": null,
      "id": "b2309f85",
      "metadata": {
        "id": "b2309f85",
        "outputId": "a91d166a-85c4-49c9-8ebe-7fd52ba38aa5"
      },
      "outputs": [
        {
          "data": {
            "text/plain": [
              "20-29     450858\n",
              "30-39     215114\n",
              "40-49     185598\n",
              "0-19           0\n",
              "50-59          0\n",
              "60-69          0\n",
              "70-79          0\n",
              "80-89          0\n",
              "90-100         0\n",
              "Name: age_bins, dtype: int64"
            ]
          },
          "execution_count": 16,
          "metadata": {},
          "output_type": "execute_result"
        }
      ],
      "source": [
        "customers_df.age_bins.value_counts()"
      ]
    },
    {
      "cell_type": "code",
      "execution_count": null,
      "id": "1d4903ce",
      "metadata": {
        "id": "1d4903ce",
        "outputId": "5be7efe4-5b47-466d-ba59-7f017ba3fa0e"
      },
      "outputs": [
        {
          "data": {
            "text/html": [
              "<div>\n",
              "<style scoped>\n",
              "    .dataframe tbody tr th:only-of-type {\n",
              "        vertical-align: middle;\n",
              "    }\n",
              "\n",
              "    .dataframe tbody tr th {\n",
              "        vertical-align: top;\n",
              "    }\n",
              "\n",
              "    .dataframe thead th {\n",
              "        text-align: right;\n",
              "    }\n",
              "</style>\n",
              "<table border=\"1\" class=\"dataframe\">\n",
              "  <thead>\n",
              "    <tr style=\"text-align: right;\">\n",
              "      <th></th>\n",
              "      <th>customer_id</th>\n",
              "      <th>FN</th>\n",
              "      <th>Active</th>\n",
              "      <th>club_member_status</th>\n",
              "      <th>fashion_news_frequency</th>\n",
              "      <th>age</th>\n",
              "    </tr>\n",
              "  </thead>\n",
              "  <tbody>\n",
              "    <tr>\n",
              "      <th>0</th>\n",
              "      <td>00000dbacae5abe5e23885899a1fa44253a17956c6d1c3...</td>\n",
              "      <td>NaN</td>\n",
              "      <td>NaN</td>\n",
              "      <td>ACTIVE</td>\n",
              "      <td>NONE</td>\n",
              "      <td>49.0</td>\n",
              "    </tr>\n",
              "    <tr>\n",
              "      <th>1</th>\n",
              "      <td>0000423b00ade91418cceaf3b26c6af3dd342b51fd051e...</td>\n",
              "      <td>NaN</td>\n",
              "      <td>NaN</td>\n",
              "      <td>ACTIVE</td>\n",
              "      <td>NONE</td>\n",
              "      <td>25.0</td>\n",
              "    </tr>\n",
              "    <tr>\n",
              "      <th>2</th>\n",
              "      <td>000058a12d5b43e67d225668fa1f8d618c13dc232df0ca...</td>\n",
              "      <td>NaN</td>\n",
              "      <td>NaN</td>\n",
              "      <td>ACTIVE</td>\n",
              "      <td>NONE</td>\n",
              "      <td>24.0</td>\n",
              "    </tr>\n",
              "    <tr>\n",
              "      <th>7</th>\n",
              "      <td>00007d2de826758b65a93dd24ce629ed66842531df6699...</td>\n",
              "      <td>1.0</td>\n",
              "      <td>1.0</td>\n",
              "      <td>ACTIVE</td>\n",
              "      <td>Regularly</td>\n",
              "      <td>32.0</td>\n",
              "    </tr>\n",
              "    <tr>\n",
              "      <th>10</th>\n",
              "      <td>0000945f66de1a11d9447609b8b41b1bc987ba185a5496...</td>\n",
              "      <td>NaN</td>\n",
              "      <td>NaN</td>\n",
              "      <td>ACTIVE</td>\n",
              "      <td>NONE</td>\n",
              "      <td>29.0</td>\n",
              "    </tr>\n",
              "    <tr>\n",
              "      <th>...</th>\n",
              "      <td>...</td>\n",
              "      <td>...</td>\n",
              "      <td>...</td>\n",
              "      <td>...</td>\n",
              "      <td>...</td>\n",
              "      <td>...</td>\n",
              "    </tr>\n",
              "    <tr>\n",
              "      <th>1371973</th>\n",
              "      <td>ffffa28cd7ab5d1cbbbfe7b582b1c419270cc0539f3dae...</td>\n",
              "      <td>1.0</td>\n",
              "      <td>1.0</td>\n",
              "      <td>ACTIVE</td>\n",
              "      <td>Regularly</td>\n",
              "      <td>22.0</td>\n",
              "    </tr>\n",
              "    <tr>\n",
              "      <th>1371974</th>\n",
              "      <td>ffffaff3905b803d1c7e153a1378a5151e1f34f236ba54...</td>\n",
              "      <td>1.0</td>\n",
              "      <td>1.0</td>\n",
              "      <td>ACTIVE</td>\n",
              "      <td>Regularly</td>\n",
              "      <td>21.0</td>\n",
              "    </tr>\n",
              "    <tr>\n",
              "      <th>1371975</th>\n",
              "      <td>ffffbbf78b6eaac697a8a5dfbfd2bfa8113ee5b403e474...</td>\n",
              "      <td>NaN</td>\n",
              "      <td>NaN</td>\n",
              "      <td>ACTIVE</td>\n",
              "      <td>NONE</td>\n",
              "      <td>24.0</td>\n",
              "    </tr>\n",
              "    <tr>\n",
              "      <th>1371976</th>\n",
              "      <td>ffffcd5046a6143d29a04fb8c424ce494a76e5cdf4fab5...</td>\n",
              "      <td>NaN</td>\n",
              "      <td>NaN</td>\n",
              "      <td>ACTIVE</td>\n",
              "      <td>NONE</td>\n",
              "      <td>21.0</td>\n",
              "    </tr>\n",
              "    <tr>\n",
              "      <th>1371977</th>\n",
              "      <td>ffffcf35913a0bee60e8741cb2b4e78b8a98ee5ff2e6a1...</td>\n",
              "      <td>1.0</td>\n",
              "      <td>1.0</td>\n",
              "      <td>ACTIVE</td>\n",
              "      <td>Regularly</td>\n",
              "      <td>21.0</td>\n",
              "    </tr>\n",
              "  </tbody>\n",
              "</table>\n",
              "<p>857805 rows × 6 columns</p>\n",
              "</div>"
            ],
            "text/plain": [
              "                                               customer_id   FN  Active  \\\n",
              "0        00000dbacae5abe5e23885899a1fa44253a17956c6d1c3...  NaN     NaN   \n",
              "1        0000423b00ade91418cceaf3b26c6af3dd342b51fd051e...  NaN     NaN   \n",
              "2        000058a12d5b43e67d225668fa1f8d618c13dc232df0ca...  NaN     NaN   \n",
              "7        00007d2de826758b65a93dd24ce629ed66842531df6699...  1.0     1.0   \n",
              "10       0000945f66de1a11d9447609b8b41b1bc987ba185a5496...  NaN     NaN   \n",
              "...                                                    ...  ...     ...   \n",
              "1371973  ffffa28cd7ab5d1cbbbfe7b582b1c419270cc0539f3dae...  1.0     1.0   \n",
              "1371974  ffffaff3905b803d1c7e153a1378a5151e1f34f236ba54...  1.0     1.0   \n",
              "1371975  ffffbbf78b6eaac697a8a5dfbfd2bfa8113ee5b403e474...  NaN     NaN   \n",
              "1371976  ffffcd5046a6143d29a04fb8c424ce494a76e5cdf4fab5...  NaN     NaN   \n",
              "1371977  ffffcf35913a0bee60e8741cb2b4e78b8a98ee5ff2e6a1...  1.0     1.0   \n",
              "\n",
              "        club_member_status fashion_news_frequency   age  \n",
              "0                   ACTIVE                   NONE  49.0  \n",
              "1                   ACTIVE                   NONE  25.0  \n",
              "2                   ACTIVE                   NONE  24.0  \n",
              "7                   ACTIVE              Regularly  32.0  \n",
              "10                  ACTIVE                   NONE  29.0  \n",
              "...                    ...                    ...   ...  \n",
              "1371973             ACTIVE              Regularly  22.0  \n",
              "1371974             ACTIVE              Regularly  21.0  \n",
              "1371975             ACTIVE                   NONE  24.0  \n",
              "1371976             ACTIVE                   NONE  21.0  \n",
              "1371977             ACTIVE              Regularly  21.0  \n",
              "\n",
              "[857805 rows x 6 columns]"
            ]
          },
          "execution_count": 17,
          "metadata": {},
          "output_type": "execute_result"
        }
      ],
      "source": [
        "#drop unnecessary columns\n",
        "customers_df.drop(['age_bins', 'postal_code'], axis = 1, inplace =True)\n",
        "customers_df"
      ]
    },
    {
      "cell_type": "code",
      "execution_count": null,
      "id": "0700ade8",
      "metadata": {
        "id": "0700ade8",
        "outputId": "ea0d8b4e-cc9a-44d0-f0c8-45f9b14f4b09"
      },
      "outputs": [
        {
          "data": {
            "text/html": [
              "<div>\n",
              "<style scoped>\n",
              "    .dataframe tbody tr th:only-of-type {\n",
              "        vertical-align: middle;\n",
              "    }\n",
              "\n",
              "    .dataframe tbody tr th {\n",
              "        vertical-align: top;\n",
              "    }\n",
              "\n",
              "    .dataframe thead th {\n",
              "        text-align: right;\n",
              "    }\n",
              "</style>\n",
              "<table border=\"1\" class=\"dataframe\">\n",
              "  <thead>\n",
              "    <tr style=\"text-align: right;\">\n",
              "      <th></th>\n",
              "      <th>FN</th>\n",
              "      <th>Active</th>\n",
              "      <th>age</th>\n",
              "    </tr>\n",
              "  </thead>\n",
              "  <tbody>\n",
              "    <tr>\n",
              "      <th>count</th>\n",
              "      <td>302323.0</td>\n",
              "      <td>293971.0</td>\n",
              "      <td>851570.000000</td>\n",
              "    </tr>\n",
              "    <tr>\n",
              "      <th>mean</th>\n",
              "      <td>1.0</td>\n",
              "      <td>1.0</td>\n",
              "      <td>31.339367</td>\n",
              "    </tr>\n",
              "    <tr>\n",
              "      <th>std</th>\n",
              "      <td>0.0</td>\n",
              "      <td>0.0</td>\n",
              "      <td>8.538533</td>\n",
              "    </tr>\n",
              "    <tr>\n",
              "      <th>min</th>\n",
              "      <td>1.0</td>\n",
              "      <td>1.0</td>\n",
              "      <td>21.000000</td>\n",
              "    </tr>\n",
              "    <tr>\n",
              "      <th>25%</th>\n",
              "      <td>1.0</td>\n",
              "      <td>1.0</td>\n",
              "      <td>24.000000</td>\n",
              "    </tr>\n",
              "    <tr>\n",
              "      <th>50%</th>\n",
              "      <td>1.0</td>\n",
              "      <td>1.0</td>\n",
              "      <td>29.000000</td>\n",
              "    </tr>\n",
              "    <tr>\n",
              "      <th>75%</th>\n",
              "      <td>1.0</td>\n",
              "      <td>1.0</td>\n",
              "      <td>37.000000</td>\n",
              "    </tr>\n",
              "    <tr>\n",
              "      <th>max</th>\n",
              "      <td>1.0</td>\n",
              "      <td>1.0</td>\n",
              "      <td>49.000000</td>\n",
              "    </tr>\n",
              "  </tbody>\n",
              "</table>\n",
              "</div>"
            ],
            "text/plain": [
              "             FN    Active            age\n",
              "count  302323.0  293971.0  851570.000000\n",
              "mean        1.0       1.0      31.339367\n",
              "std         0.0       0.0       8.538533\n",
              "min         1.0       1.0      21.000000\n",
              "25%         1.0       1.0      24.000000\n",
              "50%         1.0       1.0      29.000000\n",
              "75%         1.0       1.0      37.000000\n",
              "max         1.0       1.0      49.000000"
            ]
          },
          "execution_count": 18,
          "metadata": {},
          "output_type": "execute_result"
        }
      ],
      "source": [
        "#Should drop FN & Active?\n",
        "customers_df.describe()"
      ]
    },
    {
      "cell_type": "code",
      "execution_count": null,
      "id": "28dafd92",
      "metadata": {
        "id": "28dafd92"
      },
      "outputs": [],
      "source": [
        "#Transaction Train\n",
        "#Models to evaluate\n",
        "#image data"
      ]
    }
  ],
  "metadata": {
    "kernelspec": {
      "display_name": "Python 3 (ipykernel)",
      "language": "python",
      "name": "python3"
    },
    "language_info": {
      "codemirror_mode": {
        "name": "ipython",
        "version": 3
      },
      "file_extension": ".py",
      "mimetype": "text/x-python",
      "name": "python",
      "nbconvert_exporter": "python",
      "pygments_lexer": "ipython3",
      "version": "3.9.13"
    },
    "colab": {
      "provenance": [],
      "include_colab_link": true
    }
  },
  "nbformat": 4,
  "nbformat_minor": 5
}